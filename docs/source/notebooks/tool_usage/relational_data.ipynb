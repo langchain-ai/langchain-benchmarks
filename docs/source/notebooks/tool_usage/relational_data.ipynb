{
 "cells": [
  {
   "cell_type": "markdown",
   "id": "60bb467d-861d-4b07-a48d-8e5aa177c969",
   "metadata": {},
   "source": [
    "# Relational Data \n",
    "[![Open In Collab](https://colab.research.google.com/assets/colab-badge.svg)](https://colab.research.google.com/github/langchain-ai/langchain-benchmarks/blob/main/docs/source/notebooks/tool_usage/relational_data.ipynb)\n",
    "\n",
    "In this task, an agent is given access to a set of tools that can be used to make queries across 3 relational tables.\n",
    "\n",
    "The tables contain information about users, locations and foods. The agent must answer questions about the data using the provided tools.\n",
    "\n",
    "The underlying data looks like this:\n",
    "\n",
    "User data:\n",
    "\n",
    "```json\n",
    "{\n",
    "    \"id\": 1,\n",
    "    \"name\": \"Alice\",\n",
    "    \"email\": \"alice@gmail.com\",\n",
    "    \"location\": 1,\n",
    "    \"favorite_color\": \"red\",\n",
    "    \"favorite_foods\": [1, 2, 3],\n",
    "},\n",
    "{\n",
    "    \"id\": 21,\n",
    "    \"name\": \"Bob\",\n",
    "    \"email\": \"bob@hotmail.com\",\n",
    "    \"location\": 2,\n",
    "    \"favorite_color\": \"orange\",\n",
    "    \"favorite_foods\": [4, 5, 6],\n",
    "}\n",
    "```\n",
    "\n",
    "Food data:\n",
    "\n",
    "```json\n",
    "{\n",
    "    \"id\": 1,\n",
    "    \"name\": \"Pizza\",\n",
    "    \"calories\": 285,  # Calories per serving\n",
    "    \"allergic_ingredients\": [\"Gluten\", \"Dairy\"],\n",
    "},\n",
    "{\n",
    "    \"id\": 2,\n",
    "    \"name\": \"Chocolate\",\n",
    "    \"calories\": 50,  # Calories per serving\n",
    "    \"allergic_ingredients\": [\"Milk\", \"Soy\"],\n",
    "},\n",
    "```\n",
    "\n",
    "The tools allow to look up information based on ids (e.g., `get_user_email` takes a user id and returns the email),\n",
    "and to search (e.g., `find_foods_by_name` takes a food name and returns a list of results."
   ]
  },
  {
   "cell_type": "code",
   "execution_count": 5,
   "id": "b39159d0-9ea1-414f-a9d8-4a7b22b3d2cc",
   "metadata": {
    "tags": []
   },
   "outputs": [],
   "source": [
    "from langchain_benchmarks import clone_public_dataset, registry"
   ]
  },
  {
   "cell_type": "markdown",
   "id": "03488ab1-31ed-41c2-8da2-46b02599b181",
   "metadata": {},
   "source": [
    "For this code to work, please configure LangSmith environment variables with your credentials."
   ]
  },
  {
   "cell_type": "code",
   "execution_count": 6,
   "id": "60f22779-a948-4833-8e8c-ace9ef17f56f",
   "metadata": {
    "tags": []
   },
   "outputs": [],
   "source": [
    "task = registry[\"Tool Usage - Relational Data\"]"
   ]
  },
  {
   "cell_type": "markdown",
   "id": "bc33a639-3caf-4314-8ea7-1c7c8b1d114d",
   "metadata": {},
   "source": [
    "Clone the dataset associaetd with this task"
   ]
  },
  {
   "cell_type": "code",
   "execution_count": 7,
   "id": "70369f67-deb4-467a-801a-6d38c3d0460d",
   "metadata": {
    "tags": []
   },
   "outputs": [
    {
     "name": "stdout",
     "output_type": "stream",
     "text": [
      "Dataset Tool Usage - Relational Data already exists. Skipping.\n",
      "You can access the dataset at https://smith.langchain.com/o/e081f11e-fbd2-41b4-9fa8-5d76c76ef854/datasets/69c0e0d0-91b5-4183-bed0-6628e76964dc.\n"
     ]
    }
   ],
   "source": [
    "clone_public_dataset(task.dataset_id, dataset_name=task.name)"
   ]
  },
  {
   "cell_type": "markdown",
   "id": "110bdafa-bdab-4194-90c9-46416d14b2f9",
   "metadata": {},
   "source": [
    "## The Environment\n",
    "\n",
    "Let's check the environment"
   ]
  },
  {
   "cell_type": "code",
   "execution_count": 13,
   "id": "27b6b0fd-639d-43a7-a730-9acdc5b2f102",
   "metadata": {
    "tags": []
   },
   "outputs": [
    {
     "data": {
      "text/plain": [
       "[StructuredTool(name='get_user_name', description=\"get_user_name(user_id: int) -> str - Get the name of the user with the given user ID.\\n\\n        Args:\\n            user_id: The user's ID.\\n\\n        Returns:\\n            The user's name.\", args_schema=<class 'pydantic.v1.main.get_user_nameSchemaSchema'>, func=<function get_available_functions.<locals>.get_user_name at 0x7fc3d10904c0>),\n",
       " StructuredTool(name='list_user_ids', description='list_user_ids() -> List[str] - List all the user IDs.', args_schema=<class 'pydantic.v1.main.list_user_idsSchemaSchema'>, func=<function get_available_functions.<locals>.list_user_ids at 0x7fc3d1090670>),\n",
       " StructuredTool(name='find_users_by_name', description='find_users_by_name(name: str) -> List[langchain_benchmarks.tool_usage.tasks.relational_data.SearchHit] - Find users with the given name.\\n\\n        Args:\\n            name: The name to search for.\\n\\n        Returns:\\n            The list of matching users.', args_schema=<class 'pydantic.v1.main.find_users_by_nameSchemaSchema'>, func=<function get_available_functions.<locals>.find_users_by_name at 0x7fc3d1bc3700>),\n",
       " StructuredTool(name='find_locations_by_name', description='find_locations_by_name(city: str) -> List[langchain_benchmarks.tool_usage.tasks.relational_data.SearchHit] - Find locations with the given city name.', args_schema=<class 'pydantic.v1.main.find_locations_by_nameSchemaSchema'>, func=<function get_available_functions.<locals>.find_locations_by_name at 0x7fc3d145a8b0>),\n",
       " StructuredTool(name='find_foods_by_name', description='find_foods_by_name(food: str) -> List[langchain_benchmarks.tool_usage.tasks.relational_data.SearchHit] - Find foods with the given name.', args_schema=<class 'pydantic.v1.main.find_foods_by_nameSchemaSchema'>, func=<function get_available_functions.<locals>.find_foods_by_name at 0x7fc3d145adc0>)]"
      ]
     },
     "execution_count": 13,
     "metadata": {},
     "output_type": "execute_result"
    }
   ],
   "source": [
    "env = task.create_environment()\n",
    "env.tools[:5]"
   ]
  },
  {
   "cell_type": "code",
   "execution_count": 17,
   "id": "7f1c1242-449c-4536-863d-b62bf6d2dff1",
   "metadata": {
    "tags": []
   },
   "outputs": [
    {
     "data": {
      "text/plain": [
       "'Bob'"
      ]
     },
     "execution_count": 17,
     "metadata": {},
     "output_type": "execute_result"
    }
   ],
   "source": [
    "env.tools[0].invoke({\"user_id\": 21})"
   ]
  },
  {
   "cell_type": "code",
   "execution_count": 20,
   "id": "854e139b-a120-4012-bdf4-6394e0b1c42d",
   "metadata": {
    "tags": []
   },
   "outputs": [
    {
     "data": {
      "text/plain": [
       "[{'id': 2, 'city': 'Los Angeles'},\n",
       " {'id': 1, 'city': 'New York'},\n",
       " {'id': 3, 'city': 'Chicago'},\n",
       " {'id': 4, 'city': 'Houston'},\n",
       " {'id': 5, 'city': 'Miami'}]"
      ]
     },
     "execution_count": 20,
     "metadata": {},
     "output_type": "execute_result"
    }
   ],
   "source": [
    "env.tools[3].invoke({\"city\": \"LA\"})"
   ]
  },
  {
   "cell_type": "markdown",
   "id": "b462f7b8-fd42-4613-ab5f-5f3cbbc37d28",
   "metadata": {},
   "source": [
    "## Define an agent\n",
    "\n",
    "Let's build an agent that we can use for evaluation."
   ]
  },
  {
   "cell_type": "code",
   "execution_count": 21,
   "id": "09469813-17b6-4456-a913-486a01a4b295",
   "metadata": {
    "tags": []
   },
   "outputs": [],
   "source": [
    "from langchain_benchmarks.tool_usage import agents"
   ]
  },
  {
   "cell_type": "code",
   "execution_count": 22,
   "id": "0ae8c6be-899c-44a6-a89b-0fc04c2cb05c",
   "metadata": {
    "tags": []
   },
   "outputs": [],
   "source": [
    "agent_factory = agents.OpenAIAgentFactory(task, model=\"gpt-3.5-turbo-16k\")"
   ]
  },
  {
   "cell_type": "markdown",
   "id": "87a64f76-65ae-4367-b43f-f2be3431e7af",
   "metadata": {},
   "source": [
    "Let's test that our agent works"
   ]
  },
  {
   "cell_type": "code",
   "execution_count": 23,
   "id": "612fb603-1401-426b-8a19-4453ad5b698a",
   "metadata": {
    "tags": []
   },
   "outputs": [],
   "source": [
    "agent = agent_factory()"
   ]
  },
  {
   "cell_type": "code",
   "execution_count": 24,
   "id": "0e4896fa-3633-44a1-857f-80a263cf2e03",
   "metadata": {
    "tags": []
   },
   "outputs": [
    {
     "data": {
      "text/plain": [
       "{'question': 'who is bob?',\n",
       " 'output': 'Bob is a user with the ID 21.',\n",
       " 'intermediate_steps': [(AgentActionMessageLog(tool='find_users_by_name', tool_input={'name': 'bob'}, log=\"\\nInvoking: `find_users_by_name` with `{'name': 'bob'}`\\n\\n\\n\", message_log=[AIMessage(content='', additional_kwargs={'function_call': {'arguments': '{\\n  \"name\": \"bob\"\\n}', 'name': 'find_users_by_name'}})]),\n",
       "   [{'id': 21, 'name': 'Bob'},\n",
       "    {'id': 41, 'name': 'Donna'},\n",
       "    {'id': 1, 'name': 'Alice'},\n",
       "    {'id': 35, 'name': 'Charlie'},\n",
       "    {'id': 42, 'name': 'Eve'},\n",
       "    {'id': 43, 'name': 'Frank The Cat'}])]}"
      ]
     },
     "execution_count": 24,
     "metadata": {},
     "output_type": "execute_result"
    }
   ],
   "source": [
    "agent.invoke({\"question\": \"who is bob?\"})"
   ]
  },
  {
   "cell_type": "markdown",
   "id": "3821e4b0-8e67-418a-840c-470fcde42df0",
   "metadata": {},
   "source": [
    "## Eval\n",
    "\n",
    "Let's evaluate an agent now"
   ]
  },
  {
   "cell_type": "code",
   "execution_count": 25,
   "id": "513042fe-2878-44f8-ae84-05b9d521c1de",
   "metadata": {
    "tags": []
   },
   "outputs": [],
   "source": [
    "from langsmith.client import Client\n",
    "\n",
    "from langchain_benchmarks.tool_usage import STANDARD_AGENT_EVALUATOR"
   ]
  },
  {
   "cell_type": "code",
   "execution_count": 26,
   "id": "2bedd9d1-fc06-4066-9f89-b874ae818d82",
   "metadata": {
    "tags": []
   },
   "outputs": [],
   "source": [
    "client = Client()"
   ]
  },
  {
   "cell_type": "code",
   "execution_count": 27,
   "id": "aab7514e-a6ef-4c21-b90f-d9cbefcf5af1",
   "metadata": {
    "tags": []
   },
   "outputs": [
    {
     "name": "stdout",
     "output_type": "stream",
     "text": [
      "View the evaluation results for project 'test-fixed-self-71' at:\n",
      "https://smith.langchain.com/o/e081f11e-fbd2-41b4-9fa8-5d76c76ef854/projects/p/1c2f10b1-370d-4062-9397-bab8189e8b95?eval=true\n",
      "\n",
      "View all tests for Dataset Tool Usage - Relational Data at:\n",
      "https://smith.langchain.com/o/e081f11e-fbd2-41b4-9fa8-5d76c76ef854/datasets/69c0e0d0-91b5-4183-bed0-6628e76964dc\n",
      "[------------------------------------------------->] 21/21\n",
      " Eval quantiles:\n",
      "                                    0.25       0.5      0.75      mean  \\\n",
      "Intermediate steps correctness  1.000000  1.000000  1.000000  0.761905   \n",
      "# steps / # expected steps      1.000000  1.000000  1.000000  0.928571   \n",
      "correctness                     1.000000  1.000000  1.000000  0.809524   \n",
      "execution_time                  4.253613  4.253613  4.253613  4.253613   \n",
      "\n",
      "                                    mode  \n",
      "Intermediate steps correctness  1.000000  \n",
      "# steps / # expected steps      1.000000  \n",
      "correctness                     1.000000  \n",
      "execution_time                  4.253613  \n"
     ]
    }
   ],
   "source": [
    "test_run = client.run_on_dataset(\n",
    "    dataset_name=task.name,\n",
    "    llm_or_chain_factory=agent_factory.create,\n",
    "    evaluation=STANDARD_AGENT_EVALUATOR,\n",
    "    verbose=True,\n",
    "    tags=[\"openai-functions\"],\n",
    ")"
   ]
  },
  {
   "cell_type": "markdown",
   "id": "1b039225-01cf-481a-87a6-4e880e9b1dcd",
   "metadata": {},
   "source": [
    "# Inspect\n",
    "\n",
    "Here, we'll take a look at the underlying results a little bit."
   ]
  },
  {
   "cell_type": "code",
   "execution_count": 28,
   "id": "e5bea796-c204-42a1-904b-216b964a8936",
   "metadata": {
    "tags": []
   },
   "outputs": [
    {
     "data": {
      "text/plain": [
       "0.8095238095238095"
      ]
     },
     "execution_count": 28,
     "metadata": {},
     "output_type": "execute_result"
    }
   ],
   "source": [
    "import pandas as pd\n",
    "\n",
    "df = test_run.to_dataframe()\n",
    "df = pd.json_normalize(df.to_dict(orient=\"records\"))\n",
    "\n",
    "df[\"correctness\"].mean()"
   ]
  },
  {
   "cell_type": "code",
   "execution_count": 29,
   "id": "423292ca-1ca8-4753-b35b-0916d35802b9",
   "metadata": {
    "tags": []
   },
   "outputs": [
    {
     "data": {
      "text/html": [
       "<div>\n",
       "<style scoped>\n",
       "    .dataframe tbody tr th:only-of-type {\n",
       "        vertical-align: middle;\n",
       "    }\n",
       "\n",
       "    .dataframe tbody tr th {\n",
       "        vertical-align: top;\n",
       "    }\n",
       "\n",
       "    .dataframe thead th {\n",
       "        text-align: right;\n",
       "    }\n",
       "</style>\n",
       "<table border=\"1\" class=\"dataframe\">\n",
       "  <thead>\n",
       "    <tr style=\"text-align: right;\">\n",
       "      <th></th>\n",
       "      <th>Intermediate steps correctness</th>\n",
       "      <th># steps / # expected steps</th>\n",
       "      <th>correctness</th>\n",
       "      <th>execution_time</th>\n",
       "      <th>input.question</th>\n",
       "      <th>output.question</th>\n",
       "      <th>output.output</th>\n",
       "      <th>output.intermediate_steps</th>\n",
       "      <th>reference.reference</th>\n",
       "      <th>reference.order_matters</th>\n",
       "      <th>reference.expected_steps</th>\n",
       "      <th>num_expected_steps</th>\n",
       "      <th>actual_number_of_steps</th>\n",
       "    </tr>\n",
       "  </thead>\n",
       "  <tbody>\n",
       "    <tr>\n",
       "      <th>0</th>\n",
       "      <td>1</td>\n",
       "      <td>1.0</td>\n",
       "      <td>1</td>\n",
       "      <td>4.253613</td>\n",
       "      <td>do bob and alice live in the same city?</td>\n",
       "      <td>do bob and alice live in the same city?</td>\n",
       "      <td>No, Bob and Alice do not live in the same city...</td>\n",
       "      <td>[(tool='find_users_by_name' tool_input={'name'...</td>\n",
       "      <td>no</td>\n",
       "      <td>False</td>\n",
       "      <td>[find_users_by_name, get_user_location, get_ci...</td>\n",
       "      <td>5</td>\n",
       "      <td>5</td>\n",
       "    </tr>\n",
       "    <tr>\n",
       "      <th>1</th>\n",
       "      <td>0</td>\n",
       "      <td>0.0</td>\n",
       "      <td>0</td>\n",
       "      <td>4.253613</td>\n",
       "      <td>Is it likely that Donna is outside with an umb...</td>\n",
       "      <td>Is it likely that Donna is outside with an umb...</td>\n",
       "      <td>I'm sorry, but I don't have access to real-tim...</td>\n",
       "      <td>[]</td>\n",
       "      <td>yes</td>\n",
       "      <td>False</td>\n",
       "      <td>[find_users_by_name, get_user_location, get_cu...</td>\n",
       "      <td>4</td>\n",
       "      <td>0</td>\n",
       "    </tr>\n",
       "    <tr>\n",
       "      <th>2</th>\n",
       "      <td>1</td>\n",
       "      <td>1.0</td>\n",
       "      <td>1</td>\n",
       "      <td>4.253613</td>\n",
       "      <td>do alice and charlie use the same email provider?</td>\n",
       "      <td>do alice and charlie use the same email provider?</td>\n",
       "      <td>No, Alice and Charlie do not use the same emai...</td>\n",
       "      <td>[(tool='find_users_by_name' tool_input={'name'...</td>\n",
       "      <td>no</td>\n",
       "      <td>True</td>\n",
       "      <td>[find_users_by_name, get_user_email, get_user_...</td>\n",
       "      <td>3</td>\n",
       "      <td>3</td>\n",
       "    </tr>\n",
       "    <tr>\n",
       "      <th>3</th>\n",
       "      <td>0</td>\n",
       "      <td>0.0</td>\n",
       "      <td>0</td>\n",
       "      <td>4.253613</td>\n",
       "      <td>Is it likely that Donna is awake right now?</td>\n",
       "      <td>Is it likely that Donna is awake right now?</td>\n",
       "      <td>I'm sorry, but I don't have access to informat...</td>\n",
       "      <td>[]</td>\n",
       "      <td>yes</td>\n",
       "      <td>True</td>\n",
       "      <td>[find_users_by_name, get_user_location, get_cu...</td>\n",
       "      <td>3</td>\n",
       "      <td>0</td>\n",
       "    </tr>\n",
       "    <tr>\n",
       "      <th>4</th>\n",
       "      <td>0</td>\n",
       "      <td>1.0</td>\n",
       "      <td>1</td>\n",
       "      <td>4.253613</td>\n",
       "      <td>Donna is about to go outside. Does she need an...</td>\n",
       "      <td>Donna is about to go outside. Does she need an...</td>\n",
       "      <td>Donna is at location 4 and the current weather...</td>\n",
       "      <td>[(tool='find_users_by_name' tool_input={'name'...</td>\n",
       "      <td>yes</td>\n",
       "      <td>True</td>\n",
       "      <td>[find_users_by_name, get_user_location, get_cu...</td>\n",
       "      <td>3</td>\n",
       "      <td>3</td>\n",
       "    </tr>\n",
       "  </tbody>\n",
       "</table>\n",
       "</div>"
      ],
      "text/plain": [
       "   Intermediate steps correctness  # steps / # expected steps  correctness  \\\n",
       "0                               1                         1.0            1   \n",
       "1                               0                         0.0            0   \n",
       "2                               1                         1.0            1   \n",
       "3                               0                         0.0            0   \n",
       "4                               0                         1.0            1   \n",
       "\n",
       "   execution_time                                     input.question  \\\n",
       "0        4.253613            do bob and alice live in the same city?   \n",
       "1        4.253613  Is it likely that Donna is outside with an umb...   \n",
       "2        4.253613  do alice and charlie use the same email provider?   \n",
       "3        4.253613        Is it likely that Donna is awake right now?   \n",
       "4        4.253613  Donna is about to go outside. Does she need an...   \n",
       "\n",
       "                                     output.question  \\\n",
       "0            do bob and alice live in the same city?   \n",
       "1  Is it likely that Donna is outside with an umb...   \n",
       "2  do alice and charlie use the same email provider?   \n",
       "3        Is it likely that Donna is awake right now?   \n",
       "4  Donna is about to go outside. Does she need an...   \n",
       "\n",
       "                                       output.output  \\\n",
       "0  No, Bob and Alice do not live in the same city...   \n",
       "1  I'm sorry, but I don't have access to real-tim...   \n",
       "2  No, Alice and Charlie do not use the same emai...   \n",
       "3  I'm sorry, but I don't have access to informat...   \n",
       "4  Donna is at location 4 and the current weather...   \n",
       "\n",
       "                           output.intermediate_steps reference.reference  \\\n",
       "0  [(tool='find_users_by_name' tool_input={'name'...                  no   \n",
       "1                                                 []                 yes   \n",
       "2  [(tool='find_users_by_name' tool_input={'name'...                  no   \n",
       "3                                                 []                 yes   \n",
       "4  [(tool='find_users_by_name' tool_input={'name'...                 yes   \n",
       "\n",
       "   reference.order_matters                           reference.expected_steps  \\\n",
       "0                    False  [find_users_by_name, get_user_location, get_ci...   \n",
       "1                    False  [find_users_by_name, get_user_location, get_cu...   \n",
       "2                     True  [find_users_by_name, get_user_email, get_user_...   \n",
       "3                     True  [find_users_by_name, get_user_location, get_cu...   \n",
       "4                     True  [find_users_by_name, get_user_location, get_cu...   \n",
       "\n",
       "   num_expected_steps  actual_number_of_steps  \n",
       "0                   5                       5  \n",
       "1                   4                       0  \n",
       "2                   3                       3  \n",
       "3                   3                       0  \n",
       "4                   3                       3  "
      ]
     },
     "execution_count": 29,
     "metadata": {},
     "output_type": "execute_result"
    }
   ],
   "source": [
    "df[\"num_expected_steps\"] = df[\"reference.expected_steps\"].apply(len)\n",
    "df[\"actual_number_of_steps\"] = df[\"output.intermediate_steps\"].apply(len)\n",
    "\n",
    "df.head()"
   ]
  },
  {
   "cell_type": "code",
   "execution_count": 32,
   "id": "ffab97b7-eda2-408d-b611-596b637e627a",
   "metadata": {
    "tags": []
   },
   "outputs": [
    {
     "data": {
      "text/html": [
       "<div>\n",
       "<style scoped>\n",
       "    .dataframe tbody tr th:only-of-type {\n",
       "        vertical-align: middle;\n",
       "    }\n",
       "\n",
       "    .dataframe tbody tr th {\n",
       "        vertical-align: top;\n",
       "    }\n",
       "\n",
       "    .dataframe thead th {\n",
       "        text-align: right;\n",
       "    }\n",
       "</style>\n",
       "<table border=\"1\" class=\"dataframe\">\n",
       "  <thead>\n",
       "    <tr style=\"text-align: right;\">\n",
       "      <th></th>\n",
       "      <th>Intermediate steps correctness</th>\n",
       "      <th># steps / # expected steps</th>\n",
       "      <th>correctness</th>\n",
       "      <th>execution_time</th>\n",
       "      <th>input.question</th>\n",
       "      <th>output.question</th>\n",
       "      <th>output.output</th>\n",
       "      <th>output.intermediate_steps</th>\n",
       "      <th>reference.reference</th>\n",
       "      <th>reference.order_matters</th>\n",
       "      <th>reference.expected_steps</th>\n",
       "      <th>num_expected_steps</th>\n",
       "      <th>actual_number_of_steps</th>\n",
       "    </tr>\n",
       "  </thead>\n",
       "  <tbody>\n",
       "    <tr>\n",
       "      <th>0</th>\n",
       "      <td>1</td>\n",
       "      <td>1.0</td>\n",
       "      <td>1</td>\n",
       "      <td>4.253613</td>\n",
       "      <td>do bob and alice live in the same city?</td>\n",
       "      <td>do bob and alice live in the same city?</td>\n",
       "      <td>No, Bob and Alice do not live in the same city...</td>\n",
       "      <td>[(tool='find_users_by_name' tool_input={'name'...</td>\n",
       "      <td>no</td>\n",
       "      <td>False</td>\n",
       "      <td>[find_users_by_name, get_user_location, get_ci...</td>\n",
       "      <td>5</td>\n",
       "      <td>5</td>\n",
       "    </tr>\n",
       "    <tr>\n",
       "      <th>2</th>\n",
       "      <td>1</td>\n",
       "      <td>1.0</td>\n",
       "      <td>1</td>\n",
       "      <td>4.253613</td>\n",
       "      <td>do alice and charlie use the same email provider?</td>\n",
       "      <td>do alice and charlie use the same email provider?</td>\n",
       "      <td>No, Alice and Charlie do not use the same emai...</td>\n",
       "      <td>[(tool='find_users_by_name' tool_input={'name'...</td>\n",
       "      <td>no</td>\n",
       "      <td>True</td>\n",
       "      <td>[find_users_by_name, get_user_email, get_user_...</td>\n",
       "      <td>3</td>\n",
       "      <td>3</td>\n",
       "    </tr>\n",
       "    <tr>\n",
       "      <th>4</th>\n",
       "      <td>0</td>\n",
       "      <td>1.0</td>\n",
       "      <td>1</td>\n",
       "      <td>4.253613</td>\n",
       "      <td>Donna is about to go outside. Does she need an...</td>\n",
       "      <td>Donna is about to go outside. Does she need an...</td>\n",
       "      <td>Donna is at location 4 and the current weather...</td>\n",
       "      <td>[(tool='find_users_by_name' tool_input={'name'...</td>\n",
       "      <td>yes</td>\n",
       "      <td>True</td>\n",
       "      <td>[find_users_by_name, get_user_location, get_cu...</td>\n",
       "      <td>3</td>\n",
       "      <td>3</td>\n",
       "    </tr>\n",
       "    <tr>\n",
       "      <th>5</th>\n",
       "      <td>0</td>\n",
       "      <td>1.0</td>\n",
       "      <td>0</td>\n",
       "      <td>4.253613</td>\n",
       "      <td>whats the name of the city where bob lives?</td>\n",
       "      <td>whats the name of the city where bob lives?</td>\n",
       "      <td>The name of the city where Bob lives is New York.</td>\n",
       "      <td>[(tool='list_user_ids' tool_input={} log='\\nIn...</td>\n",
       "      <td>Los Angeles</td>\n",
       "      <td>True</td>\n",
       "      <td>[find_users_by_name, get_user_location, get_ci...</td>\n",
       "      <td>3</td>\n",
       "      <td>3</td>\n",
       "    </tr>\n",
       "    <tr>\n",
       "      <th>6</th>\n",
       "      <td>1</td>\n",
       "      <td>1.0</td>\n",
       "      <td>1</td>\n",
       "      <td>4.253613</td>\n",
       "      <td>what is the current users favorite color and n...</td>\n",
       "      <td>what is the current users favorite color and n...</td>\n",
       "      <td>The current user's favorite color is yellow an...</td>\n",
       "      <td>[(tool='get_current_user_id' tool_input={} log...</td>\n",
       "      <td>yellow and Charlie</td>\n",
       "      <td>True</td>\n",
       "      <td>[get_current_user_id, get_user_favorite_color,...</td>\n",
       "      <td>3</td>\n",
       "      <td>3</td>\n",
       "    </tr>\n",
       "  </tbody>\n",
       "</table>\n",
       "</div>"
      ],
      "text/plain": [
       "   Intermediate steps correctness  # steps / # expected steps  correctness  \\\n",
       "0                               1                         1.0            1   \n",
       "2                               1                         1.0            1   \n",
       "4                               0                         1.0            1   \n",
       "5                               0                         1.0            0   \n",
       "6                               1                         1.0            1   \n",
       "\n",
       "   execution_time                                     input.question  \\\n",
       "0        4.253613            do bob and alice live in the same city?   \n",
       "2        4.253613  do alice and charlie use the same email provider?   \n",
       "4        4.253613  Donna is about to go outside. Does she need an...   \n",
       "5        4.253613        whats the name of the city where bob lives?   \n",
       "6        4.253613  what is the current users favorite color and n...   \n",
       "\n",
       "                                     output.question  \\\n",
       "0            do bob and alice live in the same city?   \n",
       "2  do alice and charlie use the same email provider?   \n",
       "4  Donna is about to go outside. Does she need an...   \n",
       "5        whats the name of the city where bob lives?   \n",
       "6  what is the current users favorite color and n...   \n",
       "\n",
       "                                       output.output  \\\n",
       "0  No, Bob and Alice do not live in the same city...   \n",
       "2  No, Alice and Charlie do not use the same emai...   \n",
       "4  Donna is at location 4 and the current weather...   \n",
       "5  The name of the city where Bob lives is New York.   \n",
       "6  The current user's favorite color is yellow an...   \n",
       "\n",
       "                           output.intermediate_steps reference.reference  \\\n",
       "0  [(tool='find_users_by_name' tool_input={'name'...                  no   \n",
       "2  [(tool='find_users_by_name' tool_input={'name'...                  no   \n",
       "4  [(tool='find_users_by_name' tool_input={'name'...                 yes   \n",
       "5  [(tool='list_user_ids' tool_input={} log='\\nIn...         Los Angeles   \n",
       "6  [(tool='get_current_user_id' tool_input={} log...  yellow and Charlie   \n",
       "\n",
       "   reference.order_matters                           reference.expected_steps  \\\n",
       "0                    False  [find_users_by_name, get_user_location, get_ci...   \n",
       "2                     True  [find_users_by_name, get_user_email, get_user_...   \n",
       "4                     True  [find_users_by_name, get_user_location, get_cu...   \n",
       "5                     True  [find_users_by_name, get_user_location, get_ci...   \n",
       "6                     True  [get_current_user_id, get_user_favorite_color,...   \n",
       "\n",
       "   num_expected_steps  actual_number_of_steps  \n",
       "0                   5                       5  \n",
       "2                   3                       3  \n",
       "4                   3                       3  \n",
       "5                   3                       3  \n",
       "6                   3                       3  "
      ]
     },
     "execution_count": 32,
     "metadata": {},
     "output_type": "execute_result"
    }
   ],
   "source": [
    "df.sort_values(\"actual_number_of_steps\", ascending=False).head()"
   ]
  }
 ],
 "metadata": {
  "kernelspec": {
   "display_name": "Python 3 (ipykernel)",
   "language": "python",
   "name": "python3"
  },
  "language_info": {
   "codemirror_mode": {
    "name": "ipython",
    "version": 3
   },
   "file_extension": ".py",
   "mimetype": "text/x-python",
   "name": "python",
   "nbconvert_exporter": "python",
   "pygments_lexer": "ipython3",
   "version": "3.9.6"
  }
 },
 "nbformat": 4,
 "nbformat_minor": 5
}
