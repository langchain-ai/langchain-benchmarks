{
 "cells": [
  {
   "cell_type": "markdown",
   "id": "60bb467d-861d-4b07-a48d-8e5aa177c969",
   "metadata": {},
   "source": [
    "# Relational Data \n",
    "\n",
    "In this task, an agent is given access to a set of tools that can be used to make queries across 3 relational tables.\n",
    "\n",
    "The tables contain information about users, locations and foods. The agent must answer questions about the data using the provided tools.\n",
    "\n",
    "The underlying data looks like this:\n",
    "\n",
    "User data:\n",
    "\n",
    "```json\n",
    "{\n",
    "    \"id\": 1,\n",
    "    \"name\": \"Alice\",\n",
    "    \"email\": \"alice@gmail.com\",\n",
    "    \"location\": 1,\n",
    "    \"favorite_color\": \"red\",\n",
    "    \"favorite_foods\": [1, 2, 3],\n",
    "},\n",
    "{\n",
    "    \"id\": 21,\n",
    "    \"name\": \"Bob\",\n",
    "    \"email\": \"bob@hotmail.com\",\n",
    "    \"location\": 2,\n",
    "    \"favorite_color\": \"orange\",\n",
    "    \"favorite_foods\": [4, 5, 6],\n",
    "}\n",
    "```\n",
    "\n",
    "Food data:\n",
    "\n",
    "```json\n",
    "{\n",
    "    \"id\": 1,\n",
    "    \"name\": \"Pizza\",\n",
    "    \"calories\": 285,  # Calories per serving\n",
    "    \"allergic_ingredients\": [\"Gluten\", \"Dairy\"],\n",
    "},\n",
    "{\n",
    "    \"id\": 2,\n",
    "    \"name\": \"Chocolate\",\n",
    "    \"calories\": 50,  # Calories per serving\n",
    "    \"allergic_ingredients\": [\"Milk\", \"Soy\"],\n",
    "},\n",
    "```\n",
    "\n",
    "The tools allow to look up information based on ids (e.g., `get_user_email` takes a user id and returns the email),\n",
    "and to search (e.g., `find_foods_by_name` takes a food name and returns a list of results.\n",
    "\n",
    "----------"
   ]
  },
  {
   "cell_type": "code",
   "execution_count": 1,
   "id": "b39159d0-9ea1-414f-a9d8-4a7b22b3d2cc",
   "metadata": {
    "tags": []
   },
   "outputs": [],
   "source": [
    "from langchain_benchmarks import clone_public_dataset, registry"
   ]
  },
  {
   "cell_type": "markdown",
   "id": "03488ab1-31ed-41c2-8da2-46b02599b181",
   "metadata": {},
   "source": [
    "For this code to work, please configure LangSmith environment variables with your credentials."
   ]
  },
  {
   "cell_type": "code",
   "execution_count": 2,
   "id": "60f22779-a948-4833-8e8c-ace9ef17f56f",
   "metadata": {
    "tags": []
   },
   "outputs": [],
   "source": [
    "task = registry[\"Tool Usage - Relational Data\"]"
   ]
  },
  {
   "cell_type": "markdown",
   "id": "bc33a639-3caf-4314-8ea7-1c7c8b1d114d",
   "metadata": {},
   "source": [
    "Clone the dataset associaetd with this task"
   ]
  },
  {
   "cell_type": "code",
   "execution_count": 3,
   "id": "70369f67-deb4-467a-801a-6d38c3d0460d",
   "metadata": {
    "tags": []
   },
   "outputs": [
    {
     "name": "stdout",
     "output_type": "stream",
     "text": [
      "Dataset Tool Usage - Relational Data already exists. Skipping.\n",
      "You can access the dataset at https://smith.langchain.com/o/e081f11e-fbd2-41b4-9fa8-5d76c76ef854/datasets/69c0e0d0-91b5-4183-bed0-6628e76964dc.\n"
     ]
    }
   ],
   "source": [
    "clone_public_dataset(task.dataset_id, dataset_name=task.name)"
   ]
  },
  {
   "cell_type": "markdown",
   "id": "110bdafa-bdab-4194-90c9-46416d14b2f9",
   "metadata": {},
   "source": [
    "## The Environment\n",
    "\n",
    "Let's check the environment"
   ]
  },
  {
   "cell_type": "code",
   "execution_count": 4,
   "id": "27b6b0fd-639d-43a7-a730-9acdc5b2f102",
   "metadata": {
    "tags": []
   },
   "outputs": [
    {
     "data": {
      "text/plain": [
       "[StructuredTool(name='get_user_name', description=\"get_user_name(user_id: int) -> str - Get the name of the user with the given user ID.\\n\\n        Args:\\n            user_id: The user's ID.\\n\\n        Returns:\\n            The user's name.\", args_schema=<class 'pydantic.v1.main.get_user_nameSchemaSchema'>, func=<function get_available_functions.<locals>.get_user_name at 0x7f45ecc6e700>),\n",
       " StructuredTool(name='list_user_ids', description='list_user_ids() -> List[str] - List all the user IDs.', args_schema=<class 'pydantic.v1.main.list_user_idsSchemaSchema'>, func=<function get_available_functions.<locals>.list_user_ids at 0x7f45ecc6ee50>),\n",
       " StructuredTool(name='find_users_by_name', description='find_users_by_name(name: str) -> List[langchain_benchmarks.tool_usage.tasks.relational_data.SearchHit] - Find users with the given name.\\n\\n        Args:\\n            name: The name to search for.\\n\\n        Returns:\\n            The list of matching users.', args_schema=<class 'pydantic.v1.main.find_users_by_nameSchemaSchema'>, func=<function get_available_functions.<locals>.find_users_by_name at 0x7f45ecc6eee0>),\n",
       " StructuredTool(name='find_locations_by_name', description='find_locations_by_name(city: str) -> List[langchain_benchmarks.tool_usage.tasks.relational_data.SearchHit] - Find locations with the given city name.', args_schema=<class 'pydantic.v1.main.find_locations_by_nameSchemaSchema'>, func=<function get_available_functions.<locals>.find_locations_by_name at 0x7f45ecc6ef70>),\n",
       " StructuredTool(name='find_foods_by_name', description='find_foods_by_name(food: str) -> List[langchain_benchmarks.tool_usage.tasks.relational_data.SearchHit] - Find foods with the given name.', args_schema=<class 'pydantic.v1.main.find_foods_by_nameSchemaSchema'>, func=<function get_available_functions.<locals>.find_foods_by_name at 0x7f45ecc23040>)]"
      ]
     },
     "execution_count": 4,
     "metadata": {},
     "output_type": "execute_result"
    }
   ],
   "source": [
    "env = task.create_environment()\n",
    "env.tools[:5]"
   ]
  },
  {
   "cell_type": "code",
   "execution_count": 5,
   "id": "7f1c1242-449c-4536-863d-b62bf6d2dff1",
   "metadata": {
    "tags": []
   },
   "outputs": [
    {
     "data": {
      "text/plain": [
       "'Bob'"
      ]
     },
     "execution_count": 5,
     "metadata": {},
     "output_type": "execute_result"
    }
   ],
   "source": [
    "env.tools[0].invoke({\"user_id\": 21})"
   ]
  },
  {
   "cell_type": "code",
   "execution_count": 6,
   "id": "854e139b-a120-4012-bdf4-6394e0b1c42d",
   "metadata": {
    "tags": []
   },
   "outputs": [
    {
     "data": {
      "text/plain": [
       "[{'id': 2, 'city': 'Los Angeles'},\n",
       " {'id': 1, 'city': 'New York'},\n",
       " {'id': 3, 'city': 'Chicago'},\n",
       " {'id': 4, 'city': 'Houston'},\n",
       " {'id': 5, 'city': 'Miami'}]"
      ]
     },
     "execution_count": 6,
     "metadata": {},
     "output_type": "execute_result"
    }
   ],
   "source": [
    "env.tools[3].invoke({\"city\": \"LA\"})"
   ]
  },
  {
   "cell_type": "markdown",
   "id": "b462f7b8-fd42-4613-ab5f-5f3cbbc37d28",
   "metadata": {},
   "source": [
    "## Agent Factory\n",
    "\n",
    "For evaluation, we need to create an agent factory that returns an `AgentExecutor` with an adapter.\n",
    "\n",
    "The evaluation call will use the factory to create a new agent instance for every run."
   ]
  },
  {
   "cell_type": "code",
   "execution_count": 7,
   "id": "1c2d80d2-4ddf-4b80-b6c5-331133a85314",
   "metadata": {
    "tags": []
   },
   "outputs": [],
   "source": [
    "from langchain.agents import AgentType, Tool, initialize_agent\n",
    "from langchain.chat_models import ChatOpenAI\n",
    "\n",
    "from langchain_benchmarks.schema import ExtractionTask\n",
    "from langchain_benchmarks.tool_usage.agents import apply_agent_executor_adapter"
   ]
  },
  {
   "cell_type": "code",
   "execution_count": 8,
   "id": "81c0e4a1-f56e-4117-8804-4161c642b068",
   "metadata": {
    "tags": []
   },
   "outputs": [],
   "source": [
    "class AgentFactory:\n",
    "    def __init__(self, task: ExtractionTask, model: str) -> None:\n",
    "        self.task = task\n",
    "        self.model = model\n",
    "\n",
    "\n",
    "    def __call__(self):\n",
    "        # This factory creates a new environment for every agent run.\n",
    "        # The reason is that the environment may be associated with an environment state (e.g., typewriter)\n",
    "        # which is changed by the actions of the agent.\n",
    "        # At the end of the run, the environment state will be read.\n",
    "        env = task.create_environment()  # Create a new environment for every agent run!\n",
    "        tools = env.tools\n",
    "        llm = ChatOpenAI(temperature=0, model=self.model)\n",
    "        agent_executor = initialize_agent(\n",
    "            tools, llm, agent=AgentType.OPENAI_FUNCTIONS, return_intermediate_steps=True\n",
    "        )\n",
    "        # Apply the adapters so that inputs and outputs match dataset schema\n",
    "        # state_reader automatically adds the state of the environment at the end of the run.\n",
    "        return apply_agent_executor_adapter(agent_executor, state_reader=env.read_state)"
   ]
  },
  {
   "cell_type": "code",
   "execution_count": 9,
   "id": "0ae8c6be-899c-44a6-a89b-0fc04c2cb05c",
   "metadata": {
    "tags": []
   },
   "outputs": [],
   "source": [
    "models = [\"gpt-3.5-turbo-1106\", \"gpt-3.5-turbo-0613\", \"gpt-4-32k-0613\"]\n",
    "agent_factory = AgentFactory(task, models[0])"
   ]
  },
  {
   "cell_type": "markdown",
   "id": "87a64f76-65ae-4367-b43f-f2be3431e7af",
   "metadata": {},
   "source": [
    "Let's test that our agent works"
   ]
  },
  {
   "cell_type": "code",
   "execution_count": 10,
   "id": "127a8aa5-839c-469c-a870-7b498f37c187",
   "metadata": {
    "tags": []
   },
   "outputs": [],
   "source": [
    "from langchain import globals\n",
    "globals.set_verbose(True)"
   ]
  },
  {
   "cell_type": "code",
   "execution_count": 11,
   "id": "0e4896fa-3633-44a1-857f-80a263cf2e03",
   "metadata": {
    "tags": []
   },
   "outputs": [
    {
     "name": "stdout",
     "output_type": "stream",
     "text": [
      "\n",
      "\n",
      "\u001b[1m> Entering new AgentExecutor chain...\u001b[0m\n",
      "\u001b[32;1m\u001b[1;3m\n",
      "Invoking: `find_locations_by_name` with `{'city': 'Los Angeles'}`\n",
      "\n",
      "\n",
      "\u001b[0m\u001b[36;1m\u001b[1;3m[{'id': 2, 'city': 'Los Angeles'}, {'id': 4, 'city': 'Houston'}, {'id': 1, 'city': 'New York'}, {'id': 3, 'city': 'Chicago'}, {'id': 5, 'city': 'Miami'}]\u001b[0m\u001b[32;1m\u001b[1;3m\n",
      "Invoking: `get_weather_at_location` with `{'location_id': 2}`\n",
      "\n",
      "\n",
      "\u001b[0m\u001b[36;1m\u001b[1;3mSunny, Temperature: 75°F\u001b[0m\u001b[32;1m\u001b[1;3mThe weather in Los Angeles is sunny with a temperature of 75°F.\u001b[0m\n",
      "\n",
      "\u001b[1m> Finished chain.\u001b[0m\n"
     ]
    },
    {
     "data": {
      "text/plain": [
       "{'question': 'whats the weather in LA?',\n",
       " 'input': 'whats the weather in LA?',\n",
       " 'output': 'The weather in Los Angeles is sunny with a temperature of 75°F.',\n",
       " 'intermediate_steps': [(AgentActionMessageLog(tool='find_locations_by_name', tool_input={'city': 'Los Angeles'}, log=\"\\nInvoking: `find_locations_by_name` with `{'city': 'Los Angeles'}`\\n\\n\\n\", message_log=[AIMessage(content='', additional_kwargs={'function_call': {'arguments': '{\"city\":\"Los Angeles\"}', 'name': 'find_locations_by_name'}})]),\n",
       "   [{'id': 2, 'city': 'Los Angeles'},\n",
       "    {'id': 4, 'city': 'Houston'},\n",
       "    {'id': 1, 'city': 'New York'},\n",
       "    {'id': 3, 'city': 'Chicago'},\n",
       "    {'id': 5, 'city': 'Miami'}]),\n",
       "  (AgentActionMessageLog(tool='get_weather_at_location', tool_input={'location_id': 2}, log=\"\\nInvoking: `get_weather_at_location` with `{'location_id': 2}`\\n\\n\\n\", message_log=[AIMessage(content='', additional_kwargs={'function_call': {'arguments': '{\"location_id\":2}', 'name': 'get_weather_at_location'}})]),\n",
       "   'Sunny, Temperature: 75°F')]}"
      ]
     },
     "execution_count": 11,
     "metadata": {},
     "output_type": "execute_result"
    }
   ],
   "source": [
    "agent = agent_factory()\n",
    "agent.invoke({\"question\": \"whats the weather in LA?\"})"
   ]
  },
  {
   "cell_type": "code",
   "execution_count": 12,
   "id": "43edee23-109d-4f75-be68-d2b4b3240c9b",
   "metadata": {
    "tags": []
   },
   "outputs": [],
   "source": [
    "globals.set_verbose(False)"
   ]
  },
  {
   "cell_type": "markdown",
   "id": "3821e4b0-8e67-418a-840c-470fcde42df0",
   "metadata": {},
   "source": [
    "## Eval\n",
    "\n",
    "Let's evaluate an agent now"
   ]
  },
  {
   "cell_type": "code",
   "execution_count": 13,
   "id": "513042fe-2878-44f8-ae84-05b9d521c1de",
   "metadata": {
    "tags": []
   },
   "outputs": [],
   "source": [
    "from langsmith.client import Client\n",
    "\n",
    "from langchain_benchmarks.tool_usage import get_eval_config"
   ]
  },
  {
   "cell_type": "code",
   "execution_count": 14,
   "id": "2bedd9d1-fc06-4066-9f89-b874ae818d82",
   "metadata": {
    "tags": []
   },
   "outputs": [],
   "source": [
    "client = Client()"
   ]
  },
  {
   "cell_type": "code",
   "execution_count": null,
   "id": "aab7514e-a6ef-4c21-b90f-d9cbefcf5af1",
   "metadata": {
    "tags": []
   },
   "outputs": [
    {
     "name": "stdout",
     "output_type": "stream",
     "text": [
      "gpt-3.5-turbo-1106\n",
      "View the evaluation results for project 'test-flowery-tree-7' at:\n",
      "https://smith.langchain.com/o/e081f11e-fbd2-41b4-9fa8-5d76c76ef854/projects/p/49b024d5-ea28-45f0-8eeb-802e5dfdb32c?eval=true\n",
      "\n",
      "View all tests for Dataset Tool Usage - Relational Data at:\n",
      "https://smith.langchain.com/o/e081f11e-fbd2-41b4-9fa8-5d76c76ef854/datasets/69c0e0d0-91b5-4183-bed0-6628e76964dc\n",
      "[->                                                ] 1/21"
     ]
    },
    {
     "name": "stderr",
     "output_type": "stream",
     "text": [
      "Chain failed for example bf526f15-26a5-40be-8d0f-13d270c0d235 with inputs {'question': 'do bob and alice live in the same city?'}\n",
      "Error Type: ValueError, Message: User ID 36 cannot be resolved\n"
     ]
    },
    {
     "name": "stdout",
     "output_type": "stream",
     "text": [
      "[----------------------------------------------->  ] 20/21"
     ]
    }
   ],
   "source": [
    "eval_config = get_eval_config()\n",
    "\n",
    "test_runs = []\n",
    "\n",
    "for model in [\"gpt-3.5-turbo-1106\", \"gpt-3.5-turbo-0613\", \"gpt-4-32k-0613\"]:\n",
    "    print(model)\n",
    "    agent_factory = AgentFactory(task, model)\n",
    "\n",
    "    test_run = client.run_on_dataset(\n",
    "        dataset_name=task.name,\n",
    "        llm_or_chain_factory=agent_factory,\n",
    "        evaluation=eval_config,\n",
    "        verbose=True,\n",
    "        tags=[model],\n",
    "    )\n",
    "    test_runs.append(test_run)"
   ]
  },
  {
   "cell_type": "markdown",
   "id": "1b039225-01cf-481a-87a6-4e880e9b1dcd",
   "metadata": {},
   "source": [
    "## Inspect\n",
    "\n",
    "Here, we'll take a look at the underlying results a little bit."
   ]
  },
  {
   "cell_type": "code",
   "execution_count": null,
   "id": "e5bea796-c204-42a1-904b-216b964a8936",
   "metadata": {
    "tags": []
   },
   "outputs": [],
   "source": [
    "import pandas as pd\n",
    "\n",
    "df = test_run.to_dataframe()\n",
    "df = pd.json_normalize(df.to_dict(orient=\"records\"))\n",
    "\n",
    "df[\"correctness\"].mean()"
   ]
  },
  {
   "cell_type": "code",
   "execution_count": 29,
   "id": "423292ca-1ca8-4753-b35b-0916d35802b9",
   "metadata": {
    "tags": []
   },
   "outputs": [
    {
     "data": {
      "text/html": [
       "<div>\n",
       "<style scoped>\n",
       "    .dataframe tbody tr th:only-of-type {\n",
       "        vertical-align: middle;\n",
       "    }\n",
       "\n",
       "    .dataframe tbody tr th {\n",
       "        vertical-align: top;\n",
       "    }\n",
       "\n",
       "    .dataframe thead th {\n",
       "        text-align: right;\n",
       "    }\n",
       "</style>\n",
       "<table border=\"1\" class=\"dataframe\">\n",
       "  <thead>\n",
       "    <tr style=\"text-align: right;\">\n",
       "      <th></th>\n",
       "      <th>Intermediate steps correctness</th>\n",
       "      <th># steps / # expected steps</th>\n",
       "      <th>correctness</th>\n",
       "      <th>execution_time</th>\n",
       "      <th>input.question</th>\n",
       "      <th>output.question</th>\n",
       "      <th>output.output</th>\n",
       "      <th>output.intermediate_steps</th>\n",
       "      <th>reference.reference</th>\n",
       "      <th>reference.order_matters</th>\n",
       "      <th>reference.expected_steps</th>\n",
       "      <th>num_expected_steps</th>\n",
       "      <th>actual_number_of_steps</th>\n",
       "    </tr>\n",
       "  </thead>\n",
       "  <tbody>\n",
       "    <tr>\n",
       "      <th>0</th>\n",
       "      <td>1</td>\n",
       "      <td>1.0</td>\n",
       "      <td>1</td>\n",
       "      <td>4.253613</td>\n",
       "      <td>do bob and alice live in the same city?</td>\n",
       "      <td>do bob and alice live in the same city?</td>\n",
       "      <td>No, Bob and Alice do not live in the same city...</td>\n",
       "      <td>[(tool='find_users_by_name' tool_input={'name'...</td>\n",
       "      <td>no</td>\n",
       "      <td>False</td>\n",
       "      <td>[find_users_by_name, get_user_location, get_ci...</td>\n",
       "      <td>5</td>\n",
       "      <td>5</td>\n",
       "    </tr>\n",
       "    <tr>\n",
       "      <th>1</th>\n",
       "      <td>0</td>\n",
       "      <td>0.0</td>\n",
       "      <td>0</td>\n",
       "      <td>4.253613</td>\n",
       "      <td>Is it likely that Donna is outside with an umb...</td>\n",
       "      <td>Is it likely that Donna is outside with an umb...</td>\n",
       "      <td>I'm sorry, but I don't have access to real-tim...</td>\n",
       "      <td>[]</td>\n",
       "      <td>yes</td>\n",
       "      <td>False</td>\n",
       "      <td>[find_users_by_name, get_user_location, get_cu...</td>\n",
       "      <td>4</td>\n",
       "      <td>0</td>\n",
       "    </tr>\n",
       "    <tr>\n",
       "      <th>2</th>\n",
       "      <td>1</td>\n",
       "      <td>1.0</td>\n",
       "      <td>1</td>\n",
       "      <td>4.253613</td>\n",
       "      <td>do alice and charlie use the same email provider?</td>\n",
       "      <td>do alice and charlie use the same email provider?</td>\n",
       "      <td>No, Alice and Charlie do not use the same emai...</td>\n",
       "      <td>[(tool='find_users_by_name' tool_input={'name'...</td>\n",
       "      <td>no</td>\n",
       "      <td>True</td>\n",
       "      <td>[find_users_by_name, get_user_email, get_user_...</td>\n",
       "      <td>3</td>\n",
       "      <td>3</td>\n",
       "    </tr>\n",
       "    <tr>\n",
       "      <th>3</th>\n",
       "      <td>0</td>\n",
       "      <td>0.0</td>\n",
       "      <td>0</td>\n",
       "      <td>4.253613</td>\n",
       "      <td>Is it likely that Donna is awake right now?</td>\n",
       "      <td>Is it likely that Donna is awake right now?</td>\n",
       "      <td>I'm sorry, but I don't have access to informat...</td>\n",
       "      <td>[]</td>\n",
       "      <td>yes</td>\n",
       "      <td>True</td>\n",
       "      <td>[find_users_by_name, get_user_location, get_cu...</td>\n",
       "      <td>3</td>\n",
       "      <td>0</td>\n",
       "    </tr>\n",
       "    <tr>\n",
       "      <th>4</th>\n",
       "      <td>0</td>\n",
       "      <td>1.0</td>\n",
       "      <td>1</td>\n",
       "      <td>4.253613</td>\n",
       "      <td>Donna is about to go outside. Does she need an...</td>\n",
       "      <td>Donna is about to go outside. Does she need an...</td>\n",
       "      <td>Donna is at location 4 and the current weather...</td>\n",
       "      <td>[(tool='find_users_by_name' tool_input={'name'...</td>\n",
       "      <td>yes</td>\n",
       "      <td>True</td>\n",
       "      <td>[find_users_by_name, get_user_location, get_cu...</td>\n",
       "      <td>3</td>\n",
       "      <td>3</td>\n",
       "    </tr>\n",
       "  </tbody>\n",
       "</table>\n",
       "</div>"
      ],
      "text/plain": [
       "   Intermediate steps correctness  # steps / # expected steps  correctness  \\\n",
       "0                               1                         1.0            1   \n",
       "1                               0                         0.0            0   \n",
       "2                               1                         1.0            1   \n",
       "3                               0                         0.0            0   \n",
       "4                               0                         1.0            1   \n",
       "\n",
       "   execution_time                                     input.question  \\\n",
       "0        4.253613            do bob and alice live in the same city?   \n",
       "1        4.253613  Is it likely that Donna is outside with an umb...   \n",
       "2        4.253613  do alice and charlie use the same email provider?   \n",
       "3        4.253613        Is it likely that Donna is awake right now?   \n",
       "4        4.253613  Donna is about to go outside. Does she need an...   \n",
       "\n",
       "                                     output.question  \\\n",
       "0            do bob and alice live in the same city?   \n",
       "1  Is it likely that Donna is outside with an umb...   \n",
       "2  do alice and charlie use the same email provider?   \n",
       "3        Is it likely that Donna is awake right now?   \n",
       "4  Donna is about to go outside. Does she need an...   \n",
       "\n",
       "                                       output.output  \\\n",
       "0  No, Bob and Alice do not live in the same city...   \n",
       "1  I'm sorry, but I don't have access to real-tim...   \n",
       "2  No, Alice and Charlie do not use the same emai...   \n",
       "3  I'm sorry, but I don't have access to informat...   \n",
       "4  Donna is at location 4 and the current weather...   \n",
       "\n",
       "                           output.intermediate_steps reference.reference  \\\n",
       "0  [(tool='find_users_by_name' tool_input={'name'...                  no   \n",
       "1                                                 []                 yes   \n",
       "2  [(tool='find_users_by_name' tool_input={'name'...                  no   \n",
       "3                                                 []                 yes   \n",
       "4  [(tool='find_users_by_name' tool_input={'name'...                 yes   \n",
       "\n",
       "   reference.order_matters                           reference.expected_steps  \\\n",
       "0                    False  [find_users_by_name, get_user_location, get_ci...   \n",
       "1                    False  [find_users_by_name, get_user_location, get_cu...   \n",
       "2                     True  [find_users_by_name, get_user_email, get_user_...   \n",
       "3                     True  [find_users_by_name, get_user_location, get_cu...   \n",
       "4                     True  [find_users_by_name, get_user_location, get_cu...   \n",
       "\n",
       "   num_expected_steps  actual_number_of_steps  \n",
       "0                   5                       5  \n",
       "1                   4                       0  \n",
       "2                   3                       3  \n",
       "3                   3                       0  \n",
       "4                   3                       3  "
      ]
     },
     "execution_count": 29,
     "metadata": {},
     "output_type": "execute_result"
    }
   ],
   "source": [
    "df[\"num_expected_steps\"] = df[\"reference.expected_steps\"].apply(len)\n",
    "df[\"actual_number_of_steps\"] = df[\"output.intermediate_steps\"].apply(len)\n",
    "\n",
    "df.head()"
   ]
  },
  {
   "cell_type": "code",
   "execution_count": 32,
   "id": "ffab97b7-eda2-408d-b611-596b637e627a",
   "metadata": {
    "tags": []
   },
   "outputs": [
    {
     "data": {
      "text/html": [
       "<div>\n",
       "<style scoped>\n",
       "    .dataframe tbody tr th:only-of-type {\n",
       "        vertical-align: middle;\n",
       "    }\n",
       "\n",
       "    .dataframe tbody tr th {\n",
       "        vertical-align: top;\n",
       "    }\n",
       "\n",
       "    .dataframe thead th {\n",
       "        text-align: right;\n",
       "    }\n",
       "</style>\n",
       "<table border=\"1\" class=\"dataframe\">\n",
       "  <thead>\n",
       "    <tr style=\"text-align: right;\">\n",
       "      <th></th>\n",
       "      <th>Intermediate steps correctness</th>\n",
       "      <th># steps / # expected steps</th>\n",
       "      <th>correctness</th>\n",
       "      <th>execution_time</th>\n",
       "      <th>input.question</th>\n",
       "      <th>output.question</th>\n",
       "      <th>output.output</th>\n",
       "      <th>output.intermediate_steps</th>\n",
       "      <th>reference.reference</th>\n",
       "      <th>reference.order_matters</th>\n",
       "      <th>reference.expected_steps</th>\n",
       "      <th>num_expected_steps</th>\n",
       "      <th>actual_number_of_steps</th>\n",
       "    </tr>\n",
       "  </thead>\n",
       "  <tbody>\n",
       "    <tr>\n",
       "      <th>0</th>\n",
       "      <td>1</td>\n",
       "      <td>1.0</td>\n",
       "      <td>1</td>\n",
       "      <td>4.253613</td>\n",
       "      <td>do bob and alice live in the same city?</td>\n",
       "      <td>do bob and alice live in the same city?</td>\n",
       "      <td>No, Bob and Alice do not live in the same city...</td>\n",
       "      <td>[(tool='find_users_by_name' tool_input={'name'...</td>\n",
       "      <td>no</td>\n",
       "      <td>False</td>\n",
       "      <td>[find_users_by_name, get_user_location, get_ci...</td>\n",
       "      <td>5</td>\n",
       "      <td>5</td>\n",
       "    </tr>\n",
       "    <tr>\n",
       "      <th>2</th>\n",
       "      <td>1</td>\n",
       "      <td>1.0</td>\n",
       "      <td>1</td>\n",
       "      <td>4.253613</td>\n",
       "      <td>do alice and charlie use the same email provider?</td>\n",
       "      <td>do alice and charlie use the same email provider?</td>\n",
       "      <td>No, Alice and Charlie do not use the same emai...</td>\n",
       "      <td>[(tool='find_users_by_name' tool_input={'name'...</td>\n",
       "      <td>no</td>\n",
       "      <td>True</td>\n",
       "      <td>[find_users_by_name, get_user_email, get_user_...</td>\n",
       "      <td>3</td>\n",
       "      <td>3</td>\n",
       "    </tr>\n",
       "    <tr>\n",
       "      <th>4</th>\n",
       "      <td>0</td>\n",
       "      <td>1.0</td>\n",
       "      <td>1</td>\n",
       "      <td>4.253613</td>\n",
       "      <td>Donna is about to go outside. Does she need an...</td>\n",
       "      <td>Donna is about to go outside. Does she need an...</td>\n",
       "      <td>Donna is at location 4 and the current weather...</td>\n",
       "      <td>[(tool='find_users_by_name' tool_input={'name'...</td>\n",
       "      <td>yes</td>\n",
       "      <td>True</td>\n",
       "      <td>[find_users_by_name, get_user_location, get_cu...</td>\n",
       "      <td>3</td>\n",
       "      <td>3</td>\n",
       "    </tr>\n",
       "    <tr>\n",
       "      <th>5</th>\n",
       "      <td>0</td>\n",
       "      <td>1.0</td>\n",
       "      <td>0</td>\n",
       "      <td>4.253613</td>\n",
       "      <td>whats the name of the city where bob lives?</td>\n",
       "      <td>whats the name of the city where bob lives?</td>\n",
       "      <td>The name of the city where Bob lives is New York.</td>\n",
       "      <td>[(tool='list_user_ids' tool_input={} log='\\nIn...</td>\n",
       "      <td>Los Angeles</td>\n",
       "      <td>True</td>\n",
       "      <td>[find_users_by_name, get_user_location, get_ci...</td>\n",
       "      <td>3</td>\n",
       "      <td>3</td>\n",
       "    </tr>\n",
       "    <tr>\n",
       "      <th>6</th>\n",
       "      <td>1</td>\n",
       "      <td>1.0</td>\n",
       "      <td>1</td>\n",
       "      <td>4.253613</td>\n",
       "      <td>what is the current users favorite color and n...</td>\n",
       "      <td>what is the current users favorite color and n...</td>\n",
       "      <td>The current user's favorite color is yellow an...</td>\n",
       "      <td>[(tool='get_current_user_id' tool_input={} log...</td>\n",
       "      <td>yellow and Charlie</td>\n",
       "      <td>True</td>\n",
       "      <td>[get_current_user_id, get_user_favorite_color,...</td>\n",
       "      <td>3</td>\n",
       "      <td>3</td>\n",
       "    </tr>\n",
       "  </tbody>\n",
       "</table>\n",
       "</div>"
      ],
      "text/plain": [
       "   Intermediate steps correctness  # steps / # expected steps  correctness  \\\n",
       "0                               1                         1.0            1   \n",
       "2                               1                         1.0            1   \n",
       "4                               0                         1.0            1   \n",
       "5                               0                         1.0            0   \n",
       "6                               1                         1.0            1   \n",
       "\n",
       "   execution_time                                     input.question  \\\n",
       "0        4.253613            do bob and alice live in the same city?   \n",
       "2        4.253613  do alice and charlie use the same email provider?   \n",
       "4        4.253613  Donna is about to go outside. Does she need an...   \n",
       "5        4.253613        whats the name of the city where bob lives?   \n",
       "6        4.253613  what is the current users favorite color and n...   \n",
       "\n",
       "                                     output.question  \\\n",
       "0            do bob and alice live in the same city?   \n",
       "2  do alice and charlie use the same email provider?   \n",
       "4  Donna is about to go outside. Does she need an...   \n",
       "5        whats the name of the city where bob lives?   \n",
       "6  what is the current users favorite color and n...   \n",
       "\n",
       "                                       output.output  \\\n",
       "0  No, Bob and Alice do not live in the same city...   \n",
       "2  No, Alice and Charlie do not use the same emai...   \n",
       "4  Donna is at location 4 and the current weather...   \n",
       "5  The name of the city where Bob lives is New York.   \n",
       "6  The current user's favorite color is yellow an...   \n",
       "\n",
       "                           output.intermediate_steps reference.reference  \\\n",
       "0  [(tool='find_users_by_name' tool_input={'name'...                  no   \n",
       "2  [(tool='find_users_by_name' tool_input={'name'...                  no   \n",
       "4  [(tool='find_users_by_name' tool_input={'name'...                 yes   \n",
       "5  [(tool='list_user_ids' tool_input={} log='\\nIn...         Los Angeles   \n",
       "6  [(tool='get_current_user_id' tool_input={} log...  yellow and Charlie   \n",
       "\n",
       "   reference.order_matters                           reference.expected_steps  \\\n",
       "0                    False  [find_users_by_name, get_user_location, get_ci...   \n",
       "2                     True  [find_users_by_name, get_user_email, get_user_...   \n",
       "4                     True  [find_users_by_name, get_user_location, get_cu...   \n",
       "5                     True  [find_users_by_name, get_user_location, get_ci...   \n",
       "6                     True  [get_current_user_id, get_user_favorite_color,...   \n",
       "\n",
       "   num_expected_steps  actual_number_of_steps  \n",
       "0                   5                       5  \n",
       "2                   3                       3  \n",
       "4                   3                       3  \n",
       "5                   3                       3  \n",
       "6                   3                       3  "
      ]
     },
     "execution_count": 32,
     "metadata": {},
     "output_type": "execute_result"
    }
   ],
   "source": [
    "df.sort_values(\"actual_number_of_steps\", ascending=False).head()"
   ]
  }
 ],
 "metadata": {
  "kernelspec": {
   "display_name": "Python 3 (ipykernel)",
   "language": "python",
   "name": "python3"
  },
  "language_info": {
   "codemirror_mode": {
    "name": "ipython",
    "version": 3
   },
   "file_extension": ".py",
   "mimetype": "text/x-python",
   "name": "python",
   "nbconvert_exporter": "python",
   "pygments_lexer": "ipython3",
   "version": "3.9.6"
  }
 },
 "nbformat": 4,
 "nbformat_minor": 5
}
