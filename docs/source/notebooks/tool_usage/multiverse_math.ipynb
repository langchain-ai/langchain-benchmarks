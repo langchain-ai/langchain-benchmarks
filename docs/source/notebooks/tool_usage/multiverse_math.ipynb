{
 "cells": [
  {
   "cell_type": "markdown",
   "id": "60bb467d-861d-4b07-a48d-8e5aa177c969",
   "metadata": {
    "tags": []
   },
   "source": [
    "# Multiverse Math\n",
    "\n",
    "In this task, the agent is operating in an alternate universe which in which the basic mathematical operations like addition and multiplication are different.\n",
    "\n",
    "The agent must use tools that allow is to carry out calculations in this universe.\n",
    "\n",
    "This task can help verify that an agent is able to ignore its own knowledge of math and instead correctly use information returned by the tools.\n",
    "\n",
    "The modified mathematical operations yield different reuslts, but still retain some properties (e.g., the modified multiplication operation is still commutative).\n",
    "\n",
    "Please note that the modified operations are not guaranteed to even make sense in the real world since not all properties will be retained (e.g., distributive property).\n",
    "\n",
    "------------------"
   ]
  },
  {
   "cell_type": "markdown",
   "id": "03488ab1-31ed-41c2-8da2-46b02599b181",
   "metadata": {},
   "source": [
    "For this code to work, please configure LangSmith environment variables with your credentials."
   ]
  },
  {
   "cell_type": "code",
   "execution_count": 1,
   "id": "1615b8ff-688a-4447-8c4c-d64ad02818ed",
   "metadata": {},
   "outputs": [],
   "source": [
    "import os\n",
    "\n",
    "os.environ[\"LANGCHAIN_API_KEY\"] = \"sk-...\"  # Your LangSmith API key"
   ]
  },
  {
   "cell_type": "code",
   "execution_count": 1,
   "id": "b39159d0-9ea1-414f-a9d8-4a7b22b3d2cc",
   "metadata": {
    "tags": []
   },
   "outputs": [],
   "source": [
    "from langchain_benchmarks import clone_public_dataset, registry"
   ]
  },
  {
   "cell_type": "code",
   "execution_count": 2,
   "id": "1aef2b32-a5df-421f-8be3-a2ef27372ece",
   "metadata": {
    "tags": []
   },
   "outputs": [
    {
     "data": {
      "text/html": [
       "<table>\n",
       "<tbody>\n",
       "<tr><td>Name       </td><td>Multiverse Math                                                                                                                                            </td></tr>\n",
       "<tr><td>Type       </td><td>ToolUsageTask                                                                                                                                              </td></tr>\n",
       "<tr><td>Dataset ID </td><td><a href=\"https://smith.langchain.com/public/594f9f60-30a0-49bf-b075-f44beabf546a/d\" target=\"_blank\" rel=\"noopener\">594f9f60-30a0-49bf-b075-f44beabf546a</a></td></tr>\n",
       "<tr><td>Description</td><td>An environment that contains a few basic math operations, but with altered results.\n",
       "\n",
       "For example, multiplication of 5*3 will be re-interpreted as 5*3*1.1. The basic operations retain some basic properties, such as commutativity, associativity, and distributivity; however, the results are different than expected.\n",
       "\n",
       "The objective of this task is to evaluate the ability to use the provided tools to solve simple math questions and ignore any innate knowledge about math.                                                                                                                                                            </td></tr>\n",
       "</tbody>\n",
       "</table>"
      ],
      "text/plain": [
       "ToolUsageTask(name='Multiverse Math', dataset_id='https://smith.langchain.com/public/594f9f60-30a0-49bf-b075-f44beabf546a/d', description='An environment that contains a few basic math operations, but with altered results.\\n\\nFor example, multiplication of 5*3 will be re-interpreted as 5*3*1.1. The basic operations retain some basic properties, such as commutativity, associativity, and distributivity; however, the results are different than expected.\\n\\nThe objective of this task is to evaluate the ability to use the provided tools to solve simple math questions and ignore any innate knowledge about math.\\n', create_environment=<function get_environment at 0x7f938662a160>, instructions='You are requested to solve math questions in an alternate mathematical universe. The operations have been altered to yield different results than expected. Do not guess the answer or rely on your  innate knowledge of math. Use the provided tools to answer the question. While associativity and commutativity apply, distributivity does not. Answer the question using the fewest possible tools. Only include the numeric response without any clarifications.')"
      ]
     },
     "execution_count": 2,
     "metadata": {},
     "output_type": "execute_result"
    }
   ],
   "source": [
    "task = registry[\"Multiverse Math\"]\n",
    "task"
   ]
  },
  {
   "cell_type": "markdown",
   "id": "bc33a639-3caf-4314-8ea7-1c7c8b1d114d",
   "metadata": {},
   "source": [
    "Clone the dataset associaetd with this task"
   ]
  },
  {
   "cell_type": "code",
   "execution_count": 3,
   "id": "70369f67-deb4-467a-801a-6d38c3d0460d",
   "metadata": {
    "tags": []
   },
   "outputs": [
    {
     "name": "stdout",
     "output_type": "stream",
     "text": [
      "Dataset Multiverse Math already exists. Skipping.\n",
      "You can access the dataset at https://smith.langchain.com/o/e081f11e-fbd2-41b4-9fa8-5d76c76ef854/datasets/ddca73f1-ceda-4562-8c49-7ee0a9df2a01.\n"
     ]
    }
   ],
   "source": [
    "clone_public_dataset(task.dataset_id, dataset_name=task.name)"
   ]
  },
  {
   "cell_type": "markdown",
   "id": "cede4edd-884d-4330-a186-5058b712394b",
   "metadata": {},
   "source": [
    "## The Environment\n",
    "\n",
    "Let's check the environment"
   ]
  },
  {
   "cell_type": "code",
   "execution_count": 4,
   "id": "e2439d0c-ccb9-4f5b-a127-548725025a98",
   "metadata": {
    "tags": []
   },
   "outputs": [
    {
     "data": {
      "text/plain": [
       "[StructuredTool(name='multiply', description='multiply(a: float, b: float) -> float - Multiply two numbers; a * b.', args_schema=<class 'pydantic.v1.main.multiplySchemaSchema'>, func=<function multiply at 0x7f938669fb80>),\n",
       " StructuredTool(name='add', description='add(a: float, b: float) -> float - Add two numbers; a + b.', args_schema=<class 'pydantic.v1.main.addSchemaSchema'>, func=<function add at 0x7f938669fca0>),\n",
       " StructuredTool(name='divide', description='divide(a: float, b: float) -> float - Divide two numbers; a / b.', args_schema=<class 'pydantic.v1.main.divideSchemaSchema'>, func=<function divide at 0x7f938669fc10>),\n",
       " StructuredTool(name='subtract', description='subtract(a: float, b: float) -> float - Subtract two numbers; a - b.', args_schema=<class 'pydantic.v1.main.subtractSchemaSchema'>, func=<function subtract at 0x7f938669fe50>),\n",
       " StructuredTool(name='power', description='power(a: float, b: float) -> float - Raise a number to a power; a ** b.', args_schema=<class 'pydantic.v1.main.powerSchemaSchema'>, func=<function power at 0x7f938669fee0>)]"
      ]
     },
     "execution_count": 4,
     "metadata": {},
     "output_type": "execute_result"
    }
   ],
   "source": [
    "env = task.create_environment()\n",
    "env.tools[:5]"
   ]
  },
  {
   "cell_type": "markdown",
   "id": "1941e187-55ee-4d38-b529-4744ea2474b0",
   "metadata": {},
   "source": [
    "Multiplying 2 x 4 = 8.8!!"
   ]
  },
  {
   "cell_type": "code",
   "execution_count": 5,
   "id": "f5a100bd-6e19-498f-8a36-393b5c19bcb9",
   "metadata": {
    "tags": []
   },
   "outputs": [
    {
     "data": {
      "text/plain": [
       "8.8"
      ]
     },
     "execution_count": 5,
     "metadata": {},
     "output_type": "execute_result"
    }
   ],
   "source": [
    "env.tools[0].invoke({\"a\": 2, \"b\": 4})"
   ]
  },
  {
   "cell_type": "markdown",
   "id": "bc60ef11-6300-4a83-989e-ec5b7f196796",
   "metadata": {},
   "source": [
    "The task instructions"
   ]
  },
  {
   "cell_type": "code",
   "execution_count": 6,
   "id": "31afb08b-17b8-4866-86c1-ee24e804415c",
   "metadata": {
    "tags": []
   },
   "outputs": [
    {
     "data": {
      "text/plain": [
       "'You are requested to solve math questions in an alternate mathematical universe. The operations have been altered to yield different results than expected. Do not guess the answer or rely on your  innate knowledge of math. Use the provided tools to answer the question. While associativity and commutativity apply, distributivity does not. Answer the question using the fewest possible tools. Only include the numeric response without any clarifications.'"
      ]
     },
     "execution_count": 6,
     "metadata": {},
     "output_type": "execute_result"
    }
   ],
   "source": [
    "task.instructions"
   ]
  },
  {
   "cell_type": "markdown",
   "id": "92d65770-6a4f-4029-beba-5fa9aeb18809",
   "metadata": {},
   "source": [
    "## Agent"
   ]
  },
  {
   "cell_type": "markdown",
   "id": "b462f7b8-fd42-4613-ab5f-5f3cbbc37d28",
   "metadata": {},
   "source": [
    "Let's build an agent that we can use for evaluation."
   ]
  },
  {
   "cell_type": "code",
   "execution_count": 7,
   "id": "6142cf4e-862c-47a3-aa75-81d7d3231308",
   "metadata": {
    "tags": []
   },
   "outputs": [
    {
     "data": {
      "text/plain": [
       "{'question': 'how much is 3 + 5',\n",
       " 'output': 'The result of 3 + 5 in this alternate mathematical universe is 9.2.',\n",
       " 'intermediate_steps': [(AgentActionMessageLog(tool='add', tool_input={'a': 3, 'b': 5}, log=\"\\nInvoking: `add` with `{'a': 3, 'b': 5}`\\n\\n\\n\", message_log=[AIMessage(content='', additional_kwargs={'function_call': {'arguments': '{\\n  \"a\": 3,\\n  \"b\": 5\\n}', 'name': 'add'}})]),\n",
       "   9.2)]}"
      ]
     },
     "execution_count": 7,
     "metadata": {},
     "output_type": "execute_result"
    }
   ],
   "source": [
    "from langchain_benchmarks.tool_usage import agents\n",
    "\n",
    "agent_factory = agents.OpenAIAgentFactory(task, model=\"gpt-3.5-turbo-16k\")\n",
    "\n",
    "# Let's test that our agent works\n",
    "agent = agent_factory.create()\n",
    "agent.invoke({\"question\": \"how much is 3 + 5\"})"
   ]
  },
  {
   "cell_type": "markdown",
   "id": "3821e4b0-8e67-418a-840c-470fcde42df0",
   "metadata": {},
   "source": [
    "## Eval\n",
    "\n",
    "Let's evaluate an agent now"
   ]
  },
  {
   "cell_type": "code",
   "execution_count": 8,
   "id": "fb32763c-79ab-426a-8fc6-bf8ebb0dd432",
   "metadata": {
    "tags": []
   },
   "outputs": [
    {
     "name": "stdout",
     "output_type": "stream",
     "text": [
      "View the evaluation results for project 'test-weary-wing-36' at:\n",
      "https://smith.langchain.com/o/e081f11e-fbd2-41b4-9fa8-5d76c76ef854/projects/p/33124759-882e-4a5c-a121-736310a40a1f?eval=true\n",
      "\n",
      "View all tests for Dataset Multiverse Math at:\n",
      "https://smith.langchain.com/o/e081f11e-fbd2-41b4-9fa8-5d76c76ef854/datasets/ddca73f1-ceda-4562-8c49-7ee0a9df2a01\n",
      "[------------------------------------------------->] 10/10\n",
      " Eval quantiles:\n",
      "                                    0.25       0.5      0.75      mean  \\\n",
      "Intermediate steps correctness  0.250000  1.000000  1.000000  0.700000   \n",
      "# steps / # expected steps      1.000000  1.000000  1.000000  1.033333   \n",
      "correctness                     0.000000  0.000000  1.000000  0.400000   \n",
      "execution_time                  5.771554  5.771554  5.771554  5.771554   \n",
      "\n",
      "                                    mode  \n",
      "Intermediate steps correctness  1.000000  \n",
      "# steps / # expected steps      1.000000  \n",
      "correctness                     0.000000  \n",
      "execution_time                  5.771554  \n"
     ]
    }
   ],
   "source": [
    "from langsmith.client import Client\n",
    "\n",
    "from langchain_benchmarks.tool_usage import STANDARD_AGENT_EVALUATOR\n",
    "\n",
    "client = Client()\n",
    "\n",
    "test_run = client.run_on_dataset(\n",
    "    dataset_name=task.name,\n",
    "    llm_or_chain_factory=agent_factory.create,\n",
    "    evaluation=STANDARD_AGENT_EVALUATOR,\n",
    "    verbose=True,\n",
    "    tags=[\"gpt-3.5-turbo-16k\"],\n",
    ")"
   ]
  },
  {
   "cell_type": "markdown",
   "id": "1b039225-01cf-481a-87a6-4e880e9b1dcd",
   "metadata": {},
   "source": [
    "## Inspect\n",
    "\n",
    "You can take a look at the underlying results."
   ]
  },
  {
   "cell_type": "code",
   "execution_count": 9,
   "id": "6eb19db1-43b8-4866-a3d2-f211ba92ab8b",
   "metadata": {
    "tags": []
   },
   "outputs": [],
   "source": [
    "import pandas as pd\n",
    "\n",
    "df = test_run.to_dataframe()\n",
    "df = pd.json_normalize(df.to_dict(orient=\"records\"))"
   ]
  },
  {
   "cell_type": "code",
   "execution_count": 10,
   "id": "7ab5a8b9-a937-4537-b879-704284df4494",
   "metadata": {
    "tags": []
   },
   "outputs": [
    {
     "data": {
      "text/plain": [
       "0.4"
      ]
     },
     "execution_count": 10,
     "metadata": {},
     "output_type": "execute_result"
    }
   ],
   "source": [
    "df[\"correctness\"].mean()"
   ]
  },
  {
   "cell_type": "code",
   "execution_count": 11,
   "id": "ab7516ed-36b1-4c16-bf4a-cc49077460ad",
   "metadata": {
    "tags": []
   },
   "outputs": [],
   "source": [
    "df[\"num_expected_steps\"] = df[\"reference.expected_steps\"].apply(len)\n",
    "df[\"actual_number_of_steps\"] = df[\"output.intermediate_steps\"].apply(len)"
   ]
  },
  {
   "cell_type": "code",
   "execution_count": 12,
   "id": "50d7590d-20de-4768-ac90-adcdbfa70068",
   "metadata": {
    "tags": []
   },
   "outputs": [
    {
     "data": {
      "text/html": [
       "<div>\n",
       "<style scoped>\n",
       "    .dataframe tbody tr th:only-of-type {\n",
       "        vertical-align: middle;\n",
       "    }\n",
       "\n",
       "    .dataframe tbody tr th {\n",
       "        vertical-align: top;\n",
       "    }\n",
       "\n",
       "    .dataframe thead th {\n",
       "        text-align: right;\n",
       "    }\n",
       "</style>\n",
       "<table border=\"1\" class=\"dataframe\">\n",
       "  <thead>\n",
       "    <tr style=\"text-align: right;\">\n",
       "      <th></th>\n",
       "      <th>Intermediate steps correctness</th>\n",
       "      <th># steps / # expected steps</th>\n",
       "      <th>correctness</th>\n",
       "      <th>execution_time</th>\n",
       "      <th>input.question</th>\n",
       "      <th>output.question</th>\n",
       "      <th>output.output</th>\n",
       "      <th>output.intermediate_steps</th>\n",
       "      <th>reference.reference</th>\n",
       "      <th>reference.expected_steps</th>\n",
       "      <th>num_expected_steps</th>\n",
       "      <th>actual_number_of_steps</th>\n",
       "    </tr>\n",
       "  </thead>\n",
       "  <tbody>\n",
       "    <tr>\n",
       "      <th>0</th>\n",
       "      <td>1</td>\n",
       "      <td>1.0</td>\n",
       "      <td>1</td>\n",
       "      <td>5.771554</td>\n",
       "      <td>Add 2 and 3</td>\n",
       "      <td>Add 2 and 3</td>\n",
       "      <td>The sum of 2 and 3 in this alternate mathemati...</td>\n",
       "      <td>[(tool='add' tool_input={'a': 2, 'b': 3} log=\"...</td>\n",
       "      <td>6.20</td>\n",
       "      <td>[add]</td>\n",
       "      <td>1</td>\n",
       "      <td>1</td>\n",
       "    </tr>\n",
       "    <tr>\n",
       "      <th>1</th>\n",
       "      <td>1</td>\n",
       "      <td>1.0</td>\n",
       "      <td>0</td>\n",
       "      <td>5.771554</td>\n",
       "      <td>Subtract 3 from 2</td>\n",
       "      <td>Subtract 3 from 2</td>\n",
       "      <td>The result of subtracting 3 from 2 in this alt...</td>\n",
       "      <td>[(tool='subtract' tool_input={'a': 2, 'b': 3} ...</td>\n",
       "      <td>-4.00</td>\n",
       "      <td>[subtract]</td>\n",
       "      <td>1</td>\n",
       "      <td>1</td>\n",
       "    </tr>\n",
       "    <tr>\n",
       "      <th>2</th>\n",
       "      <td>1</td>\n",
       "      <td>1.0</td>\n",
       "      <td>1</td>\n",
       "      <td>5.771554</td>\n",
       "      <td>What is -5 if evaluated using the negate funct...</td>\n",
       "      <td>What is -5 if evaluated using the negate funct...</td>\n",
       "      <td>The result of evaluating -5 using the negate f...</td>\n",
       "      <td>[(tool='negate' tool_input={'a': -5} log=\"\\nIn...</td>\n",
       "      <td>-5.00</td>\n",
       "      <td>[negate]</td>\n",
       "      <td>1</td>\n",
       "      <td>1</td>\n",
       "    </tr>\n",
       "    <tr>\n",
       "      <th>3</th>\n",
       "      <td>1</td>\n",
       "      <td>1.0</td>\n",
       "      <td>0</td>\n",
       "      <td>5.771554</td>\n",
       "      <td>what is the result of 2 to the power of 3?</td>\n",
       "      <td>what is the result of 2 to the power of 3?</td>\n",
       "      <td>The result of 2 to the power of 3 is 32.</td>\n",
       "      <td>[(tool='power' tool_input={'a': 2, 'b': 3} log...</td>\n",
       "      <td>32.00</td>\n",
       "      <td>[power]</td>\n",
       "      <td>1</td>\n",
       "      <td>1</td>\n",
       "    </tr>\n",
       "    <tr>\n",
       "      <th>4</th>\n",
       "      <td>0</td>\n",
       "      <td>1.0</td>\n",
       "      <td>0</td>\n",
       "      <td>5.771554</td>\n",
       "      <td>I ate 1 apple and 2 oranges every day for 7 da...</td>\n",
       "      <td>I ate 1 apple and 2 oranges every day for 7 da...</td>\n",
       "      <td>You ate a total of 32.34 fruits.</td>\n",
       "      <td>[(tool='add' tool_input={'a': 1, 'b': 2} log=\"...</td>\n",
       "      <td>32.34</td>\n",
       "      <td>[multiply, add]</td>\n",
       "      <td>2</td>\n",
       "      <td>2</td>\n",
       "    </tr>\n",
       "  </tbody>\n",
       "</table>\n",
       "</div>"
      ],
      "text/plain": [
       "   Intermediate steps correctness  # steps / # expected steps  correctness  \\\n",
       "0                               1                         1.0            1   \n",
       "1                               1                         1.0            0   \n",
       "2                               1                         1.0            1   \n",
       "3                               1                         1.0            0   \n",
       "4                               0                         1.0            0   \n",
       "\n",
       "   execution_time                                     input.question  \\\n",
       "0        5.771554                                        Add 2 and 3   \n",
       "1        5.771554                                  Subtract 3 from 2   \n",
       "2        5.771554  What is -5 if evaluated using the negate funct...   \n",
       "3        5.771554         what is the result of 2 to the power of 3?   \n",
       "4        5.771554  I ate 1 apple and 2 oranges every day for 7 da...   \n",
       "\n",
       "                                     output.question  \\\n",
       "0                                        Add 2 and 3   \n",
       "1                                  Subtract 3 from 2   \n",
       "2  What is -5 if evaluated using the negate funct...   \n",
       "3         what is the result of 2 to the power of 3?   \n",
       "4  I ate 1 apple and 2 oranges every day for 7 da...   \n",
       "\n",
       "                                       output.output  \\\n",
       "0  The sum of 2 and 3 in this alternate mathemati...   \n",
       "1  The result of subtracting 3 from 2 in this alt...   \n",
       "2  The result of evaluating -5 using the negate f...   \n",
       "3           The result of 2 to the power of 3 is 32.   \n",
       "4                   You ate a total of 32.34 fruits.   \n",
       "\n",
       "                           output.intermediate_steps  reference.reference  \\\n",
       "0  [(tool='add' tool_input={'a': 2, 'b': 3} log=\"...                 6.20   \n",
       "1  [(tool='subtract' tool_input={'a': 2, 'b': 3} ...                -4.00   \n",
       "2  [(tool='negate' tool_input={'a': -5} log=\"\\nIn...                -5.00   \n",
       "3  [(tool='power' tool_input={'a': 2, 'b': 3} log...                32.00   \n",
       "4  [(tool='add' tool_input={'a': 1, 'b': 2} log=\"...                32.34   \n",
       "\n",
       "  reference.expected_steps  num_expected_steps  actual_number_of_steps  \n",
       "0                    [add]                   1                       1  \n",
       "1               [subtract]                   1                       1  \n",
       "2                 [negate]                   1                       1  \n",
       "3                  [power]                   1                       1  \n",
       "4          [multiply, add]                   2                       2  "
      ]
     },
     "execution_count": 12,
     "metadata": {},
     "output_type": "execute_result"
    }
   ],
   "source": [
    "df.head()"
   ]
  }
 ],
 "metadata": {
  "kernelspec": {
   "display_name": "Python 3 (ipykernel)",
   "language": "python",
   "name": "python3"
  },
  "language_info": {
   "codemirror_mode": {
    "name": "ipython",
    "version": 3
   },
   "file_extension": ".py",
   "mimetype": "text/x-python",
   "name": "python",
   "nbconvert_exporter": "python",
   "pygments_lexer": "ipython3",
   "version": "3.9.6"
  }
 },
 "nbformat": 4,
 "nbformat_minor": 5
}
