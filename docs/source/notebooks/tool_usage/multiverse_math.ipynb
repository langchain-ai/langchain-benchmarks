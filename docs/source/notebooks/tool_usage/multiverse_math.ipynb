{
 "cells": [
  {
   "cell_type": "markdown",
   "id": "60bb467d-861d-4b07-a48d-8e5aa177c969",
   "metadata": {
    "tags": []
   },
   "source": [
    "# Multiverse Math\n",
    "\n",
    "In this task, the agent is operating in an alternate universe which in which the basic mathematical operations like addition and multiplication are different.\n",
    "\n",
    "The agent must use tools that allow is to carry out calculations in this universe.\n",
    "\n",
    "This task can help verify that an agent is able to ignore its own knowledge of math and instead correctly use information returned by the tools.\n",
    "\n",
    "The modified mathematical operations yield different reuslts, but still retain some properties (e.g., the modified multiplication operation is still commutative).\n",
    "\n",
    "Please note that the modified operations are not guaranteed to even make sense in the real world since not all properties will be retained (e.g., distributive property).\n",
    "\n",
    "------------------"
   ]
  },
  {
   "cell_type": "markdown",
   "id": "03488ab1-31ed-41c2-8da2-46b02599b181",
   "metadata": {},
   "source": [
    "For this code to work, please configure LangSmith environment variables with your credentials."
   ]
  },
  {
   "cell_type": "code",
   "execution_count": 1,
   "id": "1615b8ff-688a-4447-8c4c-d64ad02818ed",
   "metadata": {},
   "outputs": [],
   "source": [
    "import os\n",
    "\n",
    "os.environ[\"LANGCHAIN_API_KEY\"] = \"ls_..\"  # Your LangSmith API key"
   ]
  },
  {
   "cell_type": "code",
   "execution_count": 2,
   "id": "3f4171c7-5c92-4303-be03-d4ae20e61b12",
   "metadata": {},
   "outputs": [],
   "source": [
    "import uuid\n",
    "\n",
    "experiment_uuid = uuid.uuid4().hex[:4]"
   ]
  },
  {
   "cell_type": "code",
   "execution_count": 3,
   "id": "b39159d0-9ea1-414f-a9d8-4a7b22b3d2cc",
   "metadata": {
    "tags": []
   },
   "outputs": [],
   "source": [
    "from langchain_benchmarks import clone_public_dataset, registry"
   ]
  },
  {
   "cell_type": "code",
   "execution_count": 4,
   "id": "1aef2b32-a5df-421f-8be3-a2ef27372ece",
   "metadata": {
    "tags": []
   },
   "outputs": [
    {
     "data": {
      "text/html": [
       "<table>\n",
       "<tbody>\n",
       "<tr><td>Name       </td><td>Multiverse Math                                                                                                                                            </td></tr>\n",
       "<tr><td>Type       </td><td>ToolUsageTask                                                                                                                                              </td></tr>\n",
       "<tr><td>Dataset ID </td><td><a href=\"https://smith.langchain.com/public/594f9f60-30a0-49bf-b075-f44beabf546a/d\" target=\"_blank\" rel=\"noopener\">594f9f60-30a0-49bf-b075-f44beabf546a</a></td></tr>\n",
       "<tr><td>Description</td><td>An environment that contains a few basic math operations, but with altered results.\n",
       "\n",
       "For example, multiplication of 5*3 will be re-interpreted as 5*3*1.1. The basic operations retain some basic properties, such as commutativity, associativity, and distributivity; however, the results are different than expected.\n",
       "\n",
       "The objective of this task is to evaluate the ability to use the provided tools to solve simple math questions and ignore any innate knowledge about math.                                                                                                                                                            </td></tr>\n",
       "</tbody>\n",
       "</table>"
      ],
      "text/plain": [
       "ToolUsageTask(name='Multiverse Math', dataset_id='https://smith.langchain.com/public/594f9f60-30a0-49bf-b075-f44beabf546a/d', description='An environment that contains a few basic math operations, but with altered results.\\n\\nFor example, multiplication of 5*3 will be re-interpreted as 5*3*1.1. The basic operations retain some basic properties, such as commutativity, associativity, and distributivity; however, the results are different than expected.\\n\\nThe objective of this task is to evaluate the ability to use the provided tools to solve simple math questions and ignore any innate knowledge about math.\\n', create_environment=<function get_environment at 0x1639e3ba0>, instructions='You are requested to solve math questions in an alternate mathematical universe. The operations have been altered to yield different results than expected. Do not guess the answer or rely on your  innate knowledge of math. Use the provided tools to answer the question. While associativity and commutativity apply, distributivity does not. Answer the question using the fewest possible tools. Only include the numeric response without any clarifications.')"
      ]
     },
     "execution_count": 4,
     "metadata": {},
     "output_type": "execute_result"
    }
   ],
   "source": [
    "task = registry[\"Multiverse Math\"]\n",
    "task"
   ]
  },
  {
   "cell_type": "markdown",
   "id": "bc33a639-3caf-4314-8ea7-1c7c8b1d114d",
   "metadata": {},
   "source": [
    "Clone the dataset associaetd with this task"
   ]
  },
  {
   "cell_type": "code",
   "execution_count": 5,
   "id": "70369f67-deb4-467a-801a-6d38c3d0460d",
   "metadata": {
    "tags": []
   },
   "outputs": [
    {
     "name": "stdout",
     "output_type": "stream",
     "text": [
      "Dataset Multiverse Math already exists. Skipping.\n",
      "You can access the dataset at https://smith.langchain.com/o/ebbaf2eb-769b-4505-aca2-d11de10372a4/datasets/108bdc68-1808-4b60-92ef-fbd9bd7e1ad0.\n"
     ]
    }
   ],
   "source": [
    "clone_public_dataset(task.dataset_id, dataset_name=task.name)"
   ]
  },
  {
   "cell_type": "markdown",
   "id": "cede4edd-884d-4330-a186-5058b712394b",
   "metadata": {},
   "source": [
    "## The Environment\n",
    "\n",
    "Let's check the environment"
   ]
  },
  {
   "cell_type": "code",
   "execution_count": 7,
   "id": "e2439d0c-ccb9-4f5b-a127-548725025a98",
   "metadata": {
    "tags": []
   },
   "outputs": [
    {
     "data": {
      "text/plain": [
       "[StructuredTool(name='multiply', description='multiply(a: float, b: float) -> float - Multiply two numbers; a * b.', args_schema=<class 'pydantic.v1.main.multiplySchemaSchema'>, func=<function multiply at 0x1639e3560>),\n",
       " StructuredTool(name='add', description='add(a: float, b: float) -> float - Add two numbers; a + b.', args_schema=<class 'pydantic.v1.main.addSchemaSchema'>, func=<function add at 0x1639e36a0>),\n",
       " StructuredTool(name='divide', description='divide(a: float, b: float) -> float - Divide two numbers; a / b.', args_schema=<class 'pydantic.v1.main.divideSchemaSchema'>, func=<function divide at 0x1639e3600>),\n",
       " StructuredTool(name='subtract', description='subtract(a: float, b: float) -> float - Subtract two numbers; a - b.', args_schema=<class 'pydantic.v1.main.subtractSchemaSchema'>, func=<function subtract at 0x1639e3880>),\n",
       " StructuredTool(name='power', description='power(a: float, b: float) -> float - Raise a number to a power; a ** b.', args_schema=<class 'pydantic.v1.main.powerSchemaSchema'>, func=<function power at 0x1639e3920>)]"
      ]
     },
     "execution_count": 7,
     "metadata": {},
     "output_type": "execute_result"
    }
   ],
   "source": [
    "env = task.create_environment()\n",
    "env.tools[:5]"
   ]
  },
  {
   "cell_type": "markdown",
   "id": "1941e187-55ee-4d38-b529-4744ea2474b0",
   "metadata": {},
   "source": [
    "Multiplying 2 x 4 = 8.8!!"
   ]
  },
  {
   "cell_type": "code",
   "execution_count": 8,
   "id": "f5a100bd-6e19-498f-8a36-393b5c19bcb9",
   "metadata": {
    "tags": []
   },
   "outputs": [
    {
     "data": {
      "text/plain": [
       "8.8"
      ]
     },
     "execution_count": 8,
     "metadata": {},
     "output_type": "execute_result"
    }
   ],
   "source": [
    "env.tools[0].invoke({\"a\": 2, \"b\": 4})"
   ]
  },
  {
   "cell_type": "markdown",
   "id": "bc60ef11-6300-4a83-989e-ec5b7f196796",
   "metadata": {},
   "source": [
    "The task instructions"
   ]
  },
  {
   "cell_type": "code",
   "execution_count": 9,
   "id": "31afb08b-17b8-4866-86c1-ee24e804415c",
   "metadata": {
    "tags": []
   },
   "outputs": [
    {
     "data": {
      "text/plain": [
       "'You are requested to solve math questions in an alternate mathematical universe. The operations have been altered to yield different results than expected. Do not guess the answer or rely on your  innate knowledge of math. Use the provided tools to answer the question. While associativity and commutativity apply, distributivity does not. Answer the question using the fewest possible tools. Only include the numeric response without any clarifications.'"
      ]
     },
     "execution_count": 9,
     "metadata": {},
     "output_type": "execute_result"
    }
   ],
   "source": [
    "task.instructions"
   ]
  },
  {
   "cell_type": "markdown",
   "id": "92d65770-6a4f-4029-beba-5fa9aeb18809",
   "metadata": {},
   "source": [
    "## Agent"
   ]
  },
  {
   "cell_type": "markdown",
   "id": "b462f7b8-fd42-4613-ab5f-5f3cbbc37d28",
   "metadata": {},
   "source": [
    "Let's build an agent that we can use for evaluation."
   ]
  },
  {
   "cell_type": "code",
   "execution_count": 10,
   "id": "6142cf4e-862c-47a3-aa75-81d7d3231308",
   "metadata": {
    "tags": []
   },
   "outputs": [
    {
     "data": {
      "text/plain": [
       "{'question': 'how much is 3 + 5',\n",
       " 'output': 'The result of 3 + 5 in this alternate mathematical universe is 9.2.',\n",
       " 'intermediate_steps': [(AgentActionMessageLog(tool='add', tool_input={'a': 3, 'b': 5}, log=\"\\nInvoking: `add` with `{'a': 3, 'b': 5}`\\n\\n\\n\", message_log=[AIMessage(content='', additional_kwargs={'function_call': {'arguments': '{\\n  \"a\": 3,\\n  \"b\": 5\\n}', 'name': 'add'}})]),\n",
       "   9.2)]}"
      ]
     },
     "execution_count": 10,
     "metadata": {},
     "output_type": "execute_result"
    }
   ],
   "source": [
    "from langchain_benchmarks.tool_usage import agents\n",
    "\n",
    "agent_factory = agents.OpenAIAgentFactory(task, model=\"gpt-3.5-turbo-16k\")\n",
    "\n",
    "# Let's test that our agent works\n",
    "agent = agent_factory.create()\n",
    "agent.invoke({\"question\": \"how much is 3 + 5\"})"
   ]
  },
  {
   "cell_type": "markdown",
   "id": "3821e4b0-8e67-418a-840c-470fcde42df0",
   "metadata": {},
   "source": [
    "## Eval\n",
    "\n",
    "Let's evaluate an agent now"
   ]
  },
  {
   "cell_type": "code",
   "execution_count": 11,
   "id": "fb32763c-79ab-426a-8fc6-bf8ebb0dd432",
   "metadata": {
    "tags": []
   },
   "outputs": [
    {
     "name": "stdout",
     "output_type": "stream",
     "text": [
      "View the evaluation results for project 'oai-functions-gpt-3.5-turbo-16k-ea06' at:\n",
      "https://smith.langchain.com/o/ebbaf2eb-769b-4505-aca2-d11de10372a4/projects/p/a7afaecf-faf2-4bf8-933e-39f08f06c8af?eval=true\n",
      "\n",
      "View all tests for Dataset Multiverse Math at:\n",
      "https://smith.langchain.com/o/ebbaf2eb-769b-4505-aca2-d11de10372a4/datasets/108bdc68-1808-4b60-92ef-fbd9bd7e1ad0\n",
      "[------------------------------------------------->] 10/10"
     ]
    },
    {
     "data": {
      "application/vnd.jupyter.widget-view+json": {
       "model_id": "ea88a2f040b94afba8f9b87cd2e5249c",
       "version_major": 2,
       "version_minor": 0
      },
      "text/plain": [
       "Waiting for evaluators to finish:   0%|          | 0/10 [00:00<?, ?it/s]"
      ]
     },
     "metadata": {},
     "output_type": "display_data"
    },
    {
     "name": "stdout",
     "output_type": "stream",
     "text": [
      "\n",
      " Eval quantiles:\n",
      "                      inputs.question               outputs.question  \\\n",
      "count                              10                             10   \n",
      "unique                             10                             10   \n",
      "top     convert 15 degrees to radians  convert 15 degrees to radians   \n",
      "freq                                1                              1   \n",
      "mean                              NaN                            NaN   \n",
      "std                               NaN                            NaN   \n",
      "min                               NaN                            NaN   \n",
      "25%                               NaN                            NaN   \n",
      "50%                               NaN                            NaN   \n",
      "75%                               NaN                            NaN   \n",
      "max                               NaN                            NaN   \n",
      "\n",
      "                                     outputs.output  \\\n",
      "count                                            10   \n",
      "unique                                           10   \n",
      "top     15 degrees is approximately 0.0417 radians.   \n",
      "freq                                              1   \n",
      "mean                                            NaN   \n",
      "std                                             NaN   \n",
      "min                                             NaN   \n",
      "25%                                             NaN   \n",
      "50%                                             NaN   \n",
      "75%                                             NaN   \n",
      "max                                             NaN   \n",
      "\n",
      "                               outputs.intermediate_steps  \\\n",
      "count                                                  10   \n",
      "unique                                                 10   \n",
      "top     [(tool='divide' tool_input={'a': 15, 'b': 180}...   \n",
      "freq                                                    1   \n",
      "mean                                                  NaN   \n",
      "std                                                   NaN   \n",
      "min                                                   NaN   \n",
      "25%                                                   NaN   \n",
      "50%                                                   NaN   \n",
      "75%                                                   NaN   \n",
      "max                                                   NaN   \n",
      "\n",
      "        feedback.Intermediate steps correctness  \\\n",
      "count                                 10.000000   \n",
      "unique                                      NaN   \n",
      "top                                         NaN   \n",
      "freq                                        NaN   \n",
      "mean                                   0.700000   \n",
      "std                                    0.483046   \n",
      "min                                    0.000000   \n",
      "25%                                    0.250000   \n",
      "50%                                    1.000000   \n",
      "75%                                    1.000000   \n",
      "max                                    1.000000   \n",
      "\n",
      "        feedback.# steps / # expected steps  feedback.correctness error  \\\n",
      "count                             10.000000             10.000000     0   \n",
      "unique                                  NaN                   NaN     0   \n",
      "top                                     NaN                   NaN   NaN   \n",
      "freq                                    NaN                   NaN   NaN   \n",
      "mean                               1.033333              0.400000   NaN   \n",
      "std                                0.399073              0.516398   NaN   \n",
      "min                                0.333333              0.000000   NaN   \n",
      "25%                                1.000000              0.000000   NaN   \n",
      "50%                                1.000000              0.000000   NaN   \n",
      "75%                                1.000000              1.000000   NaN   \n",
      "max                                2.000000              1.000000   NaN   \n",
      "\n",
      "        execution_time  \n",
      "count        10.000000  \n",
      "unique             NaN  \n",
      "top                NaN  \n",
      "freq               NaN  \n",
      "mean          8.212706  \n",
      "std           2.945678  \n",
      "min           5.384465  \n",
      "25%           6.064272  \n",
      "50%           7.099023  \n",
      "75%          10.367093  \n",
      "max          14.041779  \n"
     ]
    }
   ],
   "source": [
    "from langsmith.client import Client\n",
    "\n",
    "from langchain_benchmarks.tool_usage import get_eval_config\n",
    "\n",
    "client = Client()\n",
    "\n",
    "eval_config = get_eval_config()\n",
    "test_run = client.run_on_dataset(\n",
    "    dataset_name=task.name,\n",
    "    llm_or_chain_factory=agent_factory.create,\n",
    "    evaluation=eval_config,\n",
    "    verbose=True,\n",
    "    project_name=f\"oai-functions-gpt-3.5-turbo-16k-{experiment_uuid}\",\n",
    "    project_metadata={\n",
    "        \"model\": \"gpt-3.5-turbo-16k\",\n",
    "        \"arch\": \"openai-functions-agent\",\n",
    "    },\n",
    ")"
   ]
  },
  {
   "cell_type": "markdown",
   "id": "1b039225-01cf-481a-87a6-4e880e9b1dcd",
   "metadata": {},
   "source": [
    "## Inspect\n",
    "\n",
    "You can take a look at the underlying results."
   ]
  },
  {
   "cell_type": "code",
   "execution_count": 12,
   "id": "d282eb16-1a7b-45fa-8533-4b5b38db927a",
   "metadata": {},
   "outputs": [
    {
     "data": {
      "text/html": [
       "<div>\n",
       "<style scoped>\n",
       "    .dataframe tbody tr th:only-of-type {\n",
       "        vertical-align: middle;\n",
       "    }\n",
       "\n",
       "    .dataframe tbody tr th {\n",
       "        vertical-align: top;\n",
       "    }\n",
       "\n",
       "    .dataframe thead th {\n",
       "        text-align: right;\n",
       "    }\n",
       "</style>\n",
       "<table border=\"1\" class=\"dataframe\">\n",
       "  <thead>\n",
       "    <tr style=\"text-align: right;\">\n",
       "      <th></th>\n",
       "      <th>inputs.question</th>\n",
       "      <th>outputs.question</th>\n",
       "      <th>outputs.output</th>\n",
       "      <th>outputs.intermediate_steps</th>\n",
       "      <th>feedback.Intermediate steps correctness</th>\n",
       "      <th>feedback.# steps / # expected steps</th>\n",
       "      <th>feedback.correctness</th>\n",
       "      <th>error</th>\n",
       "      <th>execution_time</th>\n",
       "    </tr>\n",
       "  </thead>\n",
       "  <tbody>\n",
       "    <tr>\n",
       "      <th>count</th>\n",
       "      <td>10</td>\n",
       "      <td>10</td>\n",
       "      <td>10</td>\n",
       "      <td>10</td>\n",
       "      <td>10.000000</td>\n",
       "      <td>10.000000</td>\n",
       "      <td>10.000000</td>\n",
       "      <td>0</td>\n",
       "      <td>10.000000</td>\n",
       "    </tr>\n",
       "    <tr>\n",
       "      <th>unique</th>\n",
       "      <td>10</td>\n",
       "      <td>10</td>\n",
       "      <td>10</td>\n",
       "      <td>10</td>\n",
       "      <td>NaN</td>\n",
       "      <td>NaN</td>\n",
       "      <td>NaN</td>\n",
       "      <td>0</td>\n",
       "      <td>NaN</td>\n",
       "    </tr>\n",
       "    <tr>\n",
       "      <th>top</th>\n",
       "      <td>convert 15 degrees to radians</td>\n",
       "      <td>convert 15 degrees to radians</td>\n",
       "      <td>15 degrees is approximately 0.0417 radians.</td>\n",
       "      <td>[(tool='divide' tool_input={'a': 15, 'b': 180}...</td>\n",
       "      <td>NaN</td>\n",
       "      <td>NaN</td>\n",
       "      <td>NaN</td>\n",
       "      <td>NaN</td>\n",
       "      <td>NaN</td>\n",
       "    </tr>\n",
       "    <tr>\n",
       "      <th>freq</th>\n",
       "      <td>1</td>\n",
       "      <td>1</td>\n",
       "      <td>1</td>\n",
       "      <td>1</td>\n",
       "      <td>NaN</td>\n",
       "      <td>NaN</td>\n",
       "      <td>NaN</td>\n",
       "      <td>NaN</td>\n",
       "      <td>NaN</td>\n",
       "    </tr>\n",
       "    <tr>\n",
       "      <th>mean</th>\n",
       "      <td>NaN</td>\n",
       "      <td>NaN</td>\n",
       "      <td>NaN</td>\n",
       "      <td>NaN</td>\n",
       "      <td>0.700000</td>\n",
       "      <td>1.033333</td>\n",
       "      <td>0.400000</td>\n",
       "      <td>NaN</td>\n",
       "      <td>8.212706</td>\n",
       "    </tr>\n",
       "    <tr>\n",
       "      <th>std</th>\n",
       "      <td>NaN</td>\n",
       "      <td>NaN</td>\n",
       "      <td>NaN</td>\n",
       "      <td>NaN</td>\n",
       "      <td>0.483046</td>\n",
       "      <td>0.399073</td>\n",
       "      <td>0.516398</td>\n",
       "      <td>NaN</td>\n",
       "      <td>2.945678</td>\n",
       "    </tr>\n",
       "    <tr>\n",
       "      <th>min</th>\n",
       "      <td>NaN</td>\n",
       "      <td>NaN</td>\n",
       "      <td>NaN</td>\n",
       "      <td>NaN</td>\n",
       "      <td>0.000000</td>\n",
       "      <td>0.333333</td>\n",
       "      <td>0.000000</td>\n",
       "      <td>NaN</td>\n",
       "      <td>5.384465</td>\n",
       "    </tr>\n",
       "    <tr>\n",
       "      <th>25%</th>\n",
       "      <td>NaN</td>\n",
       "      <td>NaN</td>\n",
       "      <td>NaN</td>\n",
       "      <td>NaN</td>\n",
       "      <td>0.250000</td>\n",
       "      <td>1.000000</td>\n",
       "      <td>0.000000</td>\n",
       "      <td>NaN</td>\n",
       "      <td>6.064272</td>\n",
       "    </tr>\n",
       "    <tr>\n",
       "      <th>50%</th>\n",
       "      <td>NaN</td>\n",
       "      <td>NaN</td>\n",
       "      <td>NaN</td>\n",
       "      <td>NaN</td>\n",
       "      <td>1.000000</td>\n",
       "      <td>1.000000</td>\n",
       "      <td>0.000000</td>\n",
       "      <td>NaN</td>\n",
       "      <td>7.099023</td>\n",
       "    </tr>\n",
       "    <tr>\n",
       "      <th>75%</th>\n",
       "      <td>NaN</td>\n",
       "      <td>NaN</td>\n",
       "      <td>NaN</td>\n",
       "      <td>NaN</td>\n",
       "      <td>1.000000</td>\n",
       "      <td>1.000000</td>\n",
       "      <td>1.000000</td>\n",
       "      <td>NaN</td>\n",
       "      <td>10.367093</td>\n",
       "    </tr>\n",
       "    <tr>\n",
       "      <th>max</th>\n",
       "      <td>NaN</td>\n",
       "      <td>NaN</td>\n",
       "      <td>NaN</td>\n",
       "      <td>NaN</td>\n",
       "      <td>1.000000</td>\n",
       "      <td>2.000000</td>\n",
       "      <td>1.000000</td>\n",
       "      <td>NaN</td>\n",
       "      <td>14.041779</td>\n",
       "    </tr>\n",
       "  </tbody>\n",
       "</table>\n",
       "</div>"
      ],
      "text/plain": [
       "                      inputs.question               outputs.question  \\\n",
       "count                              10                             10   \n",
       "unique                             10                             10   \n",
       "top     convert 15 degrees to radians  convert 15 degrees to radians   \n",
       "freq                                1                              1   \n",
       "mean                              NaN                            NaN   \n",
       "std                               NaN                            NaN   \n",
       "min                               NaN                            NaN   \n",
       "25%                               NaN                            NaN   \n",
       "50%                               NaN                            NaN   \n",
       "75%                               NaN                            NaN   \n",
       "max                               NaN                            NaN   \n",
       "\n",
       "                                     outputs.output  \\\n",
       "count                                            10   \n",
       "unique                                           10   \n",
       "top     15 degrees is approximately 0.0417 radians.   \n",
       "freq                                              1   \n",
       "mean                                            NaN   \n",
       "std                                             NaN   \n",
       "min                                             NaN   \n",
       "25%                                             NaN   \n",
       "50%                                             NaN   \n",
       "75%                                             NaN   \n",
       "max                                             NaN   \n",
       "\n",
       "                               outputs.intermediate_steps  \\\n",
       "count                                                  10   \n",
       "unique                                                 10   \n",
       "top     [(tool='divide' tool_input={'a': 15, 'b': 180}...   \n",
       "freq                                                    1   \n",
       "mean                                                  NaN   \n",
       "std                                                   NaN   \n",
       "min                                                   NaN   \n",
       "25%                                                   NaN   \n",
       "50%                                                   NaN   \n",
       "75%                                                   NaN   \n",
       "max                                                   NaN   \n",
       "\n",
       "        feedback.Intermediate steps correctness  \\\n",
       "count                                 10.000000   \n",
       "unique                                      NaN   \n",
       "top                                         NaN   \n",
       "freq                                        NaN   \n",
       "mean                                   0.700000   \n",
       "std                                    0.483046   \n",
       "min                                    0.000000   \n",
       "25%                                    0.250000   \n",
       "50%                                    1.000000   \n",
       "75%                                    1.000000   \n",
       "max                                    1.000000   \n",
       "\n",
       "        feedback.# steps / # expected steps  feedback.correctness error  \\\n",
       "count                             10.000000             10.000000     0   \n",
       "unique                                  NaN                   NaN     0   \n",
       "top                                     NaN                   NaN   NaN   \n",
       "freq                                    NaN                   NaN   NaN   \n",
       "mean                               1.033333              0.400000   NaN   \n",
       "std                                0.399073              0.516398   NaN   \n",
       "min                                0.333333              0.000000   NaN   \n",
       "25%                                1.000000              0.000000   NaN   \n",
       "50%                                1.000000              0.000000   NaN   \n",
       "75%                                1.000000              1.000000   NaN   \n",
       "max                                2.000000              1.000000   NaN   \n",
       "\n",
       "        execution_time  \n",
       "count        10.000000  \n",
       "unique             NaN  \n",
       "top                NaN  \n",
       "freq               NaN  \n",
       "mean          8.212706  \n",
       "std           2.945678  \n",
       "min           5.384465  \n",
       "25%           6.064272  \n",
       "50%           7.099023  \n",
       "75%          10.367093  \n",
       "max          14.041779  "
      ]
     },
     "execution_count": 12,
     "metadata": {},
     "output_type": "execute_result"
    }
   ],
   "source": [
    "test_run.get_aggregate_feedback()"
   ]
  },
  {
   "cell_type": "code",
   "execution_count": 19,
   "id": "6eb19db1-43b8-4866-a3d2-f211ba92ab8b",
   "metadata": {
    "tags": []
   },
   "outputs": [],
   "source": [
    "import pandas as pd\n",
    "\n",
    "df = test_run.to_dataframe()\n",
    "df = pd.json_normalize(df.to_dict(orient=\"records\"))"
   ]
  },
  {
   "cell_type": "code",
   "execution_count": 22,
   "id": "ab7516ed-36b1-4c16-bf4a-cc49077460ad",
   "metadata": {
    "tags": []
   },
   "outputs": [],
   "source": [
    "df[\"num_expected_steps\"] = df[\"reference.expected_steps\"].apply(len)\n",
    "df[\"actual_number_of_steps\"] = df[\"outputs.intermediate_steps\"].apply(len)"
   ]
  },
  {
   "cell_type": "code",
   "execution_count": 23,
   "id": "50d7590d-20de-4768-ac90-adcdbfa70068",
   "metadata": {
    "tags": []
   },
   "outputs": [
    {
     "data": {
      "text/html": [
       "<div>\n",
       "<style scoped>\n",
       "    .dataframe tbody tr th:only-of-type {\n",
       "        vertical-align: middle;\n",
       "    }\n",
       "\n",
       "    .dataframe tbody tr th {\n",
       "        vertical-align: top;\n",
       "    }\n",
       "\n",
       "    .dataframe thead th {\n",
       "        text-align: right;\n",
       "    }\n",
       "</style>\n",
       "<table border=\"1\" class=\"dataframe\">\n",
       "  <thead>\n",
       "    <tr style=\"text-align: right;\">\n",
       "      <th></th>\n",
       "      <th>inputs.question</th>\n",
       "      <th>outputs.question</th>\n",
       "      <th>outputs.output</th>\n",
       "      <th>outputs.intermediate_steps</th>\n",
       "      <th>feedback.Intermediate steps correctness</th>\n",
       "      <th>feedback.# steps / # expected steps</th>\n",
       "      <th>feedback.correctness</th>\n",
       "      <th>error</th>\n",
       "      <th>execution_time</th>\n",
       "      <th>reference.reference</th>\n",
       "      <th>reference.expected_steps</th>\n",
       "      <th>num_expected_steps</th>\n",
       "      <th>actual_number_of_steps</th>\n",
       "    </tr>\n",
       "  </thead>\n",
       "  <tbody>\n",
       "    <tr>\n",
       "      <th>0</th>\n",
       "      <td>convert 15 degrees to radians</td>\n",
       "      <td>convert 15 degrees to radians</td>\n",
       "      <td>15 degrees is approximately 0.0417 radians.</td>\n",
       "      <td>[(tool='divide' tool_input={'a': 15, 'b': 180}...</td>\n",
       "      <td>0</td>\n",
       "      <td>0.333333</td>\n",
       "      <td>0</td>\n",
       "      <td>None</td>\n",
       "      <td>5.384465</td>\n",
       "      <td>0.124588</td>\n",
       "      <td>[pi, multiply, divide]</td>\n",
       "      <td>3</td>\n",
       "      <td>1</td>\n",
       "    </tr>\n",
       "    <tr>\n",
       "      <th>1</th>\n",
       "      <td>after calculating the sin of 1.5 radians, divi...</td>\n",
       "      <td>after calculating the sin of 1.5 radians, divi...</td>\n",
       "      <td>The result of dividing the sine of 1.5 radians...</td>\n",
       "      <td>[(tool='sin' tool_input={'radians': 1.5} log=\"...</td>\n",
       "      <td>1</td>\n",
       "      <td>1.000000</td>\n",
       "      <td>0</td>\n",
       "      <td>None</td>\n",
       "      <td>10.875624</td>\n",
       "      <td>0.070915</td>\n",
       "      <td>[sin, cos, divide]</td>\n",
       "      <td>3</td>\n",
       "      <td>3</td>\n",
       "    </tr>\n",
       "    <tr>\n",
       "      <th>2</th>\n",
       "      <td>ecoli divides every 20 minutes. How many cells...</td>\n",
       "      <td>ecoli divides every 20 minutes. How many cells...</td>\n",
       "      <td>After 2 hours, starting with 5 cells, there wi...</td>\n",
       "      <td>[(tool='divide' tool_input={'a': 120, 'b': 20}...</td>\n",
       "      <td>1</td>\n",
       "      <td>1.000000</td>\n",
       "      <td>1</td>\n",
       "      <td>None</td>\n",
       "      <td>11.130253</td>\n",
       "      <td>176.000000</td>\n",
       "      <td>[divide, power, multiply]</td>\n",
       "      <td>3</td>\n",
       "      <td>3</td>\n",
       "    </tr>\n",
       "    <tr>\n",
       "      <th>3</th>\n",
       "      <td>calculate sqrt of 101 to 4 digits of precision</td>\n",
       "      <td>calculate sqrt of 101 to 4 digits of precision</td>\n",
       "      <td>The square root of 101 to 4 digits of precisio...</td>\n",
       "      <td>[(tool='power' tool_input={'a': 101, 'b': 0.5}...</td>\n",
       "      <td>0</td>\n",
       "      <td>2.000000</td>\n",
       "      <td>0</td>\n",
       "      <td>None</td>\n",
       "      <td>14.041779</td>\n",
       "      <td>64620.646300</td>\n",
       "      <td>[power, round]</td>\n",
       "      <td>2</td>\n",
       "      <td>4</td>\n",
       "    </tr>\n",
       "    <tr>\n",
       "      <th>4</th>\n",
       "      <td>multiply the result of (log of 100 to base 10)...</td>\n",
       "      <td>multiply the result of (log of 100 to base 10)...</td>\n",
       "      <td>The result of multiplying the logarithm of 100...</td>\n",
       "      <td>[(tool='log' tool_input={'a': 100, 'base': 10}...</td>\n",
       "      <td>1</td>\n",
       "      <td>1.000000</td>\n",
       "      <td>1</td>\n",
       "      <td>None</td>\n",
       "      <td>8.841500</td>\n",
       "      <td>6.222319</td>\n",
       "      <td>[log, multiply]</td>\n",
       "      <td>2</td>\n",
       "      <td>2</td>\n",
       "    </tr>\n",
       "  </tbody>\n",
       "</table>\n",
       "</div>"
      ],
      "text/plain": [
       "                                     inputs.question  \\\n",
       "0                      convert 15 degrees to radians   \n",
       "1  after calculating the sin of 1.5 radians, divi...   \n",
       "2  ecoli divides every 20 minutes. How many cells...   \n",
       "3     calculate sqrt of 101 to 4 digits of precision   \n",
       "4  multiply the result of (log of 100 to base 10)...   \n",
       "\n",
       "                                    outputs.question  \\\n",
       "0                      convert 15 degrees to radians   \n",
       "1  after calculating the sin of 1.5 radians, divi...   \n",
       "2  ecoli divides every 20 minutes. How many cells...   \n",
       "3     calculate sqrt of 101 to 4 digits of precision   \n",
       "4  multiply the result of (log of 100 to base 10)...   \n",
       "\n",
       "                                      outputs.output  \\\n",
       "0        15 degrees is approximately 0.0417 radians.   \n",
       "1  The result of dividing the sine of 1.5 radians...   \n",
       "2  After 2 hours, starting with 5 cells, there wi...   \n",
       "3  The square root of 101 to 4 digits of precisio...   \n",
       "4  The result of multiplying the logarithm of 100...   \n",
       "\n",
       "                          outputs.intermediate_steps  \\\n",
       "0  [(tool='divide' tool_input={'a': 15, 'b': 180}...   \n",
       "1  [(tool='sin' tool_input={'radians': 1.5} log=\"...   \n",
       "2  [(tool='divide' tool_input={'a': 120, 'b': 20}...   \n",
       "3  [(tool='power' tool_input={'a': 101, 'b': 0.5}...   \n",
       "4  [(tool='log' tool_input={'a': 100, 'base': 10}...   \n",
       "\n",
       "   feedback.Intermediate steps correctness  \\\n",
       "0                                        0   \n",
       "1                                        1   \n",
       "2                                        1   \n",
       "3                                        0   \n",
       "4                                        1   \n",
       "\n",
       "   feedback.# steps / # expected steps  feedback.correctness error  \\\n",
       "0                             0.333333                     0  None   \n",
       "1                             1.000000                     0  None   \n",
       "2                             1.000000                     1  None   \n",
       "3                             2.000000                     0  None   \n",
       "4                             1.000000                     1  None   \n",
       "\n",
       "   execution_time  reference.reference   reference.expected_steps  \\\n",
       "0        5.384465             0.124588     [pi, multiply, divide]   \n",
       "1       10.875624             0.070915         [sin, cos, divide]   \n",
       "2       11.130253           176.000000  [divide, power, multiply]   \n",
       "3       14.041779         64620.646300             [power, round]   \n",
       "4        8.841500             6.222319            [log, multiply]   \n",
       "\n",
       "   num_expected_steps  actual_number_of_steps  \n",
       "0                   3                       1  \n",
       "1                   3                       3  \n",
       "2                   3                       3  \n",
       "3                   2                       4  \n",
       "4                   2                       2  "
      ]
     },
     "execution_count": 23,
     "metadata": {},
     "output_type": "execute_result"
    }
   ],
   "source": [
    "df.head()"
   ]
  },
  {
   "cell_type": "code",
   "execution_count": null,
   "id": "53875eeb-0e3b-458f-9633-53384f0c6cc9",
   "metadata": {},
   "outputs": [],
   "source": []
  }
 ],
 "metadata": {
  "kernelspec": {
   "display_name": "Python 3 (ipykernel)",
   "language": "python",
   "name": "python3"
  },
  "language_info": {
   "codemirror_mode": {
    "name": "ipython",
    "version": 3
   },
   "file_extension": ".py",
   "mimetype": "text/x-python",
   "name": "python",
   "nbconvert_exporter": "python",
   "pygments_lexer": "ipython3",
   "version": "3.11.2"
  }
 },
 "nbformat": 4,
 "nbformat_minor": 5
}
