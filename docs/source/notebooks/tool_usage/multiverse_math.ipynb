{
 "cells": [
  {
   "cell_type": "markdown",
   "id": "60bb467d-861d-4b07-a48d-8e5aa177c969",
   "metadata": {
    "tags": []
   },
   "source": [
    "# Multiverse Math\n",
    "\n",
    "Let's see how to evaluate an agent's ability to use tools.\n",
    "\n",
    "    Solve basic math question using the provided tools.\n",
    "\n",
    "    Must use the provided tools to solve the math question.\n",
    "\n",
    "    To make sure that innate knowledge is not used, the math operations have been altered to yield different results than expected.\n",
    "\n",
    "    The modified operations should yield different results, but still retain appropriate properties. For example, the modified multiplication operation should still be commutative.\n",
    "\n",
    "    Please note that the modified operations are not guaranteed to even make sense in the real world since not all properties will be retained (e.g., distributive property)."
   ]
  },
  {
   "cell_type": "markdown",
   "id": "03488ab1-31ed-41c2-8da2-46b02599b181",
   "metadata": {},
   "source": [
    "For this code to work, please configure LangSmith environment variables with your credentials."
   ]
  },
  {
   "cell_type": "code",
   "execution_count": 1,
   "id": "1615b8ff-688a-4447-8c4c-d64ad02818ed",
   "metadata": {},
   "outputs": [],
   "source": [
    "import os\n",
    "os.environ[\"LANGCHAIN_API_KEY\"] = \"sk-...\" # Your LangSmith API key"
   ]
  },
  {
   "cell_type": "code",
   "execution_count": 18,
   "id": "b39159d0-9ea1-414f-a9d8-4a7b22b3d2cc",
   "metadata": {
    "tags": []
   },
   "outputs": [],
   "source": [
    "from langchain_benchmarks import clone_public_dataset, registry"
   ]
  },
  {
   "cell_type": "code",
   "execution_count": 3,
   "id": "1aef2b32-a5df-421f-8be3-a2ef27372ece",
   "metadata": {
    "tags": []
   },
   "outputs": [
    {
     "data": {
      "text/html": [
       "<table>\n",
       "<tbody>\n",
       "<tr><td>Name       </td><td>Multiverse Math                                                          </td></tr>\n",
       "<tr><td>Type       </td><td>ToolUsageTask                                                            </td></tr>\n",
       "<tr><td>Dataset ID </td><td>https://smith.langchain.com/public/594f9f60-30a0-49bf-b075-f44beabf546a/d</td></tr>\n",
       "<tr><td>Description</td><td>An environment that contains a few basic math operations, but with altered results.\n",
       "\n",
       "For example, mu...                                                                          </td></tr>\n",
       "</tbody>\n",
       "</table>"
      ],
      "text/plain": [
       "ToolUsageTask(name='Multiverse Math', dataset_id='https://smith.langchain.com/public/594f9f60-30a0-49bf-b075-f44beabf546a/d', description='An environment that contains a few basic math operations, but with altered results.\\n\\nFor example, multiplication of 5*3 will be re-interpreted as 5*3*1.1. The basic operations retain some basic properties, such as commutativity, associativity, and distributivity; however, the results are different than expected.\\n\\nThe objective of this task is to evaluate the ability to use the provided tools to solve simple math questions and ignore any innate knowledge about math.\\n', create_environment=<function get_environment at 0x7fae28d9f310>, instructions='You are requested to solve math questions in an alternate mathematical universe. The operations have been altered to yield different results than expected. Do not guess the answer or rely on your  innate knowledge of math. Use the provided tools to answer the question. While associativity and commutativity apply, distributivity does not. Answer the question using the fewest possible tools. Only include the numeric response without any clarifications.')"
      ]
     },
     "execution_count": 3,
     "metadata": {},
     "output_type": "execute_result"
    }
   ],
   "source": [
    "task = registry[\"Multiverse Math\"]\n",
    "task"
   ]
  },
  {
   "cell_type": "markdown",
   "id": "bc33a639-3caf-4314-8ea7-1c7c8b1d114d",
   "metadata": {},
   "source": [
    "Clone the dataset associaetd with this task"
   ]
  },
  {
   "cell_type": "code",
   "execution_count": 6,
   "id": "70369f67-deb4-467a-801a-6d38c3d0460d",
   "metadata": {
    "tags": []
   },
   "outputs": [
    {
     "name": "stdout",
     "output_type": "stream",
     "text": [
      "Dataset Multiverse Math already exists. Skipping.\n",
      "You can access the dataset at https://smith.langchain.com/o/e081f11e-fbd2-41b4-9fa8-5d76c76ef854/datasets/ddca73f1-ceda-4562-8c49-7ee0a9df2a01.\n"
     ]
    }
   ],
   "source": [
    "clone_public_dataset(task.dataset_id, dataset_name=task.name)"
   ]
  },
  {
   "cell_type": "markdown",
   "id": "b462f7b8-fd42-4613-ab5f-5f3cbbc37d28",
   "metadata": {},
   "source": [
    "Let's build an agent that we can use for evaluation."
   ]
  },
  {
   "cell_type": "code",
   "execution_count": 10,
   "id": "6142cf4e-862c-47a3-aa75-81d7d3231308",
   "metadata": {
    "tags": []
   },
   "outputs": [
    {
     "data": {
      "text/plain": [
       "{'question': 'how much is 3 + 5',\n",
       " 'output': 'In this alternate mathematical universe, the result of adding 3 and 5 is 9.2.',\n",
       " 'intermediate_steps': [(AgentActionMessageLog(tool='add', tool_input={'a': 3, 'b': 5}, log=\"\\nInvoking: `add` with `{'a': 3, 'b': 5}`\\n\\n\\n\", message_log=[AIMessage(content='', additional_kwargs={'function_call': {'arguments': '{\\n  \"a\": 3,\\n  \"b\": 5\\n}', 'name': 'add'}})]),\n",
       "   9.2)]}"
      ]
     },
     "execution_count": 10,
     "metadata": {},
     "output_type": "execute_result"
    }
   ],
   "source": [
    "from langchain_benchmarks.tool_usage import agents\n",
    "\n",
    "agent_factory = agents.OpenAIAgentFactory(task, model=\"gpt-3.5-turbo-16k\")\n",
    "\n",
    "# Let's test that our agent works\n",
    "agent = agent_factory.create()\n",
    "agent.invoke({\"question\": \"how much is 3 + 5\"})"
   ]
  },
  {
   "cell_type": "markdown",
   "id": "3821e4b0-8e67-418a-840c-470fcde42df0",
   "metadata": {},
   "source": [
    "## Eval\n",
    "\n",
    "Let's evaluate an agent now"
   ]
  },
  {
   "cell_type": "code",
   "execution_count": 13,
   "id": "fb32763c-79ab-426a-8fc6-bf8ebb0dd432",
   "metadata": {
    "tags": []
   },
   "outputs": [
    {
     "name": "stdout",
     "output_type": "stream",
     "text": [
      "View the evaluation results for project 'test-excellent-potato-37' at:\n",
      "https://smith.langchain.com/o/e081f11e-fbd2-41b4-9fa8-5d76c76ef854/projects/p/e350cda0-4e1d-49eb-8483-574172d1c635?eval=true\n",
      "\n",
      "View all tests for Dataset Multiverse Math at:\n",
      "https://smith.langchain.com/o/e081f11e-fbd2-41b4-9fa8-5d76c76ef854/datasets/ddca73f1-ceda-4562-8c49-7ee0a9df2a01\n",
      "[------------------------------------------------->] 10/10\n",
      " Eval quantiles:\n",
      "                                    0.25       0.5      0.75      mean  \\\n",
      "Intermediate steps correctness   0.00000   0.00000   0.00000   0.10000   \n",
      "# steps / # expected steps       5.00000   7.50000   8.62500   7.75000   \n",
      "correctness                      0.00000   0.00000   0.00000   0.10000   \n",
      "execution_time                  38.76436  38.76436  38.76436  38.76436   \n",
      "\n",
      "                                    mode  \n",
      "Intermediate steps correctness   0.00000  \n",
      "# steps / # expected steps       5.00000  \n",
      "correctness                      0.00000  \n",
      "execution_time                  38.76436  \n"
     ]
    }
   ],
   "source": [
    "from langsmith.client import Client\n",
    "\n",
    "from langchain_benchmarks.tool_usage import STANDARD_AGENT_EVALUATOR\n",
    "\n",
    "client = Client()\n",
    "\n",
    "test_run = client.run_on_dataset(\n",
    "    dataset_name=task.name,\n",
    "    llm_or_chain_factory=agent_factory.create,\n",
    "    evaluation=STANDARD_AGENT_EVALUATOR,\n",
    "    verbose=True,\n",
    "    tags=[\"gpt-3.5-turbo-16k\"],\n",
    ")"
   ]
  },
  {
   "cell_type": "markdown",
   "id": "1b039225-01cf-481a-87a6-4e880e9b1dcd",
   "metadata": {},
   "source": [
    "# Inspect\n",
    "\n",
    "You can take a look at the underlying results."
   ]
  },
  {
   "cell_type": "code",
   "execution_count": 14,
   "id": "6eb19db1-43b8-4866-a3d2-f211ba92ab8b",
   "metadata": {
    "tags": []
   },
   "outputs": [],
   "source": [
    "import pandas as pd\n",
    "\n",
    "df = test_run.to_dataframe()\n",
    "df = pd.json_normalize(df.to_dict(orient=\"records\"))"
   ]
  },
  {
   "cell_type": "code",
   "execution_count": 15,
   "id": "7ab5a8b9-a937-4537-b879-704284df4494",
   "metadata": {
    "tags": []
   },
   "outputs": [
    {
     "data": {
      "text/plain": [
       "0.1"
      ]
     },
     "execution_count": 15,
     "metadata": {},
     "output_type": "execute_result"
    }
   ],
   "source": [
    "df[\"correctness\"].mean()"
   ]
  },
  {
   "cell_type": "code",
   "execution_count": 16,
   "id": "ab7516ed-36b1-4c16-bf4a-cc49077460ad",
   "metadata": {
    "tags": []
   },
   "outputs": [],
   "source": [
    "df[\"num_expected_steps\"] = df[\"reference.expected_steps\"].apply(len)\n",
    "df[\"actual_number_of_steps\"] = df[\"output.intermediate_steps\"].apply(len)"
   ]
  },
  {
   "cell_type": "code",
   "execution_count": 17,
   "id": "50d7590d-20de-4768-ac90-adcdbfa70068",
   "metadata": {
    "tags": []
   },
   "outputs": [
    {
     "data": {
      "text/html": [
       "<div>\n",
       "<style scoped>\n",
       "    .dataframe tbody tr th:only-of-type {\n",
       "        vertical-align: middle;\n",
       "    }\n",
       "\n",
       "    .dataframe tbody tr th {\n",
       "        vertical-align: top;\n",
       "    }\n",
       "\n",
       "    .dataframe thead th {\n",
       "        text-align: right;\n",
       "    }\n",
       "</style>\n",
       "<table border=\"1\" class=\"dataframe\">\n",
       "  <thead>\n",
       "    <tr style=\"text-align: right;\">\n",
       "      <th></th>\n",
       "      <th>Intermediate steps correctness</th>\n",
       "      <th># steps / # expected steps</th>\n",
       "      <th>correctness</th>\n",
       "      <th>execution_time</th>\n",
       "      <th>input.question</th>\n",
       "      <th>output.question</th>\n",
       "      <th>output.output</th>\n",
       "      <th>output.intermediate_steps</th>\n",
       "      <th>reference.reference</th>\n",
       "      <th>reference.expected_steps</th>\n",
       "      <th>num_expected_steps</th>\n",
       "      <th>actual_number_of_steps</th>\n",
       "    </tr>\n",
       "  </thead>\n",
       "  <tbody>\n",
       "    <tr>\n",
       "      <th>0</th>\n",
       "      <td>0</td>\n",
       "      <td>15.0</td>\n",
       "      <td>0</td>\n",
       "      <td>38.76436</td>\n",
       "      <td>Add 2 and 3</td>\n",
       "      <td>Add 2 and 3</td>\n",
       "      <td>Agent stopped due to iteration limit or time l...</td>\n",
       "      <td>[(tool='add' tool_input={'a': 2, 'b': 3} log=\"...</td>\n",
       "      <td>6.20</td>\n",
       "      <td>[add]</td>\n",
       "      <td>1</td>\n",
       "      <td>15</td>\n",
       "    </tr>\n",
       "    <tr>\n",
       "      <th>1</th>\n",
       "      <td>0</td>\n",
       "      <td>15.0</td>\n",
       "      <td>0</td>\n",
       "      <td>38.76436</td>\n",
       "      <td>Subtract 3 from 2</td>\n",
       "      <td>Subtract 3 from 2</td>\n",
       "      <td>Agent stopped due to iteration limit or time l...</td>\n",
       "      <td>[(tool='subtract' tool_input={'a': 2, 'b': 3} ...</td>\n",
       "      <td>-4.00</td>\n",
       "      <td>[subtract]</td>\n",
       "      <td>1</td>\n",
       "      <td>15</td>\n",
       "    </tr>\n",
       "    <tr>\n",
       "      <th>2</th>\n",
       "      <td>0</td>\n",
       "      <td>9.0</td>\n",
       "      <td>1</td>\n",
       "      <td>38.76436</td>\n",
       "      <td>What is -5 if evaluated using the negate funct...</td>\n",
       "      <td>What is -5 if evaluated using the negate funct...</td>\n",
       "      <td>-5.0\\n-5.0</td>\n",
       "      <td>[(tool='negate' tool_input={'a': -5} log=\"\\nIn...</td>\n",
       "      <td>-5.00</td>\n",
       "      <td>[negate]</td>\n",
       "      <td>1</td>\n",
       "      <td>9</td>\n",
       "    </tr>\n",
       "    <tr>\n",
       "      <th>3</th>\n",
       "      <td>1</td>\n",
       "      <td>1.0</td>\n",
       "      <td>0</td>\n",
       "      <td>38.76436</td>\n",
       "      <td>what is the result of 2 to the power of 3?</td>\n",
       "      <td>what is the result of 2 to the power of 3?</td>\n",
       "      <td>The result of 2 to the power of 3 is 32.</td>\n",
       "      <td>[(tool='power' tool_input={'a': 2, 'b': 3} log...</td>\n",
       "      <td>32.00</td>\n",
       "      <td>[power]</td>\n",
       "      <td>1</td>\n",
       "      <td>1</td>\n",
       "    </tr>\n",
       "    <tr>\n",
       "      <th>4</th>\n",
       "      <td>0</td>\n",
       "      <td>7.5</td>\n",
       "      <td>0</td>\n",
       "      <td>38.76436</td>\n",
       "      <td>I ate 1 apple and 2 oranges every day for 7 da...</td>\n",
       "      <td>I ate 1 apple and 2 oranges every day for 7 da...</td>\n",
       "      <td>Agent stopped due to iteration limit or time l...</td>\n",
       "      <td>[(tool='add' tool_input={'a': 1, 'b': 2} log=\"...</td>\n",
       "      <td>32.34</td>\n",
       "      <td>[multiply, add]</td>\n",
       "      <td>2</td>\n",
       "      <td>15</td>\n",
       "    </tr>\n",
       "  </tbody>\n",
       "</table>\n",
       "</div>"
      ],
      "text/plain": [
       "   Intermediate steps correctness  # steps / # expected steps  correctness  \\\n",
       "0                               0                        15.0            0   \n",
       "1                               0                        15.0            0   \n",
       "2                               0                         9.0            1   \n",
       "3                               1                         1.0            0   \n",
       "4                               0                         7.5            0   \n",
       "\n",
       "   execution_time                                     input.question  \\\n",
       "0        38.76436                                        Add 2 and 3   \n",
       "1        38.76436                                  Subtract 3 from 2   \n",
       "2        38.76436  What is -5 if evaluated using the negate funct...   \n",
       "3        38.76436         what is the result of 2 to the power of 3?   \n",
       "4        38.76436  I ate 1 apple and 2 oranges every day for 7 da...   \n",
       "\n",
       "                                     output.question  \\\n",
       "0                                        Add 2 and 3   \n",
       "1                                  Subtract 3 from 2   \n",
       "2  What is -5 if evaluated using the negate funct...   \n",
       "3         what is the result of 2 to the power of 3?   \n",
       "4  I ate 1 apple and 2 oranges every day for 7 da...   \n",
       "\n",
       "                                       output.output  \\\n",
       "0  Agent stopped due to iteration limit or time l...   \n",
       "1  Agent stopped due to iteration limit or time l...   \n",
       "2                                         -5.0\\n-5.0   \n",
       "3           The result of 2 to the power of 3 is 32.   \n",
       "4  Agent stopped due to iteration limit or time l...   \n",
       "\n",
       "                           output.intermediate_steps  reference.reference  \\\n",
       "0  [(tool='add' tool_input={'a': 2, 'b': 3} log=\"...                 6.20   \n",
       "1  [(tool='subtract' tool_input={'a': 2, 'b': 3} ...                -4.00   \n",
       "2  [(tool='negate' tool_input={'a': -5} log=\"\\nIn...                -5.00   \n",
       "3  [(tool='power' tool_input={'a': 2, 'b': 3} log...                32.00   \n",
       "4  [(tool='add' tool_input={'a': 1, 'b': 2} log=\"...                32.34   \n",
       "\n",
       "  reference.expected_steps  num_expected_steps  actual_number_of_steps  \n",
       "0                    [add]                   1                      15  \n",
       "1               [subtract]                   1                      15  \n",
       "2                 [negate]                   1                       9  \n",
       "3                  [power]                   1                       1  \n",
       "4          [multiply, add]                   2                      15  "
      ]
     },
     "execution_count": 17,
     "metadata": {},
     "output_type": "execute_result"
    }
   ],
   "source": [
    "df.head()"
   ]
  }
 ],
 "metadata": {
  "kernelspec": {
   "display_name": "Python 3 (ipykernel)",
   "language": "python",
   "name": "python3"
  },
  "language_info": {
   "codemirror_mode": {
    "name": "ipython",
    "version": 3
   },
   "file_extension": ".py",
   "mimetype": "text/x-python",
   "name": "python",
   "nbconvert_exporter": "python",
   "pygments_lexer": "ipython3",
   "version": "3.11.2"
  }
 },
 "nbformat": 4,
 "nbformat_minor": 5
}
