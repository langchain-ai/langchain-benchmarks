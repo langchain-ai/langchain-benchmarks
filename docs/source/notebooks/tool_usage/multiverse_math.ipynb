{
 "cells": [
  {
   "cell_type": "markdown",
   "id": "60bb467d-861d-4b07-a48d-8e5aa177c969",
   "metadata": {
    "tags": []
   },
   "source": [
    "# Multiverse Math\n",
    "\n",
    "In this task, the agent is operating in an alternate universe which in which the basic mathematical operations like addition and multiplication are different.\n",
    "\n",
    "The agent must use tools that allow is to carry out calculations in this universe.\n",
    "\n",
    "This task can help verify that an agent is able to ignore its own knowledge of math and instead correctly use information returned by the tools.\n",
    "\n",
    "The modified mathematical operations yield different reuslts, but still retain some properties (e.g., the modified multiplication operation is still commutative).\n",
    "\n",
    "Please note that the modified operations are not guaranteed to even make sense in the real world since not all properties will be retained (e.g., distributive property).\n",
    "\n",
    "------------------"
   ]
  },
  {
   "cell_type": "markdown",
   "id": "8e3b729e-b851-4ab8-a3a9-be34b329b985",
   "metadata": {
    "tags": []
   },
   "source": [
    "For this code to work, please configure LangSmith environment variables with your credentials.\n",
    "\n",
    "```python\n",
    "import os\n",
    "\n",
    "os.environ[\"LANGCHAIN_API_KEY\"] = \"ls_..\"  # Your LangSmith API key\n",
    "```"
   ]
  },
  {
   "cell_type": "code",
   "execution_count": 1,
   "id": "b39159d0-9ea1-414f-a9d8-4a7b22b3d2cc",
   "metadata": {
    "tags": []
   },
   "outputs": [],
   "source": [
    "from langchain_benchmarks import clone_public_dataset, registry"
   ]
  },
  {
   "cell_type": "code",
   "execution_count": 2,
   "id": "1aef2b32-a5df-421f-8be3-a2ef27372ece",
   "metadata": {
    "tags": []
   },
   "outputs": [
    {
     "data": {
      "text/html": [
       "<table>\n",
       "<tbody>\n",
       "<tr><td>Name       </td><td>Multiverse Math                                                                                                                                            </td></tr>\n",
       "<tr><td>Type       </td><td>ToolUsageTask                                                                                                                                              </td></tr>\n",
       "<tr><td>Dataset ID </td><td><a href=\"https://smith.langchain.com/public/594f9f60-30a0-49bf-b075-f44beabf546a/d\" target=\"_blank\" rel=\"noopener\">594f9f60-30a0-49bf-b075-f44beabf546a</a></td></tr>\n",
       "<tr><td>Description</td><td>An environment that contains a few basic math operations, but with altered results.\n",
       "\n",
       "For example, multiplication of 5*3 will be re-interpreted as 5*3*1.1. The basic operations retain some basic properties, such as commutativity, associativity, and distributivity; however, the results are different than expected.\n",
       "\n",
       "The objective of this task is to evaluate the ability to use the provided tools to solve simple math questions and ignore any innate knowledge about math.                                                                                                                                                            </td></tr>\n",
       "</tbody>\n",
       "</table>"
      ],
      "text/plain": [
       "ToolUsageTask(name='Multiverse Math', dataset_id='https://smith.langchain.com/public/594f9f60-30a0-49bf-b075-f44beabf546a/d', description='An environment that contains a few basic math operations, but with altered results.\\n\\nFor example, multiplication of 5*3 will be re-interpreted as 5*3*1.1. The basic operations retain some basic properties, such as commutativity, associativity, and distributivity; however, the results are different than expected.\\n\\nThe objective of this task is to evaluate the ability to use the provided tools to solve simple math questions and ignore any innate knowledge about math.\\n', create_environment=<function get_environment at 0x7fbbdc806480>, instructions='You are requested to solve math questions in an alternate mathematical universe. The operations have been altered to yield different results than expected. Do not guess the answer or rely on your  innate knowledge of math. Use the provided tools to answer the question. While associativity and commutativity apply, distributivity does not. Answer the question using the fewest possible tools. Only include the numeric response without any clarifications.')"
      ]
     },
     "execution_count": 2,
     "metadata": {},
     "output_type": "execute_result"
    }
   ],
   "source": [
    "task = registry[\"Multiverse Math\"]\n",
    "task"
   ]
  },
  {
   "cell_type": "markdown",
   "id": "bc33a639-3caf-4314-8ea7-1c7c8b1d114d",
   "metadata": {},
   "source": [
    "Clone the dataset associated with this task"
   ]
  },
  {
   "cell_type": "code",
   "execution_count": 3,
   "id": "70369f67-deb4-467a-801a-6d38c3d0460d",
   "metadata": {
    "tags": []
   },
   "outputs": [
    {
     "name": "stdout",
     "output_type": "stream",
     "text": [
      "Dataset Multiverse Math already exists. Skipping.\n",
      "You can access the dataset at https://smith.langchain.com/o/e081f11e-fbd2-41b4-9fa8-5d76c76ef854/datasets/ddca73f1-ceda-4562-8c49-7ee0a9df2a01.\n"
     ]
    }
   ],
   "source": [
    "clone_public_dataset(task.dataset_id, dataset_name=task.name)"
   ]
  },
  {
   "cell_type": "markdown",
   "id": "cede4edd-884d-4330-a186-5058b712394b",
   "metadata": {},
   "source": [
    "## The Environment\n",
    "\n",
    "Let's check the environment"
   ]
  },
  {
   "cell_type": "code",
   "execution_count": 4,
   "id": "e2439d0c-ccb9-4f5b-a127-548725025a98",
   "metadata": {
    "tags": []
   },
   "outputs": [
    {
     "data": {
      "text/plain": [
       "[StructuredTool(name='multiply', description='multiply(a: float, b: float) -> float - Multiply two numbers; a * b.', args_schema=<class 'pydantic.v1.main.multiplySchemaSchema'>, func=<function multiply at 0x7fbbdc805bc0>),\n",
       " StructuredTool(name='add', description='add(a: float, b: float) -> float - Add two numbers; a + b.', args_schema=<class 'pydantic.v1.main.addSchemaSchema'>, func=<function add at 0x7fbbdc805f80>),\n",
       " StructuredTool(name='divide', description='divide(a: float, b: float) -> float - Divide two numbers; a / b.', args_schema=<class 'pydantic.v1.main.divideSchemaSchema'>, func=<function divide at 0x7fbbdc805ee0>),\n",
       " StructuredTool(name='subtract', description='subtract(a: float, b: float) -> float - Subtract two numbers; a - b.', args_schema=<class 'pydantic.v1.main.subtractSchemaSchema'>, func=<function subtract at 0x7fbbdc806160>),\n",
       " StructuredTool(name='power', description='power(a: float, b: float) -> float - Raise a number to a power; a ** b.', args_schema=<class 'pydantic.v1.main.powerSchemaSchema'>, func=<function power at 0x7fbbdc806200>)]"
      ]
     },
     "execution_count": 4,
     "metadata": {},
     "output_type": "execute_result"
    }
   ],
   "source": [
    "env = task.create_environment()\n",
    "env.tools[:5]"
   ]
  },
  {
   "cell_type": "markdown",
   "id": "1941e187-55ee-4d38-b529-4744ea2474b0",
   "metadata": {},
   "source": [
    "Multiplying 2 x 4 = 8.8!!"
   ]
  },
  {
   "cell_type": "code",
   "execution_count": 5,
   "id": "f5a100bd-6e19-498f-8a36-393b5c19bcb9",
   "metadata": {
    "tags": []
   },
   "outputs": [
    {
     "data": {
      "text/plain": [
       "8.8"
      ]
     },
     "execution_count": 5,
     "metadata": {},
     "output_type": "execute_result"
    }
   ],
   "source": [
    "env.tools[0].invoke({\"a\": 2, \"b\": 4})"
   ]
  },
  {
   "cell_type": "markdown",
   "id": "bc60ef11-6300-4a83-989e-ec5b7f196796",
   "metadata": {},
   "source": [
    "The task instructions"
   ]
  },
  {
   "cell_type": "code",
   "execution_count": 6,
   "id": "31afb08b-17b8-4866-86c1-ee24e804415c",
   "metadata": {
    "tags": []
   },
   "outputs": [
    {
     "data": {
      "text/plain": [
       "'You are requested to solve math questions in an alternate mathematical universe. The operations have been altered to yield different results than expected. Do not guess the answer or rely on your  innate knowledge of math. Use the provided tools to answer the question. While associativity and commutativity apply, distributivity does not. Answer the question using the fewest possible tools. Only include the numeric response without any clarifications.'"
      ]
     },
     "execution_count": 6,
     "metadata": {},
     "output_type": "execute_result"
    }
   ],
   "source": [
    "task.instructions"
   ]
  },
  {
   "cell_type": "markdown",
   "id": "92d65770-6a4f-4029-beba-5fa9aeb18809",
   "metadata": {},
   "source": [
    "## Agent Factory\n",
    "\n",
    "For evaluation, we need an agent factory that will create a new instance of an agent executor for every evaluation run.\n",
    "\n",
    "We'll use an `OpenAIAgentFactory` provided with LangChain Benchmarks -- look at the `intro` section to see how to define your own."
   ]
  },
  {
   "cell_type": "code",
   "execution_count": 7,
   "id": "6142cf4e-862c-47a3-aa75-81d7d3231308",
   "metadata": {
    "tags": []
   },
   "outputs": [
    {
     "data": {
      "text/plain": [
       "{'input': 'how much is 3 + 5',\n",
       " 'output': '9.2',\n",
       " 'intermediate_steps': [(AgentActionMessageLog(tool='add', tool_input={'a': 3, 'b': 5}, log=\"\\nInvoking: `add` with `{'a': 3, 'b': 5}`\\n\\n\\n\", message_log=[AIMessage(content='', additional_kwargs={'function_call': {'arguments': '{\\n\"a\": 3,\\n\"b\": 5\\n}', 'name': 'add'}})]),\n",
       "   9.2)]}"
      ]
     },
     "execution_count": 7,
     "metadata": {},
     "output_type": "execute_result"
    }
   ],
   "source": [
    "from langchain_benchmarks.tool_usage import agents\n",
    "\n",
    "agent_factory = agents.OpenAIAgentFactory(task, model=\"gpt-4-0613\")\n",
    "\n",
    "# Let's test that our agent works\n",
    "agent = agent_factory.create()\n",
    "agent.invoke({\"question\": \"how much is 3 + 5\"})"
   ]
  },
  {
   "cell_type": "markdown",
   "id": "3821e4b0-8e67-418a-840c-470fcde42df0",
   "metadata": {},
   "source": [
    "## Eval\n",
    "\n",
    "Let's evaluate an agent now"
   ]
  },
  {
   "cell_type": "code",
   "execution_count": null,
   "id": "66b6b5ef-83a1-4f07-a40c-7c6661d9700a",
   "metadata": {},
   "outputs": [],
   "source": []
  },
  {
   "cell_type": "code",
   "execution_count": 8,
   "id": "fb32763c-79ab-426a-8fc6-bf8ebb0dd432",
   "metadata": {
    "tags": []
   },
   "outputs": [
    {
     "name": "stdout",
     "output_type": "stream",
     "text": [
      "View the evaluation results for project 'oai-functions-gpt-3.5-turbo-1106-1ae4' at:\n",
      "https://smith.langchain.com/o/e081f11e-fbd2-41b4-9fa8-5d76c76ef854/projects/p/4821711a-a0e6-49e8-abd6-03bb6f5b6aac?eval=true\n",
      "\n",
      "View all tests for Dataset Multiverse Math at:\n",
      "https://smith.langchain.com/o/e081f11e-fbd2-41b4-9fa8-5d76c76ef854/datasets/ddca73f1-ceda-4562-8c49-7ee0a9df2a01\n",
      "[------------------------------------------------->] 10/10\n",
      " Eval quantiles:\n",
      "       inputs.question outputs.input                        outputs.output  \\\n",
      "count               10            10                                    10   \n",
      "unique              10            10                                    10   \n",
      "top        Add 2 and 3   Add 2 and 3  The result of adding 2 and 3 is 6.2.   \n",
      "freq                 1             1                                     1   \n",
      "mean               NaN           NaN                                   NaN   \n",
      "std                NaN           NaN                                   NaN   \n",
      "min                NaN           NaN                                   NaN   \n",
      "25%                NaN           NaN                                   NaN   \n",
      "50%                NaN           NaN                                   NaN   \n",
      "75%                NaN           NaN                                   NaN   \n",
      "max                NaN           NaN                                   NaN   \n",
      "\n",
      "                               outputs.intermediate_steps  \\\n",
      "count                                                  10   \n",
      "unique                                                 10   \n",
      "top     [(tool='add' tool_input={'a': 2, 'b': 3} log=\"...   \n",
      "freq                                                    1   \n",
      "mean                                                  NaN   \n",
      "std                                                   NaN   \n",
      "min                                                   NaN   \n",
      "25%                                                   NaN   \n",
      "50%                                                   NaN   \n",
      "75%                                                   NaN   \n",
      "max                                                   NaN   \n",
      "\n",
      "        feedback.Intermediate steps correctness  \\\n",
      "count                                 10.000000   \n",
      "unique                                      NaN   \n",
      "top                                         NaN   \n",
      "freq                                        NaN   \n",
      "mean                                   0.600000   \n",
      "std                                    0.516398   \n",
      "min                                    0.000000   \n",
      "25%                                    0.000000   \n",
      "50%                                    1.000000   \n",
      "75%                                    1.000000   \n",
      "max                                    1.000000   \n",
      "\n",
      "        feedback.# steps / # expected steps error  execution_time  \n",
      "count                             10.000000     0       10.000000  \n",
      "unique                                  NaN     0             NaN  \n",
      "top                                     NaN   NaN             NaN  \n",
      "freq                                    NaN   NaN             NaN  \n",
      "mean                               0.933333   NaN        8.209020  \n",
      "std                                0.140546   NaN        1.937294  \n",
      "min                                0.666667   NaN        5.430069  \n",
      "25%                                1.000000   NaN        6.520442  \n",
      "50%                                1.000000   NaN        8.183544  \n",
      "75%                                1.000000   NaN       10.183584  \n",
      "max                                1.000000   NaN       10.528113  \n",
      "View the evaluation results for project 'oai-functions-gpt-3.5-turbo-0613-1ae4' at:\n",
      "https://smith.langchain.com/o/e081f11e-fbd2-41b4-9fa8-5d76c76ef854/projects/p/68b3b6a8-e436-4312-b0bc-be02d361773d?eval=true\n",
      "\n",
      "View all tests for Dataset Multiverse Math at:\n",
      "https://smith.langchain.com/o/e081f11e-fbd2-41b4-9fa8-5d76c76ef854/datasets/ddca73f1-ceda-4562-8c49-7ee0a9df2a01\n",
      "[------------------------------------------------->] 10/10\n",
      " Eval quantiles:\n",
      "       inputs.question outputs.input  \\\n",
      "count               10            10   \n",
      "unique              10            10   \n",
      "top        Add 2 and 3   Add 2 and 3   \n",
      "freq                 1             1   \n",
      "mean               NaN           NaN   \n",
      "std                NaN           NaN   \n",
      "min                NaN           NaN   \n",
      "25%                NaN           NaN   \n",
      "50%                NaN           NaN   \n",
      "75%                NaN           NaN   \n",
      "max                NaN           NaN   \n",
      "\n",
      "                                           outputs.output  \\\n",
      "count                                                  10   \n",
      "unique                                                 10   \n",
      "top     The sum of 2 and 3 in this alternate mathemati...   \n",
      "freq                                                    1   \n",
      "mean                                                  NaN   \n",
      "std                                                   NaN   \n",
      "min                                                   NaN   \n",
      "25%                                                   NaN   \n",
      "50%                                                   NaN   \n",
      "75%                                                   NaN   \n",
      "max                                                   NaN   \n",
      "\n",
      "                               outputs.intermediate_steps  \\\n",
      "count                                                  10   \n",
      "unique                                                 10   \n",
      "top     [(tool='add' tool_input={'a': 2, 'b': 3} log=\"...   \n",
      "freq                                                    1   \n",
      "mean                                                  NaN   \n",
      "std                                                   NaN   \n",
      "min                                                   NaN   \n",
      "25%                                                   NaN   \n",
      "50%                                                   NaN   \n",
      "75%                                                   NaN   \n",
      "max                                                   NaN   \n",
      "\n",
      "        feedback.Intermediate steps correctness  \\\n",
      "count                                 10.000000   \n",
      "unique                                      NaN   \n",
      "top                                         NaN   \n",
      "freq                                        NaN   \n",
      "mean                                   0.700000   \n",
      "std                                    0.483046   \n",
      "min                                    0.000000   \n",
      "25%                                    0.250000   \n",
      "50%                                    1.000000   \n",
      "75%                                    1.000000   \n",
      "max                                    1.000000   \n",
      "\n",
      "        feedback.# steps / # expected steps error  execution_time  \n",
      "count                             10.000000     0       10.000000  \n",
      "unique                                  NaN     0             NaN  \n",
      "top                                     NaN   NaN             NaN  \n",
      "freq                                    NaN   NaN             NaN  \n",
      "mean                               1.033333   NaN        8.058960  \n",
      "std                                0.399073   NaN        2.953351  \n",
      "min                                0.333333   NaN        4.853357  \n",
      "25%                                1.000000   NaN        6.137619  \n",
      "50%                                1.000000   NaN        7.006645  \n",
      "75%                                1.000000   NaN       10.225947  \n",
      "max                                2.000000   NaN       13.745396  \n",
      "View the evaluation results for project 'oai-functions-gpt-4-0613-1ae4' at:\n",
      "https://smith.langchain.com/o/e081f11e-fbd2-41b4-9fa8-5d76c76ef854/projects/p/2dfec565-564d-43ff-9c0f-1f11487eb942?eval=true\n",
      "\n",
      "View all tests for Dataset Multiverse Math at:\n",
      "https://smith.langchain.com/o/e081f11e-fbd2-41b4-9fa8-5d76c76ef854/datasets/ddca73f1-ceda-4562-8c49-7ee0a9df2a01\n",
      "[------------------------------------------------->] 10/10\n",
      " Eval quantiles:\n",
      "       inputs.question outputs.input outputs.output  \\\n",
      "count               10            10             10   \n",
      "unique              10            10             10   \n",
      "top        Add 2 and 3   Add 2 and 3            6.2   \n",
      "freq                 1             1              1   \n",
      "mean               NaN           NaN            NaN   \n",
      "std                NaN           NaN            NaN   \n",
      "min                NaN           NaN            NaN   \n",
      "25%                NaN           NaN            NaN   \n",
      "50%                NaN           NaN            NaN   \n",
      "75%                NaN           NaN            NaN   \n",
      "max                NaN           NaN            NaN   \n",
      "\n",
      "                               outputs.intermediate_steps  \\\n",
      "count                                                  10   \n",
      "unique                                                 10   \n",
      "top     [(tool='add' tool_input={'a': 2, 'b': 3} log=\"...   \n",
      "freq                                                    1   \n",
      "mean                                                  NaN   \n",
      "std                                                   NaN   \n",
      "min                                                   NaN   \n",
      "25%                                                   NaN   \n",
      "50%                                                   NaN   \n",
      "75%                                                   NaN   \n",
      "max                                                   NaN   \n",
      "\n",
      "        feedback.Intermediate steps correctness  \\\n",
      "count                                 10.000000   \n",
      "unique                                      NaN   \n",
      "top                                         NaN   \n",
      "freq                                        NaN   \n",
      "mean                                   0.600000   \n",
      "std                                    0.516398   \n",
      "min                                    0.000000   \n",
      "25%                                    0.000000   \n",
      "50%                                    1.000000   \n",
      "75%                                    1.000000   \n",
      "max                                    1.000000   \n",
      "\n",
      "        feedback.# steps / # expected steps error  execution_time  \n",
      "count                             10.000000     0       10.000000  \n",
      "unique                                  NaN     0             NaN  \n",
      "top                                     NaN   NaN             NaN  \n",
      "freq                                    NaN   NaN             NaN  \n",
      "mean                               0.850000   NaN        9.285144  \n",
      "std                                0.253981   NaN        3.671824  \n",
      "min                                0.333333   NaN        5.691349  \n",
      "25%                                0.750000   NaN        6.585414  \n",
      "50%                                1.000000   NaN        7.399437  \n",
      "75%                                1.000000   NaN       11.741618  \n",
      "max                                1.000000   NaN       16.193774  \n"
     ]
    }
   ],
   "source": [
    "import uuid\n",
    "from langsmith.client import Client\n",
    "from langchain_benchmarks.tool_usage import get_eval_config\n",
    "\n",
    "experiment_uuid = uuid.uuid4().hex[:4]\n",
    "\n",
    "client = Client()\n",
    "\n",
    "models = [\"gpt-3.5-turbo-1106\", \"gpt-3.5-turbo-0613\", \"gpt-4-0613\"]\n",
    "\n",
    "for model in models:\n",
    "    eval_config = get_eval_config()\n",
    "    agent_factory = agents.OpenAIAgentFactory(task, model=model)\n",
    "    test_run = client.run_on_dataset(\n",
    "        dataset_name=task.name,\n",
    "        llm_or_chain_factory=agent_factory,\n",
    "        evaluation=eval_config,\n",
    "        verbose=False,\n",
    "        project_name=f\"oai-functions-{model}-{experiment_uuid}\",\n",
    "        tags=[model],\n",
    "        project_metadata={\n",
    "            \"model\": model,\n",
    "            \"arch\": \"openai-functions-agent\",\n",
    "            \"id\": experiment_uuid,\n",
    "        },\n",
    "    )"
   ]
  },
  {
   "cell_type": "markdown",
   "id": "1b039225-01cf-481a-87a6-4e880e9b1dcd",
   "metadata": {},
   "source": [
    "## Analyze\n",
    "\n",
    "You can take a look at the underlying results."
   ]
  },
  {
   "cell_type": "code",
   "execution_count": 11,
   "id": "78c4cc84-43c2-4084-a63b-dc10a5c01856",
   "metadata": {
    "tags": []
   },
   "outputs": [],
   "source": [
    "import pandas as pd\n",
    "from langsmith.client import Client\n",
    "\n",
    "client = Client()\n",
    "projects = list(client.list_projects(reference_dataset_name='Multiverse Math'))\n",
    "\n",
    "dfs = []\n",
    "for project in projects:\n",
    "    first_root_run = next(client.list_runs(project_name=project.name, execution_order=1))\n",
    "    # Temporary way to get tag information\n",
    "    tags = first_root_run.tags\n",
    "    test_results = client.get_test_results(project_name=project.name)\n",
    "    test_results['model'] = tags[0]\n",
    "    dfs.append(test_results)\n",
    "\n",
    "\n",
    "df = pd.concat(dfs)"
   ]
  },
  {
   "cell_type": "code",
   "execution_count": 13,
   "id": "5786950e-c97e-4943-8ec3-27edd6264272",
   "metadata": {
    "tags": []
   },
   "outputs": [
    {
     "data": {
      "text/html": [
       "<div>\n",
       "<style scoped>\n",
       "    .dataframe tbody tr th:only-of-type {\n",
       "        vertical-align: middle;\n",
       "    }\n",
       "\n",
       "    .dataframe tbody tr th {\n",
       "        vertical-align: top;\n",
       "    }\n",
       "\n",
       "    .dataframe thead th {\n",
       "        text-align: right;\n",
       "    }\n",
       "</style>\n",
       "<table border=\"1\" class=\"dataframe\">\n",
       "  <thead>\n",
       "    <tr style=\"text-align: right;\">\n",
       "      <th></th>\n",
       "      <th>reference.reference</th>\n",
       "      <th>reference.expected_steps</th>\n",
       "      <th>input.question</th>\n",
       "      <th>outputs.input</th>\n",
       "      <th>outputs.output</th>\n",
       "      <th>outputs.intermediate_steps</th>\n",
       "      <th>feedback.# steps / # expected steps</th>\n",
       "      <th>feedback.Intermediate steps correctness</th>\n",
       "      <th>execution_time</th>\n",
       "      <th>error</th>\n",
       "      <th>id</th>\n",
       "      <th>model</th>\n",
       "    </tr>\n",
       "    <tr>\n",
       "      <th>example_id</th>\n",
       "      <th></th>\n",
       "      <th></th>\n",
       "      <th></th>\n",
       "      <th></th>\n",
       "      <th></th>\n",
       "      <th></th>\n",
       "      <th></th>\n",
       "      <th></th>\n",
       "      <th></th>\n",
       "      <th></th>\n",
       "      <th></th>\n",
       "      <th></th>\n",
       "    </tr>\n",
       "  </thead>\n",
       "  <tbody>\n",
       "    <tr>\n",
       "      <th>2392a986-43a3-4a8e-9d28-f541d307f95c</th>\n",
       "      <td>6.20</td>\n",
       "      <td>[add]</td>\n",
       "      <td>Add 2 and 3</td>\n",
       "      <td>Add 2 and 3</td>\n",
       "      <td>6.2</td>\n",
       "      <td>[[{'log': '\n",
       "Invoking: `add` with `{'a': 2, 'b'...</td>\n",
       "      <td>1.0</td>\n",
       "      <td>1.0</td>\n",
       "      <td>7.090434</td>\n",
       "      <td>None</td>\n",
       "      <td>d29821eb-5983-4b71-ad4e-31a6b44958d1</td>\n",
       "      <td>gpt-4-0613</td>\n",
       "    </tr>\n",
       "    <tr>\n",
       "      <th>dbc02325-c207-4d6e-8401-d01d022b0603</th>\n",
       "      <td>-4.00</td>\n",
       "      <td>[subtract]</td>\n",
       "      <td>Subtract 3 from 2</td>\n",
       "      <td>Subtract 3 from 2</td>\n",
       "      <td>-4</td>\n",
       "      <td>[[{'log': '\n",
       "Invoking: `subtract` with `{'a': 2...</td>\n",
       "      <td>1.0</td>\n",
       "      <td>1.0</td>\n",
       "      <td>7.114504</td>\n",
       "      <td>None</td>\n",
       "      <td>76759b2a-4444-4087-8152-59b745b48fbe</td>\n",
       "      <td>gpt-4-0613</td>\n",
       "    </tr>\n",
       "    <tr>\n",
       "      <th>a9e5144b-db27-4fb0-9794-2126ba180302</th>\n",
       "      <td>-5.00</td>\n",
       "      <td>[negate]</td>\n",
       "      <td>What is -5 if evaluated using the negate funct...</td>\n",
       "      <td>What is -5 if evaluated using the negate funct...</td>\n",
       "      <td>5</td>\n",
       "      <td>[[{'log': '\n",
       "Invoking: `negate` with `{'a': 5}`...</td>\n",
       "      <td>1.0</td>\n",
       "      <td>1.0</td>\n",
       "      <td>5.934506</td>\n",
       "      <td>None</td>\n",
       "      <td>de287d77-3504-4fc7-ab61-58bf42a4a587</td>\n",
       "      <td>gpt-4-0613</td>\n",
       "    </tr>\n",
       "    <tr>\n",
       "      <th>0f6b7976-f06a-4a5d-b12b-32d7735296a8</th>\n",
       "      <td>32.00</td>\n",
       "      <td>[power]</td>\n",
       "      <td>what is the result of 2 to the power of 3?</td>\n",
       "      <td>what is the result of 2 to the power of 3?</td>\n",
       "      <td>32.0</td>\n",
       "      <td>[[{'log': '\n",
       "Invoking: `power` with `{'a': 2, '...</td>\n",
       "      <td>1.0</td>\n",
       "      <td>1.0</td>\n",
       "      <td>5.691349</td>\n",
       "      <td>None</td>\n",
       "      <td>17ee2105-96f0-4513-aa1f-1c6113d3de54</td>\n",
       "      <td>gpt-4-0613</td>\n",
       "    </tr>\n",
       "    <tr>\n",
       "      <th>b79383a3-baee-4fe8-8e9c-f3c7044ad146</th>\n",
       "      <td>32.34</td>\n",
       "      <td>[add, multiply]</td>\n",
       "      <td>I ate 1 apple and 2 oranges every day for 7 da...</td>\n",
       "      <td>I ate 1 apple and 2 oranges every day for 7 da...</td>\n",
       "      <td>32.34</td>\n",
       "      <td>[[{'log': '\n",
       "Invoking: `add` with `{'a': 1, 'b'...</td>\n",
       "      <td>1.0</td>\n",
       "      <td>0.0</td>\n",
       "      <td>11.231384</td>\n",
       "      <td>None</td>\n",
       "      <td>04f7ab28-c629-4533-a88d-f8e001544b33</td>\n",
       "      <td>gpt-4-0613</td>\n",
       "    </tr>\n",
       "  </tbody>\n",
       "</table>\n",
       "</div>"
      ],
      "text/plain": [
       "                                      reference.reference  \\\n",
       "example_id                                                  \n",
       "2392a986-43a3-4a8e-9d28-f541d307f95c                 6.20   \n",
       "dbc02325-c207-4d6e-8401-d01d022b0603                -4.00   \n",
       "a9e5144b-db27-4fb0-9794-2126ba180302                -5.00   \n",
       "0f6b7976-f06a-4a5d-b12b-32d7735296a8                32.00   \n",
       "b79383a3-baee-4fe8-8e9c-f3c7044ad146                32.34   \n",
       "\n",
       "                                     reference.expected_steps  \\\n",
       "example_id                                                      \n",
       "2392a986-43a3-4a8e-9d28-f541d307f95c                    [add]   \n",
       "dbc02325-c207-4d6e-8401-d01d022b0603               [subtract]   \n",
       "a9e5144b-db27-4fb0-9794-2126ba180302                 [negate]   \n",
       "0f6b7976-f06a-4a5d-b12b-32d7735296a8                  [power]   \n",
       "b79383a3-baee-4fe8-8e9c-f3c7044ad146          [add, multiply]   \n",
       "\n",
       "                                                                         input.question  \\\n",
       "example_id                                                                                \n",
       "2392a986-43a3-4a8e-9d28-f541d307f95c                                        Add 2 and 3   \n",
       "dbc02325-c207-4d6e-8401-d01d022b0603                                  Subtract 3 from 2   \n",
       "a9e5144b-db27-4fb0-9794-2126ba180302  What is -5 if evaluated using the negate funct...   \n",
       "0f6b7976-f06a-4a5d-b12b-32d7735296a8         what is the result of 2 to the power of 3?   \n",
       "b79383a3-baee-4fe8-8e9c-f3c7044ad146  I ate 1 apple and 2 oranges every day for 7 da...   \n",
       "\n",
       "                                                                          outputs.input  \\\n",
       "example_id                                                                                \n",
       "2392a986-43a3-4a8e-9d28-f541d307f95c                                        Add 2 and 3   \n",
       "dbc02325-c207-4d6e-8401-d01d022b0603                                  Subtract 3 from 2   \n",
       "a9e5144b-db27-4fb0-9794-2126ba180302  What is -5 if evaluated using the negate funct...   \n",
       "0f6b7976-f06a-4a5d-b12b-32d7735296a8         what is the result of 2 to the power of 3?   \n",
       "b79383a3-baee-4fe8-8e9c-f3c7044ad146  I ate 1 apple and 2 oranges every day for 7 da...   \n",
       "\n",
       "                                     outputs.output  \\\n",
       "example_id                                            \n",
       "2392a986-43a3-4a8e-9d28-f541d307f95c            6.2   \n",
       "dbc02325-c207-4d6e-8401-d01d022b0603             -4   \n",
       "a9e5144b-db27-4fb0-9794-2126ba180302              5   \n",
       "0f6b7976-f06a-4a5d-b12b-32d7735296a8           32.0   \n",
       "b79383a3-baee-4fe8-8e9c-f3c7044ad146          32.34   \n",
       "\n",
       "                                                             outputs.intermediate_steps  \\\n",
       "example_id                                                                                \n",
       "2392a986-43a3-4a8e-9d28-f541d307f95c  [[{'log': '\n",
       "Invoking: `add` with `{'a': 2, 'b'...   \n",
       "dbc02325-c207-4d6e-8401-d01d022b0603  [[{'log': '\n",
       "Invoking: `subtract` with `{'a': 2...   \n",
       "a9e5144b-db27-4fb0-9794-2126ba180302  [[{'log': '\n",
       "Invoking: `negate` with `{'a': 5}`...   \n",
       "0f6b7976-f06a-4a5d-b12b-32d7735296a8  [[{'log': '\n",
       "Invoking: `power` with `{'a': 2, '...   \n",
       "b79383a3-baee-4fe8-8e9c-f3c7044ad146  [[{'log': '\n",
       "Invoking: `add` with `{'a': 1, 'b'...   \n",
       "\n",
       "                                      feedback.# steps / # expected steps  \\\n",
       "example_id                                                                  \n",
       "2392a986-43a3-4a8e-9d28-f541d307f95c                                  1.0   \n",
       "dbc02325-c207-4d6e-8401-d01d022b0603                                  1.0   \n",
       "a9e5144b-db27-4fb0-9794-2126ba180302                                  1.0   \n",
       "0f6b7976-f06a-4a5d-b12b-32d7735296a8                                  1.0   \n",
       "b79383a3-baee-4fe8-8e9c-f3c7044ad146                                  1.0   \n",
       "\n",
       "                                      feedback.Intermediate steps correctness  \\\n",
       "example_id                                                                      \n",
       "2392a986-43a3-4a8e-9d28-f541d307f95c                                      1.0   \n",
       "dbc02325-c207-4d6e-8401-d01d022b0603                                      1.0   \n",
       "a9e5144b-db27-4fb0-9794-2126ba180302                                      1.0   \n",
       "0f6b7976-f06a-4a5d-b12b-32d7735296a8                                      1.0   \n",
       "b79383a3-baee-4fe8-8e9c-f3c7044ad146                                      0.0   \n",
       "\n",
       "                                      execution_time error  \\\n",
       "example_id                                                   \n",
       "2392a986-43a3-4a8e-9d28-f541d307f95c        7.090434  None   \n",
       "dbc02325-c207-4d6e-8401-d01d022b0603        7.114504  None   \n",
       "a9e5144b-db27-4fb0-9794-2126ba180302        5.934506  None   \n",
       "0f6b7976-f06a-4a5d-b12b-32d7735296a8        5.691349  None   \n",
       "b79383a3-baee-4fe8-8e9c-f3c7044ad146       11.231384  None   \n",
       "\n",
       "                                                                        id  \\\n",
       "example_id                                                                   \n",
       "2392a986-43a3-4a8e-9d28-f541d307f95c  d29821eb-5983-4b71-ad4e-31a6b44958d1   \n",
       "dbc02325-c207-4d6e-8401-d01d022b0603  76759b2a-4444-4087-8152-59b745b48fbe   \n",
       "a9e5144b-db27-4fb0-9794-2126ba180302  de287d77-3504-4fc7-ab61-58bf42a4a587   \n",
       "0f6b7976-f06a-4a5d-b12b-32d7735296a8  17ee2105-96f0-4513-aa1f-1c6113d3de54   \n",
       "b79383a3-baee-4fe8-8e9c-f3c7044ad146  04f7ab28-c629-4533-a88d-f8e001544b33   \n",
       "\n",
       "                                           model  \n",
       "example_id                                        \n",
       "2392a986-43a3-4a8e-9d28-f541d307f95c  gpt-4-0613  \n",
       "dbc02325-c207-4d6e-8401-d01d022b0603  gpt-4-0613  \n",
       "a9e5144b-db27-4fb0-9794-2126ba180302  gpt-4-0613  \n",
       "0f6b7976-f06a-4a5d-b12b-32d7735296a8  gpt-4-0613  \n",
       "b79383a3-baee-4fe8-8e9c-f3c7044ad146  gpt-4-0613  "
      ]
     },
     "execution_count": 13,
     "metadata": {},
     "output_type": "execute_result"
    }
   ],
   "source": [
    "df.head()"
   ]
  },
  {
   "cell_type": "markdown",
   "id": "0ab0792e-e04a-400e-9726-5c123836f710",
   "metadata": {},
   "source": [
    "The dataset is too small to say whether there's a substantial difference between the Open AI models.\n",
    "\n",
    "However, it seems that the current agent is doing only a mediocare job at using tools."
   ]
  },
  {
   "cell_type": "code",
   "execution_count": 14,
   "id": "53d85491-a5a0-4448-bccc-7171e03ffb21",
   "metadata": {
    "tags": []
   },
   "outputs": [
    {
     "data": {
      "text/html": [
       "<div>\n",
       "<style scoped>\n",
       "    .dataframe tbody tr th:only-of-type {\n",
       "        vertical-align: middle;\n",
       "    }\n",
       "\n",
       "    .dataframe tbody tr th {\n",
       "        vertical-align: top;\n",
       "    }\n",
       "\n",
       "    .dataframe thead th {\n",
       "        text-align: right;\n",
       "    }\n",
       "</style>\n",
       "<table border=\"1\" class=\"dataframe\">\n",
       "  <thead>\n",
       "    <tr style=\"text-align: right;\">\n",
       "      <th></th>\n",
       "      <th>feedback.Intermediate steps correctness</th>\n",
       "      <th>execution_time</th>\n",
       "      <th>n</th>\n",
       "    </tr>\n",
       "    <tr>\n",
       "      <th>model</th>\n",
       "      <th></th>\n",
       "      <th></th>\n",
       "      <th></th>\n",
       "    </tr>\n",
       "  </thead>\n",
       "  <tbody>\n",
       "    <tr>\n",
       "      <th>gpt-3.5-turbo-0613</th>\n",
       "      <td>0.7</td>\n",
       "      <td>8.058960</td>\n",
       "      <td>10</td>\n",
       "    </tr>\n",
       "    <tr>\n",
       "      <th>gpt-3.5-turbo-1106</th>\n",
       "      <td>0.6</td>\n",
       "      <td>8.209020</td>\n",
       "      <td>10</td>\n",
       "    </tr>\n",
       "    <tr>\n",
       "      <th>gpt-4-0613</th>\n",
       "      <td>0.6</td>\n",
       "      <td>9.285144</td>\n",
       "      <td>10</td>\n",
       "    </tr>\n",
       "  </tbody>\n",
       "</table>\n",
       "</div>"
      ],
      "text/plain": [
       "                    feedback.Intermediate steps correctness  execution_time  \\\n",
       "model                                                                         \n",
       "gpt-3.5-turbo-0613                                      0.7        8.058960   \n",
       "gpt-3.5-turbo-1106                                      0.6        8.209020   \n",
       "gpt-4-0613                                              0.6        9.285144   \n",
       "\n",
       "                     n  \n",
       "model                   \n",
       "gpt-3.5-turbo-0613  10  \n",
       "gpt-3.5-turbo-1106  10  \n",
       "gpt-4-0613          10  "
      ]
     },
     "execution_count": 14,
     "metadata": {},
     "output_type": "execute_result"
    }
   ],
   "source": [
    "count_df = df1.groupby('model').size().to_frame('n')\n",
    "df1.groupby('model')[['feedback.Intermediate steps correctness', 'execution_time']].mean().join(count_df)"
   ]
  }
 ],
 "metadata": {
  "kernelspec": {
   "display_name": "Python 3 (ipykernel)",
   "language": "python",
   "name": "python3"
  },
  "language_info": {
   "codemirror_mode": {
    "name": "ipython",
    "version": 3
   },
   "file_extension": ".py",
   "mimetype": "text/x-python",
   "name": "python",
   "nbconvert_exporter": "python",
   "pygments_lexer": "ipython3",
   "version": "3.11.4"
  }
 },
 "nbformat": 4,
 "nbformat_minor": 5
}
