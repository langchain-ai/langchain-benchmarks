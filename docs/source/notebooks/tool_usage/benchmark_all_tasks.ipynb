{
 "cells": [
  {
   "cell_type": "markdown",
   "id": "1ba9f105-c48f-4d8c-8253-355ef13156b0",
   "metadata": {},
   "source": [
    "# Benchmark All\n",
    "\n",
    "Here, we'll run benchmarking against all tool usage task.\n",
    "\n",
    "Expand the models list to benchmark against different models."
   ]
  },
  {
   "cell_type": "code",
   "execution_count": 1,
   "id": "fcb2bfc8-fdac-44fe-aa28-01c2db14f14e",
   "metadata": {
    "tags": []
   },
   "outputs": [],
   "source": [
    "import datetime\n",
    "import uuid\n",
    "\n",
    "from langsmith.client import Client\n",
    "\n",
    "from langchain_benchmarks import clone_public_dataset, registry\n",
    "from langchain_benchmarks.rate_limiting import RateLimiter\n",
    "from langchain_benchmarks.tool_usage import agents\n",
    "from agents.factory import CustomAgentFactory"
   ]
  },
  {
   "cell_type": "code",
   "execution_count": 2,
   "id": "e8c5c7ff-a00a-4004-a904-e65e18b6bfa9",
   "metadata": {
    "tags": []
   },
   "outputs": [],
   "source": [
    "requests_per_minute = 50\n",
    "rate_limiter = RateLimiter(requests_per_second=requests_per_minute / 60)"
   ]
  },
  {
   "cell_type": "code",
   "execution_count": 3,
   "id": "25c8e42b-bae8-4f98-9214-bb0ca3964515",
   "metadata": {
    "tags": []
   },
   "outputs": [],
   "source": [
    "model = 'mixtral-8x7b-instruct'"
   ]
  },
  {
   "cell_type": "code",
   "execution_count": 4,
   "id": "e6fbc3ef-7a3f-430f-8b79-45af5861b3ee",
   "metadata": {
    "tags": []
   },
   "outputs": [
    {
     "name": "stdout",
     "output_type": "stream",
     "text": [
      "Dataset Tool Usage - Typewriter (1 tool)_benchmarking_2023-12-13 already exists. Skipping.\n",
      "You can access the dataset at https://smith.langchain.com/o/e081f11e-fbd2-41b4-9fa8-5d76c76ef854/datasets/05e959e4-08ca-43d6-a986-ebcc1cbe4d05.\n",
      "\n",
      "Benchmarking Tool Usage - Typewriter (1 tool) with model: mixtral-8x7b-instruct\n",
      "View the evaluation results for project 'Tool Usage - Typewriter (1 tool)_benchmarking_2023-12-13-mixtral-8x7b-instruct-f7d9' at:\n",
      "https://smith.langchain.com/o/e081f11e-fbd2-41b4-9fa8-5d76c76ef854/datasets/05e959e4-08ca-43d6-a986-ebcc1cbe4d05/compare?selectedSessions=6f95bc54-5337-4e1a-a1fd-5a52cb60d0f4\n",
      "\n",
      "View all tests for Dataset Tool Usage - Typewriter (1 tool)_benchmarking_2023-12-13 at:\n",
      "https://smith.langchain.com/o/e081f11e-fbd2-41b4-9fa8-5d76c76ef854/datasets/05e959e4-08ca-43d6-a986-ebcc1cbe4d05\n",
      "[------------------------------------------------->] 20/20Dataset Tool Usage - Typewriter (26 tools)_benchmarking_2023-12-13 already exists. Skipping.\n",
      "You can access the dataset at https://smith.langchain.com/o/e081f11e-fbd2-41b4-9fa8-5d76c76ef854/datasets/4dd8bd45-e715-4a01-81d6-4210792e5fbd.\n",
      "\n",
      "Benchmarking Tool Usage - Typewriter (26 tools) with model: mixtral-8x7b-instruct\n",
      "View the evaluation results for project 'Tool Usage - Typewriter (26 tools)_benchmarking_2023-12-13-mixtral-8x7b-instruct-f7d9' at:\n",
      "https://smith.langchain.com/o/e081f11e-fbd2-41b4-9fa8-5d76c76ef854/datasets/4dd8bd45-e715-4a01-81d6-4210792e5fbd/compare?selectedSessions=7f5437f9-f999-4952-ba68-a9e3a513709d\n",
      "\n",
      "View all tests for Dataset Tool Usage - Typewriter (26 tools)_benchmarking_2023-12-13 at:\n",
      "https://smith.langchain.com/o/e081f11e-fbd2-41b4-9fa8-5d76c76ef854/datasets/4dd8bd45-e715-4a01-81d6-4210792e5fbd\n",
      "[------------------------------------------------->] 20/20Dataset Tool Usage - Relational Data_benchmarking_2023-12-13 already exists. Skipping.\n",
      "You can access the dataset at https://smith.langchain.com/o/e081f11e-fbd2-41b4-9fa8-5d76c76ef854/datasets/de052cc5-5102-4c76-9df7-c98c3ab88e24.\n",
      "\n",
      "Benchmarking Tool Usage - Relational Data with model: mixtral-8x7b-instruct\n",
      "View the evaluation results for project 'Tool Usage - Relational Data_benchmarking_2023-12-13-mixtral-8x7b-instruct-f7d9' at:\n",
      "https://smith.langchain.com/o/e081f11e-fbd2-41b4-9fa8-5d76c76ef854/datasets/de052cc5-5102-4c76-9df7-c98c3ab88e24/compare?selectedSessions=0ac0d78d-e9f1-434c-8bb5-b64f9332715e\n",
      "\n",
      "View all tests for Dataset Tool Usage - Relational Data_benchmarking_2023-12-13 at:\n",
      "https://smith.langchain.com/o/e081f11e-fbd2-41b4-9fa8-5d76c76ef854/datasets/de052cc5-5102-4c76-9df7-c98c3ab88e24\n",
      "[----------->                                      ] 5/21"
     ]
    },
    {
     "name": "stderr",
     "output_type": "stream",
     "text": [
      "Chain failed for example 92bd9151-bc66-4714-968d-835aab0cadac with inputs {'question': 'eve ate a serving of sushi, what allergens was she exposed to?'}\n",
      "Error Type: ValidationError, Message: 1 validation error for get_food_nameSchemaSchema\n",
      "food_id\n",
      "  field required (type=value_error.missing)\n"
     ]
    },
    {
     "name": "stdout",
     "output_type": "stream",
     "text": [
      "[----------------------->                          ] 10/21"
     ]
    },
    {
     "name": "stderr",
     "output_type": "stream",
     "text": [
      "Chain failed for example ab101881-ef7f-4848-a399-2f319ac5224a with inputs {'question': 'If i eat a serving of pizza, how many calories will I consume?'}\n",
      "Error Type: ValidationError, Message: 1 validation error for find_foods_by_nameSchemaSchema\n",
      "food\n",
      "  field required (type=value_error.missing)\n"
     ]
    },
    {
     "name": "stdout",
     "output_type": "stream",
     "text": [
      "[---------------------------->                     ] 12/21"
     ]
    },
    {
     "name": "stderr",
     "output_type": "stream",
     "text": [
      "Chain failed for example 4629f965-34c1-47e8-8bd3-5ebae45c5271 with inputs {'question': 'list the allergens in chocolate'}\n",
      "Error Type: ValidationError, Message: 1 validation error for find_foods_by_nameSchemaSchema\n",
      "food\n",
      "  field required (type=value_error.missing)\n"
     ]
    },
    {
     "name": "stdout",
     "output_type": "stream",
     "text": [
      "[------------------------------------------------->] 21/21Dataset Multiverse Math_benchmarking_2023-12-13 already exists. Skipping.\n",
      "You can access the dataset at https://smith.langchain.com/o/e081f11e-fbd2-41b4-9fa8-5d76c76ef854/datasets/49a5ef50-6000-44c8-9d2c-3bff3d96f2d6.\n",
      "\n",
      "Benchmarking Multiverse Math with model: mixtral-8x7b-instruct\n",
      "View the evaluation results for project 'Multiverse Math_benchmarking_2023-12-13-mixtral-8x7b-instruct-f7d9' at:\n",
      "https://smith.langchain.com/o/e081f11e-fbd2-41b4-9fa8-5d76c76ef854/datasets/49a5ef50-6000-44c8-9d2c-3bff3d96f2d6/compare?selectedSessions=6d50f1b5-69d8-4e6d-8c74-4edbf544e6f4\n",
      "\n",
      "View all tests for Dataset Multiverse Math_benchmarking_2023-12-13 at:\n",
      "https://smith.langchain.com/o/e081f11e-fbd2-41b4-9fa8-5d76c76ef854/datasets/49a5ef50-6000-44c8-9d2c-3bff3d96f2d6\n",
      "[------------------->                              ] 4/10"
     ]
    },
    {
     "name": "stderr",
     "output_type": "stream",
     "text": [
      "Chain failed for example 68740737-531a-457c-8a71-d9ffb544716b with inputs {'question': 'after calculating the sin of 1.5 radians, divide the result by cos of 1.5 radians'}\n",
      "Error Type: ValidationError, Message: 2 validation errors for divideSchemaSchema\n",
      "a\n",
      "  value is not a valid float (type=type_error.float)\n",
      "b\n",
      "  value is not a valid float (type=type_error.float)\n"
     ]
    },
    {
     "name": "stdout",
     "output_type": "stream",
     "text": [
      "[------------------------------------------------->] 10/10Dataset Email Extraction_benchmarking_2023-12-13 already exists. Skipping.\n",
      "You can access the dataset at https://smith.langchain.com/o/e081f11e-fbd2-41b4-9fa8-5d76c76ef854/datasets/704b5676-3373-45f7-82ce-87c7175b4afb.\n",
      "Dataset Chat Extraction_benchmarking_2023-12-13 already exists. Skipping.\n",
      "You can access the dataset at https://smith.langchain.com/o/e081f11e-fbd2-41b4-9fa8-5d76c76ef854/datasets/3a2d68f0-da7d-4ae8-9b6b-2fb33974c865.\n",
      "Dataset LangChain Docs Q&A_benchmarking_2023-12-13 already exists. Skipping.\n",
      "You can access the dataset at https://smith.langchain.com/o/e081f11e-fbd2-41b4-9fa8-5d76c76ef854/datasets/c699ccfc-5925-48d3-bd72-cd583625b85e.\n",
      "Dataset Semi-structured Reports_benchmarking_2023-12-13 already exists. Skipping.\n",
      "You can access the dataset at https://smith.langchain.com/o/e081f11e-fbd2-41b4-9fa8-5d76c76ef854/datasets/a4810aeb-afc1-44fe-a345-6d4d0ce4f104.\n",
      "Dataset Multi-modal slide decks_benchmarking_2023-12-13 already exists. Skipping.\n",
      "You can access the dataset at https://smith.langchain.com/o/e081f11e-fbd2-41b4-9fa8-5d76c76ef854/datasets/c1f2900b-9da3-492c-aa32-de114355cc2b.\n"
     ]
    }
   ],
   "source": [
    "experiment_uuid = uuid.uuid4().hex[:4]\n",
    "models = [model]\n",
    "client = Client()  # Launch langsmith client for cloning datasets\n",
    "today = datetime.date.today().isoformat()\n",
    "\n",
    "for task in registry:\n",
    "    dataset_name = task.name + f\"_benchmarking_{today}\"\n",
    "    clone_public_dataset(task.dataset_id, dataset_name=dataset_name)\n",
    "\n",
    "    if task.type != \"ToolUsageTask\":\n",
    "        continue\n",
    "        \n",
    "    for model in models:\n",
    "        print()\n",
    "        print(f\"Benchmarking {task.name} with model: {model}\")\n",
    "        eval_config = task.get_eval_config()\n",
    "        agent_factory = CustomAgentFactory(task, model=model, rate_limiter=rate_limiter)\n",
    "\n",
    "        client.run_on_dataset(\n",
    "            dataset_name=dataset_name,\n",
    "            llm_or_chain_factory=agent_factory,\n",
    "            evaluation=eval_config,\n",
    "            verbose=False,\n",
    "            project_name=f\"{dataset_name}-{model}-{experiment_uuid}\",\n",
    "            tags=[model],\n",
    "            concurrency_level=5,\n",
    "            project_metadata={\n",
    "                \"model\": model,\n",
    "                \"id\": experiment_uuid,\n",
    "                \"task\": task.name,\n",
    "                \"date\": today,\n",
    "            },\n",
    "        )"
   ]
  },
  {
   "cell_type": "markdown",
   "id": "9d5ca074-ed15-4f07-8883-88bbb2fb0bf4",
   "metadata": {},
   "source": [
    "## Inspect"
   ]
  },
  {
   "cell_type": "code",
   "execution_count": 5,
   "id": "2533e426-b614-4b85-b937-c30761e19c6e",
   "metadata": {
    "tags": []
   },
   "outputs": [],
   "source": [
    "client = Client()"
   ]
  }
 ],
 "metadata": {
  "kernelspec": {
   "display_name": "Python 3 (ipykernel)",
   "language": "python",
   "name": "python3"
  },
  "language_info": {
   "codemirror_mode": {
    "name": "ipython",
    "version": 3
   },
   "file_extension": ".py",
   "mimetype": "text/x-python",
   "name": "python",
   "nbconvert_exporter": "python",
   "pygments_lexer": "ipython3",
   "version": "3.11.4"
  }
 },
 "nbformat": 4,
 "nbformat_minor": 5
}
