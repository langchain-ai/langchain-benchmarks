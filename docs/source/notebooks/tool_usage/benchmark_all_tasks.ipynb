{
 "cells": [
  {
   "cell_type": "markdown",
   "id": "1ba9f105-c48f-4d8c-8253-355ef13156b0",
   "metadata": {},
   "source": [
    "# Benchmark All\n",
    "\n",
    "Here, we'll run benchmarking against all tool usage task.\n",
    "\n",
    "Expand the models list to benchmark against different models."
   ]
  },
  {
   "cell_type": "code",
   "execution_count": null,
   "id": "ddadb9ef-e76a-4b48-85e4-f62c3957f502",
   "metadata": {
    "tags": []
   },
   "outputs": [],
   "source": [
    "import datetime\n",
    "import uuid\n",
    "\n",
    "from langsmith.client import Client\n",
    "\n",
    "from langchain_benchmarks import clone_public_dataset, registry\n",
    "from langchain_benchmarks.tool_usage import agents"
   ]
  },
  {
   "cell_type": "code",
   "execution_count": null,
   "id": "e6fbc3ef-7a3f-430f-8b79-45af5861b3ee",
   "metadata": {
    "tags": []
   },
   "outputs": [],
   "source": [
    "experiment_uuid = uuid.uuid4().hex[:4]\n",
    "models = [\"gpt-3.5-turbo-16k\"]\n",
    "client = Client()  # Launch langsmith client for cloning datasets\n",
    "today = datetime.date.today().isoformat()\n",
    "\n",
    "for task in registry:\n",
    "    dataset_name = task.name + f\"_benchmarking_{today}\"\n",
    "    clone_public_dataset(task.dataset_id, dataset_name=dataset_name)\n",
    "\n",
    "    if task.type != \"ToolUsageTask\":\n",
    "        continue\n",
    "    for model in models:\n",
    "        print()\n",
    "        print(f\"Benchmarking {task.name} with model: {model}\")\n",
    "        eval_config = task.get_eval_config()\n",
    "        agent_factory = agents.OpenAIAgentFactory(task, model=model)\n",
    "\n",
    "        client.run_on_dataset(\n",
    "            dataset_name=dataset_name,\n",
    "            llm_or_chain_factory=agent_factory,\n",
    "            evaluation=eval_config,\n",
    "            verbose=False,\n",
    "            project_name=f\"{dataset_name}-{model}-{experiment_uuid}\",\n",
    "            tags=[model],\n",
    "            concurrency_level=1,\n",
    "            project_metadata={\n",
    "                \"model\": model,\n",
    "                \"id\": experiment_uuid,\n",
    "                \"task\": task.name,\n",
    "                \"date\": today,\n",
    "            },\n",
    "        )"
   ]
  }
 ],
 "metadata": {
  "kernelspec": {
   "display_name": "Python 3 (ipykernel)",
   "language": "python",
   "name": "python3"
  },
  "language_info": {
   "codemirror_mode": {
    "name": "ipython",
    "version": 3
   },
   "file_extension": ".py",
   "mimetype": "text/x-python",
   "name": "python",
   "nbconvert_exporter": "python",
   "pygments_lexer": "ipython3",
   "version": "3.11.4"
  }
 },
 "nbformat": 4,
 "nbformat_minor": 5
}
