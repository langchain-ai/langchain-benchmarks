{
 "cells": [
  {
   "cell_type": "markdown",
   "id": "60bb467d-861d-4b07-a48d-8e5aa177c969",
   "metadata": {},
   "source": [
    "# Semi-structured RAG\n",
    "\n",
    "Let's evaluate your architecture on a small semi-structured Q&A dataset. This dataset is composed of QA pairs over pdfs that contain tables."
   ]
  },
  {
   "cell_type": "markdown",
   "id": "f49db759-7ce6-4ab7-a58f-7fc3a6a7c8ec",
   "metadata": {},
   "source": [
    "## Pre-requisites\n",
    "\n",
    "We will install quite a few prerequisites for this example since we are comparing various techinques and models."
   ]
  },
  {
   "cell_type": "code",
   "execution_count": null,
   "id": "9f44b59b",
   "metadata": {},
   "outputs": [],
   "source": [
    "%pip install -U langchain langsmith langchainhub  langchain_benchmarks langchain_experimental\n",
    "%pip install --quiet chromadb openai huggingface pandas \"unstructured[all-docs]\""
   ]
  },
  {
   "cell_type": "markdown",
   "id": "0aae13f6-cd40-41e6-bd02-bd683e91cbff",
   "metadata": {},
   "source": [
    "For this code to work, please configure LangSmith environment variables with your credentials."
   ]
  },
  {
   "cell_type": "code",
   "execution_count": 1,
   "id": "62b518cf-99fb-44be-8acb-ee0a8ba62272",
   "metadata": {
    "tags": []
   },
   "outputs": [],
   "source": [
    "import os\n",
    "\n",
    "# os.environ[\"LANGCHAIN_ENDPOINT\"] = \"https://api.smith.langchain.com\"\n",
    "# os.environ[\"LANGCHAIN_API_KEY\"] = \"sk-...\"  # Your API key\n",
    "\n",
    "# Silence warnings from HuggingFace\n",
    "os.environ[\"TOKENIZERS_PARALLELISM\"] = \"false\""
   ]
  },
  {
   "cell_type": "markdown",
   "id": "2e8a666d-8bf5-4bfd-8b20-8b7defdb8cd5",
   "metadata": {},
   "source": [
    "## Review Q&A Tasks\n",
    "\n",
    "The registry provides configurations to test out common architectures on curated datasets."
   ]
  },
  {
   "cell_type": "code",
   "execution_count": 2,
   "id": "b39159d0-9ea1-414f-a9d8-4a7b22b3d2cc",
   "metadata": {
    "tags": []
   },
   "outputs": [],
   "source": [
    "from langchain_benchmarks import clone_public_dataset, registry"
   ]
  },
  {
   "cell_type": "code",
   "execution_count": 3,
   "id": "3644d211-382e-41aa-b282-21b01d28fc35",
   "metadata": {
    "tags": []
   },
   "outputs": [
    {
     "data": {
      "text/html": [
       "<table>\n",
       "<thead>\n",
       "<tr><th>Name                    </th><th>Type         </th><th>Dataset ID                          </th><th>Description  </th></tr>\n",
       "</thead>\n",
       "<tbody>\n",
       "<tr><td>LangChain Docs Q&amp;A      </td><td>RetrievalTask</td><td>452ccafc-18e1-4314-885b-edd735f17b9d</td><td>Questions and answers based on a snapshot of the LangChain python docs.\n",
       "\n",
       "The environment provides the documents and the retriever information.\n",
       "\n",
       "Each example is composed of a question and reference answer.\n",
       "\n",
       "Success is measured based on the accuracy of the answer relative to the reference answer.\n",
       "We also measure the faithfulness of the model&#x27;s response relative to the retrieved documents (if any).              </td></tr>\n",
       "<tr><td>Semi-structured Earnings</td><td>RetrievalTask</td><td>c47d9617-ab99-4d6e-a6e6-92b8daf85a7d</td><td>Questions and answers based on PDFs containing tables and charts.\n",
       "\n",
       "The task provides the raw documents as well as factory methods to easily index them\n",
       "and create a retriever.\n",
       "\n",
       "Each example is composed of a question and reference answer.\n",
       "\n",
       "Success is measured based on the accuracy of the answer relative to the reference answer.\n",
       "We also measure the faithfulness of the model&#x27;s response relative to the retrieved documents (if any).              </td></tr>\n",
       "</tbody>\n",
       "</table>"
      ],
      "text/plain": [
       "Registry(tasks=[RetrievalTask(name='LangChain Docs Q&A', dataset_id='452ccafc-18e1-4314-885b-edd735f17b9d', description=\"Questions and answers based on a snapshot of the LangChain python docs.\\n\\nThe environment provides the documents and the retriever information.\\n\\nEach example is composed of a question and reference answer.\\n\\nSuccess is measured based on the accuracy of the answer relative to the reference answer.\\nWe also measure the faithfulness of the model's response relative to the retrieved documents (if any).\\n\", retriever_factories={'basic': <function _chroma_retriever_factory at 0x13fc6bb00>, 'parent-doc': <function _chroma_parent_document_retriever_factory at 0x13fc6bba0>, 'hyde': <function _chroma_hyde_retriever_factory at 0x13fc6bc40>}, architecture_factories={'conversational-retrieval-qa': <function default_response_chain at 0x13f374b80>}, get_docs=<function load_cached_docs at 0x10306b240>), RetrievalTask(name='Semi-structured Earnings', dataset_id='c47d9617-ab99-4d6e-a6e6-92b8daf85a7d', description=\"Questions and answers based on PDFs containing tables and charts.\\n\\nThe task provides the raw documents as well as factory methods to easily index them\\nand create a retriever.\\n\\nEach example is composed of a question and reference answer.\\n\\nSuccess is measured based on the accuracy of the answer relative to the reference answer.\\nWe also measure the faithfulness of the model's response relative to the retrieved documents (if any).\\n\", retriever_factories={'basic': <function _chroma_retriever_factory at 0x13fca0220>, 'parent-doc': <function _chroma_parent_document_retriever_factory at 0x13fca02c0>, 'hyde': <function _chroma_hyde_retriever_factory at 0x13fca0360>}, architecture_factories={}, get_docs=<function load_docs at 0x13fca0180>)])"
      ]
     },
     "execution_count": 3,
     "metadata": {},
     "output_type": "execute_result"
    }
   ],
   "source": [
    "registry = registry.filter(Type=\"RetrievalTask\")\n",
    "registry"
   ]
  },
  {
   "cell_type": "code",
   "execution_count": 4,
   "id": "671282f8-c455-4390-b018-e53bbd833093",
   "metadata": {
    "tags": []
   },
   "outputs": [
    {
     "data": {
      "text/html": [
       "<table>\n",
       "<tbody>\n",
       "<tr><td>Name                  </td><td>Semi-structured Earnings            </td></tr>\n",
       "<tr><td>Type                  </td><td>RetrievalTask                       </td></tr>\n",
       "<tr><td>Dataset ID            </td><td>c47d9617-ab99-4d6e-a6e6-92b8daf85a7d</td></tr>\n",
       "<tr><td>Description           </td><td>Questions and answers based on PDFs containing tables and charts.\n",
       "\n",
       "The task provides the raw documents as well as factory methods to easily index them\n",
       "and create a retriever.\n",
       "\n",
       "Each example is composed of a question and reference answer.\n",
       "\n",
       "Success is measured based on the accuracy of the answer relative to the reference answer.\n",
       "We also measure the faithfulness of the model&#x27;s response relative to the retrieved documents (if any).                                     </td></tr>\n",
       "<tr><td>Retriever Factories   </td><td>basic, parent-doc, hyde             </td></tr>\n",
       "<tr><td>Architecture Factories</td><td>                                    </td></tr>\n",
       "<tr><td>get_docs              </td><td>&lt;function load_docs at 0x13fca0180&gt; </td></tr>\n",
       "</tbody>\n",
       "</table>"
      ],
      "text/plain": [
       "RetrievalTask(name='Semi-structured Earnings', dataset_id='c47d9617-ab99-4d6e-a6e6-92b8daf85a7d', description=\"Questions and answers based on PDFs containing tables and charts.\\n\\nThe task provides the raw documents as well as factory methods to easily index them\\nand create a retriever.\\n\\nEach example is composed of a question and reference answer.\\n\\nSuccess is measured based on the accuracy of the answer relative to the reference answer.\\nWe also measure the faithfulness of the model's response relative to the retrieved documents (if any).\\n\", retriever_factories={'basic': <function _chroma_retriever_factory at 0x13fca0220>, 'parent-doc': <function _chroma_parent_document_retriever_factory at 0x13fca02c0>, 'hyde': <function _chroma_hyde_retriever_factory at 0x13fca0360>}, architecture_factories={}, get_docs=<function load_docs at 0x13fca0180>)"
      ]
     },
     "execution_count": 4,
     "metadata": {},
     "output_type": "execute_result"
    }
   ],
   "source": [
    "task = registry[\"Semi-structured Earnings\"]\n",
    "task"
   ]
  },
  {
   "cell_type": "code",
   "execution_count": 5,
   "id": "70369f67-deb4-467a-801a-6d38c3d0460d",
   "metadata": {
    "tags": []
   },
   "outputs": [
    {
     "name": "stdout",
     "output_type": "stream",
     "text": [
      "Dataset Semi-structured Earnings already exists. Skipping.\n",
      "You can access the dataset at https://smith.langchain.com/o/ebbaf2eb-769b-4505-aca2-d11de10372a4/datasets/f8f24935-cf57-4cb3-a30f-8df303a46962.\n"
     ]
    }
   ],
   "source": [
    "clone_public_dataset(task.dataset_id, dataset_name=task.name)"
   ]
  },
  {
   "cell_type": "markdown",
   "id": "4b4fafb2-63d0-40b4-b803-0095c5b22ca6",
   "metadata": {},
   "source": [
    "### Now, index the documents"
   ]
  },
  {
   "cell_type": "code",
   "execution_count": 6,
   "id": "f5ad4b23-fbd4-4ebc-b5a5-d3d05efd0b9c",
   "metadata": {},
   "outputs": [
    {
     "name": "stderr",
     "output_type": "stream",
     "text": [
      "Some weights of the model checkpoint at microsoft/table-transformer-structure-recognition were not used when initializing TableTransformerForObjectDetection: ['model.backbone.conv_encoder.model.layer3.0.downsample.1.num_batches_tracked', 'model.backbone.conv_encoder.model.layer2.0.downsample.1.num_batches_tracked', 'model.backbone.conv_encoder.model.layer4.0.downsample.1.num_batches_tracked']\n",
      "- This IS expected if you are initializing TableTransformerForObjectDetection from the checkpoint of a model trained on another task or with another architecture (e.g. initializing a BertForSequenceClassification model from a BertForPreTraining model).\n",
      "- This IS NOT expected if you are initializing TableTransformerForObjectDetection from the checkpoint of a model that you expect to be exactly identical (initializing a BertForSequenceClassification model from a BertForSequenceClassification model).\n"
     ]
    },
    {
     "data": {
      "application/vnd.jupyter.widget-view+json": {
       "model_id": "96bc908a2e124fbe8812f930e2fe4e8d",
       "version_major": 2,
       "version_minor": 0
      },
      "text/plain": [
       "  0%|          | 0/26 [00:00<?, ?it/s]"
      ]
     },
     "metadata": {},
     "output_type": "display_data"
    }
   ],
   "source": [
    "from langchain.embeddings import HuggingFaceEmbeddings\n",
    "\n",
    "embeddings = HuggingFaceEmbeddings(model_name=\"thenlper/gte-base\")\n",
    "\n",
    "# Arguments to pass to partition_pdf\n",
    "unstructured_config = {\n",
    "    # Unstructured first finds embedded image blocks\n",
    "    \"extract_images_in_pdf\": False,\n",
    "    # Use layout model (YOLOX) to get bounding boxes (for tables) and find titles\n",
    "    # Titles are any sub-section of the document\n",
    "    \"infer_table_structure\": True,\n",
    "    # Post processing to aggregate text once we have the title\n",
    "    \"chunking_strategy\": \"by_title\",\n",
    "    # Chunking params to aggregate text blocks\n",
    "    # Attempt to create a new chunk 3800 chars\n",
    "    # Attempt to keep chunks > 2000 chars\n",
    "    \"max_characters\": 4000,\n",
    "    \"new_after_n_chars\": 3800,\n",
    "    \"combine_text_under_n_chars\": 2000,\n",
    "}\n",
    "docs = list(task.get_docs(unstructured_config=unstructured_config))\n",
    "retriever_factory = task.retriever_factories[\"basic\"]\n",
    "# Indexes the documents with the specified embeddings\n",
    "retriever = retriever_factory(embeddings, docs=docs)"
   ]
  },
  {
   "cell_type": "markdown",
   "id": "57efac89-12f9-47e3-b60f-65d9279ebc1e",
   "metadata": {},
   "source": [
    "### Time to evaluate\n",
    "\n",
    "We will compose our retriever with a simple Llama based LLM."
   ]
  },
  {
   "cell_type": "code",
   "execution_count": 7,
   "id": "8d1bc360-d822-43a8-b6b7-ff66dc27caf4",
   "metadata": {},
   "outputs": [],
   "source": [
    "from langchain.chat_models import ChatAnthropic\n",
    "from langchain.prompts import ChatPromptTemplate\n",
    "from langchain.schema.output_parser import StrOutputParser\n",
    "from langchain.schema.runnable.passthrough import RunnableAssign\n",
    "\n",
    "prompt = ChatPromptTemplate.from_messages(\n",
    "    [\n",
    "        (\n",
    "            \"system\",\n",
    "            \"Answer based solely on the retrieved documents below:\\n\\n<Documents>\\n{docs}</Documents>\",\n",
    "        ),\n",
    "        (\"user\", \"{Question}\"),\n",
    "    ]\n",
    ")\n",
    "llm = ChatAnthropic(model=\"claude-2\")\n",
    "\n",
    "\n",
    "def create_chain(retriever):\n",
    "    return (\n",
    "        RunnableAssign({\"docs\": (lambda x: next(iter(x.values()))) | retriever})\n",
    "        | prompt\n",
    "        | llm\n",
    "        | StrOutputParser()\n",
    "    )"
   ]
  },
  {
   "cell_type": "code",
   "execution_count": 8,
   "id": "935cacd9-e841-4c76-ac16-f3f0cf18df62",
   "metadata": {},
   "outputs": [
    {
     "name": "stdout",
     "output_type": "stream",
     "text": [
      "View the evaluation results for project 'test-roasted-house-33' at:\n",
      "https://smith.langchain.com/o/ebbaf2eb-769b-4505-aca2-d11de10372a4/projects/p/47229cb0-714a-41d6-9517-d36652dc2f63?eval=true\n",
      "\n",
      "View all tests for Dataset Semi-structured Earnings at:\n",
      "https://smith.langchain.com/o/ebbaf2eb-769b-4505-aca2-d11de10372a4/datasets/f8f24935-cf57-4cb3-a30f-8df303a46962\n",
      "[------------------------------------------------->] 5/5\n",
      " Eval quantiles:\n",
      "                               0.25      0.5      0.75      mean      mode\n",
      "embedding_cosine_distance  0.050985  0.07845  0.086445  0.069356  0.038448\n",
      "score_string:accuracy      0.100000  1.00000  1.000000  0.640000  1.000000\n"
     ]
    }
   ],
   "source": [
    "from functools import partial\n",
    "\n",
    "from langsmith.client import Client\n",
    "\n",
    "from langchain_benchmarks.rag import get_eval_config\n",
    "\n",
    "client = Client()\n",
    "RAG_EVALUATION = get_eval_config()\n",
    "chain = create_chain(retriever)\n",
    "test_run = client.run_on_dataset(\n",
    "    dataset_name=task.name,\n",
    "    llm_or_chain_factory=chain,\n",
    "    evaluation=RAG_EVALUATION,\n",
    "    verbose=True,\n",
    ")"
   ]
  },
  {
   "cell_type": "markdown",
   "id": "3b54ef6c-0194-410a-aae9-f30c2097548a",
   "metadata": {},
   "source": [
    "## Example processing the docs\n",
    "\n",
    "RAG apps are as good as the information they are able to retrieve. Let's try indexing the tables' summaries to\n",
    "improve the likelihood that they are retrieved whenever a user asks a relevant question.\n",
    "\n",
    "We will use unstructured's `partition_pdf` functionality and generate summaries using an LLM.\n",
    "\n",
    "You can define your own indexing pipeline to see how it impacts the downstream performance."
   ]
  },
  {
   "cell_type": "code",
   "execution_count": 9,
   "id": "3378eddb-0a8d-4179-8e9c-54343469eef6",
   "metadata": {},
   "outputs": [],
   "source": [
    "from operator import itemgetter\n",
    "\n",
    "from langchain.chat_models import ChatOpenAI\n",
    "from langchain.prompts import ChatPromptTemplate\n",
    "from langchain.schema.document import Document\n",
    "from langchain.schema.output_parser import StrOutputParser\n",
    "from langchain.schema.runnable.passthrough import RunnableAssign\n",
    "\n",
    "# Prompt\n",
    "prompt = ChatPromptTemplate.from_messages(\n",
    "    [\n",
    "        (\n",
    "            \"system\",\n",
    "            \"You are summarizing semi-structured tables or text in a pdf.\\n\\n```document\\n{doc}\\n```\",\n",
    "        ),\n",
    "        (\"user\", \"Write a concise summary.\"),\n",
    "    ]\n",
    ")\n",
    "\n",
    "# Summary chain\n",
    "model = ChatOpenAI(temperature=0, model=\"gpt-3.5-turbo-16k\")\n",
    "\n",
    "\n",
    "def create_doc(x) -> Document:\n",
    "    return Document(\n",
    "        page_content=x[\"output\"],\n",
    "        metadata=x[\"doc\"].metadata,\n",
    "    )\n",
    "\n",
    "\n",
    "summarize_chain = (\n",
    "    {\"doc\": lambda x: x}\n",
    "    | RunnableAssign({\"prompt\": prompt})\n",
    "    | {\n",
    "        \"output\": itemgetter(\"prompt\") | model | StrOutputParser(),\n",
    "        \"doc\": itemgetter(\"doc\"),\n",
    "    }\n",
    "    | create_doc\n",
    ")"
   ]
  },
  {
   "cell_type": "code",
   "execution_count": 10,
   "id": "07a2f070-3b5a-4de0-b3da-ddfb6e6f8c2b",
   "metadata": {},
   "outputs": [],
   "source": [
    "summaries = summarize_chain.batch(\n",
    "    [doc for doc in docs if doc.metadata[\"element_type\"] == \"table\"]\n",
    ")"
   ]
  },
  {
   "cell_type": "markdown",
   "id": "22dc0bf8-fa50-4be3-8d23-04f6129548e0",
   "metadata": {},
   "source": [
    "Index the documents and create the retriever. We will re"
   ]
  },
  {
   "cell_type": "code",
   "execution_count": 11,
   "id": "35a1ccf6-2c2f-46f2-838e-5a5bf89515f5",
   "metadata": {},
   "outputs": [
    {
     "data": {
      "application/vnd.jupyter.widget-view+json": {
       "model_id": "e23feed90e134baaa24986a8e4e9ae05",
       "version_major": 2,
       "version_minor": 0
      },
      "text/plain": [
       "  0%|          | 0/36 [00:00<?, ?it/s]"
      ]
     },
     "metadata": {},
     "output_type": "display_data"
    }
   ],
   "source": [
    "# Indexes the documents with the specified embeddings\n",
    "retriever_with_summaries = retriever_factory(\n",
    "    embeddings,\n",
    "    docs=docs + summaries,\n",
    "    # Specify a unique transformation name to avoid local cache collisions with other indices.\n",
    "    transformation_name=\"table-summaries\",\n",
    ")"
   ]
  },
  {
   "cell_type": "markdown",
   "id": "3821e4b0-8e67-418a-840c-470fcde42df0",
   "metadata": {},
   "source": [
    "### Evaluate\n",
    "\n",
    "We'll evaluate the new chain on the same dataset."
   ]
  },
  {
   "cell_type": "code",
   "execution_count": 12,
   "id": "e6f08c4c-a738-4449-9190-5a4f0b65b99a",
   "metadata": {},
   "outputs": [
    {
     "name": "stdout",
     "output_type": "stream",
     "text": [
      "View the evaluation results for project 'test-proper-underwear-26' at:\n",
      "https://smith.langchain.com/o/ebbaf2eb-769b-4505-aca2-d11de10372a4/projects/p/154950c6-420b-406b-9ced-66edba4c9ff6?eval=true\n",
      "\n",
      "View all tests for Dataset Semi-structured Earnings at:\n",
      "https://smith.langchain.com/o/ebbaf2eb-769b-4505-aca2-d11de10372a4/datasets/f8f24935-cf57-4cb3-a30f-8df303a46962\n",
      "[>                                                 ] 0/5"
     ]
    },
    {
     "name": "stderr",
     "output_type": "stream",
     "text": [
      "Chain failed for example e04fac04-a465-4912-b91b-950b1dba9ac3 with inputs {'Question': 'Analyzing the operating expenses for Q3 2023, which category saw the largest increase when compared to Q3 2022?'}\n",
      "Error Type: KeyError, Message: 'doc'\n",
      "Chain failed for example 68183aca-7d8a-43d2-8b96-3ae2be5d7564 with inputs {'Question': 'How many bank failures were there between 2021 and 2023?'}\n",
      "Error Type: KeyError, Message: 'doc'\n",
      "Chain failed for example eec2946e-5504-4acd-af88-2ffd37e4b4ac with inputs {'Question': \"Based on the net income (loss) reported for Q3 2023, how did Datadog's performance change compared to Q3 2022, and what might this indicate in terms of their financial recovery?\"}\n",
      "Error Type: KeyError, Message: 'doc'\n",
      "Chain failed for example 05400fc8-1b72-4201-8cd8-4e56f02025fc with inputs {'Question': 'What is the change in cash flow from operations for Q3 2023 versus Q3 2022?'}\n",
      "Error Type: KeyError, Message: 'doc'\n"
     ]
    },
    {
     "name": "stdout",
     "output_type": "stream",
     "text": [
      "[--------------------------------------->          ] 4/5"
     ]
    },
    {
     "name": "stderr",
     "output_type": "stream",
     "text": [
      "Chain failed for example 6a925751-f04c-41fd-b7b6-f1968499910c with inputs {'Question': 'What is the difference in deposits for bank failures in 2001-2020 versus 2021-2023?'}\n",
      "Error Type: KeyError, Message: 'doc'\n"
     ]
    },
    {
     "name": "stdout",
     "output_type": "stream",
     "text": [
      "[------------------------------------------------->] 5/5"
     ]
    }
   ],
   "source": [
    "chain_2 = create_chain(retriever_with_summaries)\n",
    "\n",
    "test_run_with_summaries = client.run_on_dataset(\n",
    "    dataset_name=task.name,\n",
    "    llm_or_chain_factory=chain_2,\n",
    "    evaluation=RAG_EVALUATION,\n",
    "    verbose=True,\n",
    ")"
   ]
  },
  {
   "cell_type": "code",
   "execution_count": null,
   "id": "a4a96dbc-9a38-4d65-87bd-1e027d2215dd",
   "metadata": {},
   "outputs": [],
   "source": []
  }
 ],
 "metadata": {
  "kernelspec": {
   "display_name": "Python 3 (ipykernel)",
   "language": "python",
   "name": "python3"
  },
  "language_info": {
   "codemirror_mode": {
    "name": "ipython",
    "version": 3
   },
   "file_extension": ".py",
   "mimetype": "text/x-python",
   "name": "python",
   "nbconvert_exporter": "python",
   "pygments_lexer": "ipython3",
   "version": "3.11.2"
  }
 },
 "nbformat": 4,
 "nbformat_minor": 5
}
