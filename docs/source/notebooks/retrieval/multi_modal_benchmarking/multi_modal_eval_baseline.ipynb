{
 "cells": [
  {
   "cell_type": "markdown",
   "id": "9fa3470d-9448-4792-9f65-6978fc58cf84",
   "metadata": {},
   "source": [
    "# Multi-modal eval: Baseline\n",
    "\n",
    "`Multi-modal slide decks` is a public dataset that contains a dataset of question-answer pairs from slide decks with visual content.\n",
    "\n",
    "The question-answer pairs are derived from the visual content in the decks, testing the ability of RAG to perform visual reasoning.\n",
    "\n",
    "As a baseline, we evaluate this dataset using text-based RAG pipeline, below.\n",
    "\n",
    "This will not reason about visual content and will simply load the text from the slides. \n",
    "\n",
    "## Pre-requisites"
   ]
  },
  {
   "cell_type": "code",
   "execution_count": null,
   "id": "47220461-d4e9-4f1d-9c57-672ca947ca0d",
   "metadata": {
    "tags": []
   },
   "outputs": [],
   "source": [
    "# %pip install -U langchain langsmith langchain_benchmarks\n",
    "# %pip install --quiet chromadb openai pypdf pandas"
   ]
  },
  {
   "cell_type": "code",
   "execution_count": null,
   "id": "196de967-6de6-40da-aa75-e836923ab5e3",
   "metadata": {
    "tags": []
   },
   "outputs": [],
   "source": [
    "import getpass\n",
    "import os\n",
    "\n",
    "os.environ[\"LANGCHAIN_ENDPOINT\"] = \"https://api.smith.langchain.com\"\n",
    "env_vars = [\"LANGCHAIN_API_KEY\", \"OPENAI_API_KEY\"]\n",
    "for var in env_vars:\n",
    "    if var not in os.environ:\n",
    "        os.environ[var] = getpass.getpass(prompt=f\"Enter your {var}: \")"
   ]
  },
  {
   "cell_type": "markdown",
   "id": "10da8e11-6288-4131-bd60-d5aa86928acc",
   "metadata": {},
   "source": [
    "## Dataset\n",
    "\n",
    "We can browse the available LangChain benchmark datasets for retrieval."
   ]
  },
  {
   "cell_type": "code",
   "execution_count": null,
   "id": "2ff97905-14a6-413c-99be-58b7a9c8d4c1",
   "metadata": {},
   "outputs": [],
   "source": [
    "from langchain_benchmarks import clone_public_dataset, registry\n",
    "\n",
    "registry = registry.filter(Type=\"RetrievalTask\")\n",
    "registry"
   ]
  },
  {
   "cell_type": "markdown",
   "id": "2fb7dc3d-28f1-4c28-b0d0-3784d04b81ce",
   "metadata": {},
   "source": [
    "`Multi-modal slide decks` is the relevant dataset for our task."
   ]
  },
  {
   "cell_type": "code",
   "execution_count": null,
   "id": "219a4141-4a5f-48e4-ae05-5a824e2193fd",
   "metadata": {},
   "outputs": [],
   "source": [
    "task = registry[\"Multi-modal slide decks\"]\n",
    "task"
   ]
  },
  {
   "cell_type": "markdown",
   "id": "2d6569b5-e79a-41b7-9745-c2f8a1dd704e",
   "metadata": {},
   "source": [
    "Clone the dataset so that it's available in our LangSmith datasets."
   ]
  },
  {
   "cell_type": "code",
   "execution_count": null,
   "id": "d2caa086-9549-4c74-bba9-ba80d5a7b218",
   "metadata": {},
   "outputs": [],
   "source": [
    "clone_public_dataset(task.dataset_id, dataset_name=task.name)"
   ]
  },
  {
   "cell_type": "markdown",
   "id": "bf350917-a1e5-46f4-81cd-c1678ab9220f",
   "metadata": {},
   "source": [
    "Fetch the associated PDFs from remote cache for the dataset so that we can perform ingestion."
   ]
  },
  {
   "cell_type": "code",
   "execution_count": null,
   "id": "99ce6afb-2317-4bc1-9faf-4f828095ad91",
   "metadata": {},
   "outputs": [],
   "source": [
    "from langchain_benchmarks.rag.tasks.multi_modal_slide_decks import get_file_names\n",
    "\n",
    "file_names = list(get_file_names())  # PosixPath"
   ]
  },
  {
   "cell_type": "markdown",
   "id": "848a4cdb-6c08-4c01-81ce-16ab83a7fdff",
   "metadata": {},
   "source": [
    "## Load\n",
    "\n",
    "Load and split the files for indexing."
   ]
  },
  {
   "cell_type": "code",
   "execution_count": null,
   "id": "6ce85810-98a7-406e-b44e-ce860ac35986",
   "metadata": {
    "tags": []
   },
   "outputs": [],
   "source": [
    "from langchain.document_loaders import PyPDFLoader\n",
    "from langchain.text_splitter import RecursiveCharacterTextSplitter\n",
    "\n",
    "\n",
    "def load_and_split(file):\n",
    "    \"\"\"\n",
    "    Load and split PDF files\n",
    "    :param file: PosixPath path for pdf\n",
    "    :return: A list of text chunks\n",
    "    \"\"\"\n",
    "\n",
    "    loader = PyPDFLoader(str(file))\n",
    "    pdf_pages = loader.load()\n",
    "\n",
    "    text_splitter = RecursiveCharacterTextSplitter.from_tiktoken_encoder(\n",
    "        chunk_size=100, chunk_overlap=50\n",
    "    )\n",
    "\n",
    "    # Get chunks\n",
    "    docs = text_splitter.split_documents(pdf_pages)\n",
    "    texts = [d.page_content for d in docs]\n",
    "    print(f\"There are {len(texts)} text elements in {file.name}\")\n",
    "    return texts\n",
    "\n",
    "\n",
    "texts = []\n",
    "for fi in file_names:\n",
    "    texts.extend(load_and_split(fi))"
   ]
  },
  {
   "cell_type": "markdown",
   "id": "eb01925d-b7d1-47a1-bd90-805178d3c4a9",
   "metadata": {},
   "source": [
    "## Index\n",
    "\n",
    "Embed (OpenAIEmbeddings) and store splits in a vectorstore (Chroma)."
   ]
  },
  {
   "cell_type": "code",
   "execution_count": null,
   "id": "ceb31f71-45fb-4b12-bc1c-31981de334bb",
   "metadata": {
    "tags": []
   },
   "outputs": [],
   "source": [
    "from langchain.embeddings import OpenAIEmbeddings\n",
    "from langchain.vectorstores import Chroma\n",
    "\n",
    "vectorstore_baseline = Chroma.from_texts(\n",
    "    texts=texts, collection_name=\"baseline-multi-modal\", embedding=OpenAIEmbeddings()\n",
    ")\n",
    "\n",
    "retriever_baseline = vectorstore_baseline.as_retriever()"
   ]
  },
  {
   "cell_type": "markdown",
   "id": "e6dcbb01-f480-456d-b972-c732eb26c393",
   "metadata": {},
   "source": [
    "## RAG\n",
    "\n",
    "Create a pipeline for retrieval of relevant chunks based on semantic similarity to the input question.\n",
    "\n",
    "Pass the images to GPT-4 for answer synthesis."
   ]
  },
  {
   "cell_type": "code",
   "execution_count": null,
   "id": "ea233664-e527-42f1-a820-0c2271e16c20",
   "metadata": {
    "tags": []
   },
   "outputs": [],
   "source": [
    "from langchain.chat_models import ChatOpenAI\n",
    "from langchain.prompts import ChatPromptTemplate\n",
    "from langchain.schema.output_parser import StrOutputParser\n",
    "from langchain.schema.runnable import RunnablePassthrough\n",
    "\n",
    "\n",
    "def rag_chain(retriever):\n",
    "    \"\"\"\n",
    "    RAG pipeline for the indexed presentations\n",
    "    :param retriever: PosixPath path for pdf\n",
    "    \"\"\"\n",
    "\n",
    "    # Prompt template\n",
    "    template = \"\"\"Answer the question based only on the following context, which can include text and tables:\n",
    "    {context}\n",
    "    Question: {question}\n",
    "    \"\"\"\n",
    "    prompt = ChatPromptTemplate.from_template(template)\n",
    "\n",
    "    # LLM\n",
    "    model = ChatOpenAI(temperature=0, model=\"gpt-4\")\n",
    "\n",
    "    # RAG pipeline\n",
    "    chain = (\n",
    "        {\n",
    "            \"context\": retriever | (lambda x: \"\\n\\n\".join([i.page_content for i in x])),\n",
    "            \"question\": RunnablePassthrough(),\n",
    "        }\n",
    "        | prompt\n",
    "        | model\n",
    "        | StrOutputParser()\n",
    "    )\n",
    "    return chain\n",
    "\n",
    "\n",
    "# Create RAG chain\n",
    "chain = rag_chain(retriever_baseline)"
   ]
  },
  {
   "cell_type": "markdown",
   "id": "95df1446-143d-4f4c-a15b-2a379266d8bf",
   "metadata": {},
   "source": [
    "## Eval\n",
    "\n",
    "Run evaluation on our dataset:\n",
    "\n",
    "* `task.name` is the dataset of QA pairs that we cloned\n",
    "* `eval_config` specifies the [LangSmith evaluator](https://docs.smith.langchain.com/evaluation/evaluator-implementations#correctness-qa-evaluation) for our dataset, which will use GPT-4 as a grader\n",
    "* The grader will evaluate the chain-generated answer to each question relative to ground truth"
   ]
  },
  {
   "cell_type": "code",
   "execution_count": null,
   "id": "479ce09d-642e-4b3b-9e4e-e9c2b7f0e9ca",
   "metadata": {
    "tags": []
   },
   "outputs": [],
   "source": [
    "import uuid\n",
    "\n",
    "from langchain.smith import RunEvalConfig\n",
    "from langsmith.client import Client\n",
    "\n",
    "# Evaluator configuration\n",
    "client = Client()\n",
    "eval_config = RunEvalConfig(\n",
    "    evaluators=[\"cot_qa\"],\n",
    ")\n",
    "\n",
    "# Experiments\n",
    "chain_map = {\n",
    "    \"baseline\": chain,\n",
    "}\n",
    "\n",
    "# Run evaluation\n",
    "run_id = uuid.uuid4().hex[:4]\n",
    "test_runs = {}\n",
    "for project_name, chain in chain_map.items():\n",
    "    test_runs[project_name] = client.run_on_dataset(\n",
    "        dataset_name=task.name,\n",
    "        llm_or_chain_factory=lambda: (lambda x: x[\"Question\"]) | chain,\n",
    "        evaluation=eval_config,\n",
    "        verbose=True,\n",
    "        project_name=f\"{run_id}-{project_name}\",\n",
    "        project_metadata={\"chain\": project_name},\n",
    "    )"
   ]
  }
 ],
 "metadata": {
  "kernelspec": {
   "display_name": "Python 3 (ipykernel)",
   "language": "python",
   "name": "python3"
  },
  "language_info": {
   "codemirror_mode": {
    "name": "ipython",
    "version": 3
   },
   "file_extension": ".py",
   "mimetype": "text/x-python",
   "name": "python",
   "nbconvert_exporter": "python",
   "pygments_lexer": "ipython3",
   "version": "3.9.16"
  }
 },
 "nbformat": 4,
 "nbformat_minor": 5
}
