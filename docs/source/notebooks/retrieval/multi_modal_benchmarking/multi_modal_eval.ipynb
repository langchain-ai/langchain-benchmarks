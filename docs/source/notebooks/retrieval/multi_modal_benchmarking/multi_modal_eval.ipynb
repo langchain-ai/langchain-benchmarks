{
 "cells": [
  {
   "attachments": {},
   "cell_type": "markdown",
   "id": "eec8815f-79f5-49b1-a29d-48acc7795e57",
   "metadata": {},
   "source": [
    "# Multi-modal eval: GPT-4 w/ multi-modal embeddings and multi-vector retriever\n",
    "\n",
    "`Multi-modal slide decks` is a public dataset that contains a dataset of question-answer pairs from slide decks with visual content.\n",
    "\n",
    "The question-answer pairs are derived from the visual content in the decks, testing the ability of RAG to perform visual reasoning.\n",
    "\n",
    "We evaluate this dataset using two approaches: \n",
    "\n",
    "(1) Vectorstore with multimodal embeddings\n",
    "\n",
    "(2) Multi-vector retriever with indexed image summaries\n",
    "\n",
    "## Pre-requisites"
   ]
  },
  {
   "cell_type": "code",
   "execution_count": null,
   "id": "3838e98a-0d68-406f-87ef-096cf9d7424f",
   "metadata": {},
   "outputs": [],
   "source": [
    "# %pip install -U langchain langsmith langchain_benchmarks\n",
    "# %pip install -U openai chromadb pypdfium2 open-clip-torch pillow"
   ]
  },
  {
   "cell_type": "code",
   "execution_count": 1,
   "id": "50caa523-7d2b-458f-a06c-364157a17fe9",
   "metadata": {
    "tags": []
   },
   "outputs": [],
   "source": [
    "import getpass\n",
    "import os\n",
    "\n",
    "os.environ[\"LANGCHAIN_ENDPOINT\"] = \"https://api.smith.langchain.com\"\n",
    "env_vars = [\"LANGCHAIN_API_KEY\", \"OPENAI_API_KEY\"]\n",
    "for var in env_vars:\n",
    "    if var not in os.environ:\n",
    "        os.environ[var] = getpass.getpass(prompt=f\"Enter your {var}: \")"
   ]
  },
  {
   "cell_type": "markdown",
   "id": "131ef3c8-909a-4fd6-88c8-a64a30045927",
   "metadata": {},
   "source": [
    "## Dataset\n",
    "\n",
    "We can browse the available LangChain benchmark datasets for retrieval."
   ]
  },
  {
   "cell_type": "code",
   "execution_count": 1,
   "id": "44c3a6ba-2e7a-474b-a9a3-51591917a3a6",
   "metadata": {
    "tags": []
   },
   "outputs": [
    {
     "data": {
      "text/html": [
       "<table>\n",
       "<thead>\n",
       "<tr><th>Name                   </th><th>Type         </th><th>Dataset ID                                                                                                                                                 </th><th>Description  </th></tr>\n",
       "</thead>\n",
       "<tbody>\n",
       "<tr><td>LangChain Docs Q&A     </td><td>RetrievalTask</td><td><a href=\"https://smith.langchain.com/public/452ccafc-18e1-4314-885b-edd735f17b9d/d\" target=\"_blank\" rel=\"noopener\">452ccafc-18e1-4314-885b-edd735f17b9d</a></td><td>Questions and answers based on a snapshot of the LangChain python docs.\n",
       "\n",
       "The environment provides the documents and the retriever information.\n",
       "\n",
       "Each example is composed of a question and reference answer.\n",
       "\n",
       "Success is measured based on the accuracy of the answer relative to the reference answer.\n",
       "We also measure the faithfulness of the model's response relative to the retrieved documents (if any).              </td></tr>\n",
       "<tr><td>Semi-structured Reports</td><td>RetrievalTask</td><td><a href=\"https://smith.langchain.com/public/c47d9617-ab99-4d6e-a6e6-92b8daf85a7d/d\" target=\"_blank\" rel=\"noopener\">c47d9617-ab99-4d6e-a6e6-92b8daf85a7d</a></td><td>Questions and answers based on PDFs containing tables and charts.\n",
       "\n",
       "The task provides the raw documents as well as factory methods to easily index them\n",
       "and create a retriever.\n",
       "\n",
       "Each example is composed of a question and reference answer.\n",
       "\n",
       "Success is measured based on the accuracy of the answer relative to the reference answer.\n",
       "We also measure the faithfulness of the model's response relative to the retrieved documents (if any).              </td></tr>\n",
       "<tr><td>Multi-modal slide decks</td><td>RetrievalTask</td><td><a href=\"https://smith.langchain.com/public/40afc8e7-9d7e-44ed-8971-2cae1eb59731/d\" target=\"_blank\" rel=\"noopener\">40afc8e7-9d7e-44ed-8971-2cae1eb59731</a></td><td>This public dataset is a work-in-progress and will be extended over time.\n",
       "        \n",
       "Questions and answers based on slide decks containing visual tables and charts.\n",
       "\n",
       "Each example is composed of a question and reference answer.\n",
       "\n",
       "Success is measured based on the accuracy of the answer relative to the reference answer.              </td></tr>\n",
       "</tbody>\n",
       "</table>"
      ],
      "text/plain": [
       "Registry(tasks=[RetrievalTask(name='LangChain Docs Q&A', dataset_id='https://smith.langchain.com/public/452ccafc-18e1-4314-885b-edd735f17b9d/d', description=\"Questions and answers based on a snapshot of the LangChain python docs.\\n\\nThe environment provides the documents and the retriever information.\\n\\nEach example is composed of a question and reference answer.\\n\\nSuccess is measured based on the accuracy of the answer relative to the reference answer.\\nWe also measure the faithfulness of the model's response relative to the retrieved documents (if any).\\n\", get_docs=<function load_cached_docs at 0x1066098a0>, retriever_factories={'basic': <function _chroma_retriever_factory at 0x1266289a0>, 'parent-doc': <function _chroma_parent_document_retriever_factory at 0x126628a40>, 'hyde': <function _chroma_hyde_retriever_factory at 0x126628ae0>}, architecture_factories={'conversational-retrieval-qa': <function default_response_chain at 0x10fea2660>}), RetrievalTask(name='Semi-structured Reports', dataset_id='https://smith.langchain.com/public/c47d9617-ab99-4d6e-a6e6-92b8daf85a7d/d', description=\"Questions and answers based on PDFs containing tables and charts.\\n\\nThe task provides the raw documents as well as factory methods to easily index them\\nand create a retriever.\\n\\nEach example is composed of a question and reference answer.\\n\\nSuccess is measured based on the accuracy of the answer relative to the reference answer.\\nWe also measure the faithfulness of the model's response relative to the retrieved documents (if any).\\n\", get_docs=<function load_docs at 0x126629620>, retriever_factories={'basic': <function _chroma_retriever_factory at 0x1266296c0>, 'parent-doc': <function _chroma_parent_document_retriever_factory at 0x126629760>, 'hyde': <function _chroma_hyde_retriever_factory at 0x126629800>}, architecture_factories={}), RetrievalTask(name='Multi-modal slide decks', dataset_id='https://smith.langchain.com/public/40afc8e7-9d7e-44ed-8971-2cae1eb59731/d', description='This public dataset is a work-in-progress and will be extended over time.\\n        \\nQuestions and answers based on slide decks containing visual tables and charts.\\n\\nEach example is composed of a question and reference answer.\\n\\nSuccess is measured based on the accuracy of the answer relative to the reference answer.\\n', get_docs={}, retriever_factories={}, architecture_factories={})])"
      ]
     },
     "execution_count": 1,
     "metadata": {},
     "output_type": "execute_result"
    }
   ],
   "source": [
    "from langchain_benchmarks import clone_public_dataset, registry\n",
    "\n",
    "registry = registry.filter(Type=\"RetrievalTask\")\n",
    "registry"
   ]
  },
  {
   "cell_type": "markdown",
   "id": "f532a368-ed9b-4c4f-8a06-87a56ea547fa",
   "metadata": {},
   "source": [
    "`Multi-modal slide decks` is the relevant dataset for our task."
   ]
  },
  {
   "cell_type": "code",
   "execution_count": 3,
   "id": "02ba8543-2c77-4b92-ae32-651b1699d0df",
   "metadata": {
    "tags": []
   },
   "outputs": [
    {
     "data": {
      "text/html": [
       "<table>\n",
       "<tbody>\n",
       "<tr><td>Name                  </td><td>Multi-modal slide decks                                                                                                                                    </td></tr>\n",
       "<tr><td>Type                  </td><td>RetrievalTask                                                                                                                                              </td></tr>\n",
       "<tr><td>Dataset ID            </td><td><a href=\"https://smith.langchain.com/public/40afc8e7-9d7e-44ed-8971-2cae1eb59731/d\" target=\"_blank\" rel=\"noopener\">40afc8e7-9d7e-44ed-8971-2cae1eb59731</a></td></tr>\n",
       "<tr><td>Description           </td><td>This public dataset is a work-in-progress and will be extended over time.\n",
       "        \n",
       "Questions and answers based on slide decks containing visual tables and charts.\n",
       "\n",
       "Each example is composed of a question and reference answer.\n",
       "\n",
       "Success is measured based on the accuracy of the answer relative to the reference answer.                                                                                                                                                            </td></tr>\n",
       "<tr><td>Retriever Factories   </td><td>                                                                                                                                                           </td></tr>\n",
       "<tr><td>Architecture Factories</td><td>                                                                                                                                                           </td></tr>\n",
       "<tr><td>get_docs              </td><td>{}                                                                                                                                                         </td></tr>\n",
       "</tbody>\n",
       "</table>"
      ],
      "text/plain": [
       "RetrievalTask(name='Multi-modal slide decks', dataset_id='https://smith.langchain.com/public/40afc8e7-9d7e-44ed-8971-2cae1eb59731/d', description='This public dataset is a work-in-progress and will be extended over time.\\n        \\nQuestions and answers based on slide decks containing visual tables and charts.\\n\\nEach example is composed of a question and reference answer.\\n\\nSuccess is measured based on the accuracy of the answer relative to the reference answer.\\n', get_docs={}, retriever_factories={}, architecture_factories={})"
      ]
     },
     "execution_count": 3,
     "metadata": {},
     "output_type": "execute_result"
    }
   ],
   "source": [
    "task = registry[\"Multi-modal slide decks\"]\n",
    "task"
   ]
  },
  {
   "cell_type": "markdown",
   "id": "563c4276-448e-4090-8b6c-56ea3fefbed2",
   "metadata": {},
   "source": [
    "Clone the dataset so that it's available in our LangSmith datasets."
   ]
  },
  {
   "cell_type": "code",
   "execution_count": 4,
   "id": "a3ea657a-754c-4cf6-a7a6-c4633d78cb1e",
   "metadata": {
    "tags": []
   },
   "outputs": [
    {
     "data": {
      "application/vnd.jupyter.widget-view+json": {
       "model_id": "43da988af2244ede808ad5e8212f8350",
       "version_major": 2,
       "version_minor": 0
      },
      "text/plain": [
       "  0%|          | 0/10 [00:00<?, ?it/s]"
      ]
     },
     "metadata": {},
     "output_type": "display_data"
    },
    {
     "name": "stdout",
     "output_type": "stream",
     "text": [
      "Finished fetching examples. Creating dataset...\n",
      "New dataset created you can access it at https://smith.langchain.com/o/ebbaf2eb-769b-4505-aca2-d11de10372a4/datasets/08a29acb-5ad6-42ce-a482-574c9e2e5306.\n",
      "Done creating dataset.\n"
     ]
    }
   ],
   "source": [
    "clone_public_dataset(task.dataset_id, dataset_name=task.name)"
   ]
  },
  {
   "cell_type": "markdown",
   "id": "14116e9c-f765-4afa-a918-1865562895cc",
   "metadata": {},
   "source": [
    "Fetch the associated PDFs from remote cache for the dataset so that we can perform ingestion."
   ]
  },
  {
   "cell_type": "code",
   "execution_count": 5,
   "id": "f0d56161-3672-4c23-9653-deefb3e340a2",
   "metadata": {
    "tags": []
   },
   "outputs": [],
   "source": [
    "from langchain_benchmarks.rag.tasks.multi_modal_slide_decks import get_file_names\n",
    "\n",
    "file_names = list(get_file_names())  # PosixPath"
   ]
  },
  {
   "cell_type": "markdown",
   "id": "b0ddce4b-f94e-42d8-9648-d627508ae476",
   "metadata": {},
   "source": [
    "## Load\n",
    "\n",
    "For each presentation, extract an image for each slide."
   ]
  },
  {
   "cell_type": "code",
   "execution_count": 6,
   "id": "119c6cb3-71e0-414e-b8ae-275c6b07cbef",
   "metadata": {
    "tags": []
   },
   "outputs": [
    {
     "name": "stdout",
     "output_type": "stream",
     "text": [
      "Extracting 30 images for DDOG_Q3_earnings_deck.pdf\n"
     ]
    }
   ],
   "source": [
    "import os\n",
    "from pathlib import Path\n",
    "\n",
    "import pypdfium2 as pdfium\n",
    "\n",
    "\n",
    "def get_images(file):\n",
    "    \"\"\"\n",
    "    Get PIL images from PDF pages and save them to a specified directory\n",
    "    :param file: Path to file\n",
    "    :return: A list of PIL images\n",
    "    \"\"\"\n",
    "\n",
    "    # Get presentation\n",
    "    pdf = pdfium.PdfDocument(file)\n",
    "    n_pages = len(pdf)\n",
    "\n",
    "    # Extracting file name and creating the directory for images\n",
    "    file_name = Path(file).stem  # Gets the file name without extension\n",
    "    img_dir = os.path.join(Path(file).parent, \"img\")\n",
    "    os.makedirs(img_dir, exist_ok=True)\n",
    "\n",
    "    # Get images\n",
    "    pil_images = []\n",
    "    print(f\"Extracting {n_pages} images for {file.name}\")\n",
    "    for page_number in range(n_pages):\n",
    "        page = pdf.get_page(page_number)\n",
    "        bitmap = page.render(scale=1, rotation=0, crop=(0, 0, 0, 0))\n",
    "        pil_image = bitmap.to_pil()\n",
    "        pil_images.append(pil_image)\n",
    "\n",
    "        # Saving the image with the specified naming convention\n",
    "        image_path = os.path.join(img_dir, f\"{file_name}_image_{page_number + 1}.jpg\")\n",
    "        pil_image.save(image_path, format=\"JPEG\")\n",
    "\n",
    "    return pil_images\n",
    "\n",
    "\n",
    "images = []\n",
    "for fi in file_names:\n",
    "    images.extend(get_images(fi))"
   ]
  },
  {
   "cell_type": "markdown",
   "id": "f9ce4a16-89de-49f1-a6c6-24f0c14d607b",
   "metadata": {},
   "source": [
    "Now, we convert each PIL image to a Base64 encoded string and set the image size.\n",
    "\n",
    "Base64 encoded string can be input to GPT-4V."
   ]
  },
  {
   "cell_type": "code",
   "execution_count": 7,
   "id": "a28a9c74-835a-43b2-be25-fc26f1daca0f",
   "metadata": {
    "tags": []
   },
   "outputs": [],
   "source": [
    "import base64\n",
    "import io\n",
    "from io import BytesIO\n",
    "\n",
    "from PIL import Image\n",
    "\n",
    "\n",
    "def resize_base64_image(base64_string, size=(128, 128)):\n",
    "    \"\"\"\n",
    "    Resize an image encoded as a Base64 string\n",
    "\n",
    "    :param base64_string: Base64 string\n",
    "    :param size: Image size\n",
    "    :return: Re-sized Base64 string\n",
    "    \"\"\"\n",
    "    # Decode the Base64 string\n",
    "    img_data = base64.b64decode(base64_string)\n",
    "    img = Image.open(io.BytesIO(img_data))\n",
    "\n",
    "    # Resize the image\n",
    "    resized_img = img.resize(size, Image.LANCZOS)\n",
    "\n",
    "    # Save the resized image to a bytes buffer\n",
    "    buffered = io.BytesIO()\n",
    "    resized_img.save(buffered, format=img.format)\n",
    "\n",
    "    # Encode the resized image to Base64\n",
    "    return base64.b64encode(buffered.getvalue()).decode(\"utf-8\")\n",
    "\n",
    "\n",
    "def convert_to_base64(pil_image):\n",
    "    \"\"\"\n",
    "    Convert PIL images to Base64 encoded strings\n",
    "\n",
    "    :param pil_image: PIL image\n",
    "    :return: Re-sized Base64 string\n",
    "    \"\"\"\n",
    "\n",
    "    buffered = BytesIO()\n",
    "    pil_image.save(buffered, format=\"JPEG\")  # You can change the format if needed\n",
    "    img_str = base64.b64encode(buffered.getvalue()).decode(\"utf-8\")\n",
    "    img_str = resize_base64_image(img_str, size=(960, 540))\n",
    "    return img_str\n",
    "\n",
    "\n",
    "images_base_64 = [convert_to_base64(i) for i in images]"
   ]
  },
  {
   "cell_type": "markdown",
   "id": "93638ca6-62f6-419c-bf66-e6ff474dd73a",
   "metadata": {},
   "source": [
    "If desired, we can plot the images to confirm that they were extracted correctly."
   ]
  },
  {
   "cell_type": "code",
   "execution_count": 8,
   "id": "19002dee-e52a-4887-a461-626ec97e96e6",
   "metadata": {
    "tags": []
   },
   "outputs": [
    {
     "data": {
      "text/html": [
       "<img src=\"data:image/jpeg;base64,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\" />"
      ],
      "text/plain": [
       "<IPython.core.display.HTML object>"
      ]
     },
     "metadata": {},
     "output_type": "display_data"
    }
   ],
   "source": [
    "from IPython.display import HTML, display\n",
    "\n",
    "\n",
    "def plt_img_base64(img_base64):\n",
    "    \"\"\"\n",
    "    Disply base64 encoded string as image\n",
    "\n",
    "    :param img_base64:  Base64 string\n",
    "    \"\"\"\n",
    "    # Create an HTML img tag with the base64 string as the source\n",
    "    image_html = f'<img src=\"data:image/jpeg;base64,{img_base64}\" />'\n",
    "    # Display the image by rendering the HTML\n",
    "    display(HTML(image_html))\n",
    "\n",
    "\n",
    "i = 10\n",
    "plt_img_base64(images_base_64[i])"
   ]
  },
  {
   "cell_type": "markdown",
   "id": "7f8eacc2-fda4-4118-8c3e-99ae6201ef31",
   "metadata": {},
   "source": [
    "## Index\n",
    "\n",
    "We will test two approaches.\n",
    "\n",
    "### Option 1: Vectorstore with multimodal embeddings\n",
    "\n",
    "Here we will use [OpenCLIP multimodal embeddings](https://github.com/mlfoundations/open_clip).\n",
    "\n",
    "There are [many to choose from](https://github.com/mlfoundations/open_clip/blob/main/docs/openclip_results.csv).\n",
    "\n",
    "By default, it will use `model_name=\"ViT-H-14\", checkpoint=\"laion2b_s32b_b79k\"`.\n",
    "\n",
    "This model favorably balances memory and performance.\n",
    "\n",
    "However, you can test different models by passing them to OpenCLIPEmbeddings as `model_name=, checkpoint=`."
   ]
  },
  {
   "cell_type": "code",
   "execution_count": 9,
   "id": "288a3818-b7f2-430c-b624-0c7d5317dc52",
   "metadata": {
    "tags": []
   },
   "outputs": [],
   "source": [
    "from langchain.vectorstores import Chroma\n",
    "from langchain_experimental.open_clip import OpenCLIPEmbeddings\n",
    "\n",
    "# Make vectorstore\n",
    "vectorstore_mmembd = Chroma(\n",
    "    collection_name=\"multi-modal-rag\",\n",
    "    embedding_function=OpenCLIPEmbeddings(),\n",
    ")\n",
    "\n",
    "# Read images we extracted above\n",
    "img_dir = os.path.join(Path(file_names[0]).parent, \"img\")\n",
    "image_uris = sorted(\n",
    "    [\n",
    "        os.path.join(img_dir, image_name)\n",
    "        for image_name in os.listdir(img_dir)\n",
    "        if image_name.endswith(\".jpg\")\n",
    "    ]\n",
    ")\n",
    "\n",
    "# Add images\n",
    "vectorstore_mmembd.add_images(uris=image_uris)\n",
    "\n",
    "# Make retriever\n",
    "retriever_mmembd = vectorstore_mmembd.as_retriever()"
   ]
  },
  {
   "cell_type": "markdown",
   "id": "98c29e5a-19d0-4960-8755-9054b091726f",
   "metadata": {},
   "source": [
    "### Option 2: Multi-vector retriever\n",
    "\n",
    "This approach will generate and index image summaries. See detail [here](https://blog.langchain.dev/semi-structured-multi-modal-rag/).\n",
    "\n",
    "It will then retrieve the raw image to pass to GPT-4V for final synthesis.\n",
    "\n",
    "The idea is that retrieval on image summaries:\n",
    "\n",
    "* Does not rely on multi-modal embeddings\n",
    "* Can perform better at retrieval of visually / semantically similar, but quantitatively different slide content\n",
    "\n",
    "Note: there OpenAI's GPT-4V API can experince [non-deterministic](https://community.openai.com/t/400-errors-on-gpt-vision-api-since-today/534538/16) `BadRequestError`, which we handle. Hopefully this is resolved soon."
   ]
  },
  {
   "cell_type": "code",
   "execution_count": 10,
   "id": "72dca949-a255-4543-a290-f898ffb50962",
   "metadata": {
    "tags": []
   },
   "outputs": [],
   "source": [
    "from langchain.chat_models import ChatOpenAI\n",
    "from langchain.schema.messages import HumanMessage\n",
    "\n",
    "\n",
    "def image_summarize(img_base64, prompt):\n",
    "    \"\"\"\n",
    "    Make image summary\n",
    "\n",
    "    :param img_base64: Base64 encoded string for image\n",
    "    :param prompt: Text prompt for summarizatiomn\n",
    "    :return: Image summarization prompt\n",
    "\n",
    "    \"\"\"\n",
    "    chat = ChatOpenAI(model=\"gpt-4-vision-preview\", max_tokens=1024)\n",
    "\n",
    "    msg = chat.invoke(\n",
    "        [\n",
    "            HumanMessage(\n",
    "                content=[\n",
    "                    {\"type\": \"text\", \"text\": prompt},\n",
    "                    {\n",
    "                        \"type\": \"image_url\",\n",
    "                        \"image_url\": {\"url\": f\"data:image/jpeg;base64,{img_base64}\"},\n",
    "                    },\n",
    "                ]\n",
    "            )\n",
    "        ]\n",
    "    )\n",
    "    return msg.content\n",
    "\n",
    "\n",
    "def generate_img_summaries(img_base64_list):\n",
    "    \"\"\"\n",
    "    Generate summaries for images\n",
    "\n",
    "    :param img_base64_list: Base64 encoded images\n",
    "    :return: List of image summaries and processed images\n",
    "    \"\"\"\n",
    "\n",
    "    # Store image summaries\n",
    "    image_summaries = []\n",
    "    processed_images = []\n",
    "\n",
    "    # Prompt\n",
    "    prompt = \"\"\"You are an assistant tasked with summarizing images for retrieval. \\\n",
    "    These summaries will be embedded and used to retrieve the raw image. \\\n",
    "    Give a concise summary of the image that is well optimized for retrieval.\"\"\"\n",
    "\n",
    "    # Apply summarization to images\n",
    "    for i, base64_image in enumerate(img_base64_list):\n",
    "        try:\n",
    "            image_summaries.append(image_summarize(base64_image, prompt))\n",
    "            processed_images.append(base64_image)\n",
    "        except:\n",
    "            print(f\"BadRequestError with image {i+1}\")\n",
    "\n",
    "    return image_summaries, processed_images\n",
    "\n",
    "\n",
    "# Image summaries\n",
    "image_summaries, images_base_64_processed = generate_img_summaries(images_base_64)"
   ]
  },
  {
   "cell_type": "markdown",
   "id": "81ae20ca-71d3-4644-993a-ebec14b1f762",
   "metadata": {},
   "source": [
    "Add raw docs and doc summaries to [Multi Vector Retriever](https://python.langchain.com/docs/modules/data_connection/retrievers/multi_vector#summary): \n",
    "\n",
    "* Store the raw images in the `docstore`.\n",
    "* Store the image summaries in the `vectorstore` for semantic retrieval."
   ]
  },
  {
   "cell_type": "code",
   "execution_count": 11,
   "id": "9d5dc727-7057-4962-91e1-dd99bf78ef07",
   "metadata": {
    "tags": []
   },
   "outputs": [],
   "source": [
    "import uuid\n",
    "\n",
    "from langchain.embeddings import OpenAIEmbeddings\n",
    "from langchain.retrievers.multi_vector import MultiVectorRetriever\n",
    "from langchain.schema.document import Document\n",
    "from langchain.schema.output_parser import StrOutputParser\n",
    "from langchain.storage import InMemoryStore\n",
    "\n",
    "\n",
    "def create_multi_vector_retriever(vectorstore, image_summaries, images):\n",
    "    \"\"\"\n",
    "    Create retriever that indexes summaries, but returns raw images or texts\n",
    "\n",
    "    :param vectorstore: Vectorstore to store embedded image sumamries\n",
    "    :param image_summaries: Image summaries\n",
    "    :param images: Base64 encoded images\n",
    "    :return: Retriever\n",
    "    \"\"\"\n",
    "\n",
    "    # Initialize the storage layer\n",
    "    store = InMemoryStore()\n",
    "    id_key = \"doc_id\"\n",
    "\n",
    "    # Create the multi-vector retriever\n",
    "    retriever = MultiVectorRetriever(\n",
    "        vectorstore=vectorstore,\n",
    "        docstore=store,\n",
    "        id_key=id_key,\n",
    "    )\n",
    "\n",
    "    # Helper function to add documents to the vectorstore and docstore\n",
    "    def add_documents(retriever, doc_summaries, doc_contents):\n",
    "        doc_ids = [str(uuid.uuid4()) for _ in doc_contents]\n",
    "        summary_docs = [\n",
    "            Document(page_content=s, metadata={id_key: doc_ids[i]})\n",
    "            for i, s in enumerate(doc_summaries)\n",
    "        ]\n",
    "        retriever.vectorstore.add_documents(summary_docs)\n",
    "        retriever.docstore.mset(list(zip(doc_ids, doc_contents)))\n",
    "\n",
    "    add_documents(retriever, image_summaries, images)\n",
    "\n",
    "    return retriever\n",
    "\n",
    "\n",
    "# The vectorstore to use to index the summaries\n",
    "vectorstore_mvr = Chroma(\n",
    "    collection_name=\"multi-modal-rag-mv\", embedding_function=OpenAIEmbeddings()\n",
    ")\n",
    "\n",
    "# Create retriever\n",
    "retriever_multi_vector_img = create_multi_vector_retriever(\n",
    "    vectorstore_mvr,\n",
    "    image_summaries,\n",
    "    images_base_64_processed,\n",
    ")"
   ]
  },
  {
   "cell_type": "markdown",
   "id": "47c44a67-8639-4a30-b659-5957df89c5d6",
   "metadata": {},
   "source": [
    "## RAG\n",
    "\n",
    "Create a pipeline for retrieval of relevant images based on semantic similarity to the input question.\n",
    "\n",
    "Pass the images to GPT-4V for answer synthesis."
   ]
  },
  {
   "cell_type": "code",
   "execution_count": 12,
   "id": "b032d4e0-63d5-4e7f-bafc-e0550b5c2db0",
   "metadata": {
    "tags": []
   },
   "outputs": [],
   "source": [
    "from langchain.schema.runnable import RunnableLambda, RunnablePassthrough\n",
    "\n",
    "\n",
    "def prepare_images(docs):\n",
    "    \"\"\"\n",
    "    Prepare iamges for prompt\n",
    "\n",
    "    :param docs: A list of base64-encoded images from retriever.\n",
    "    :return: Dict containing a list of base64-encoded strings.\n",
    "    \"\"\"\n",
    "    b64_images = []\n",
    "    for doc in docs:\n",
    "        if isinstance(doc, Document):\n",
    "            doc = doc.page_content\n",
    "        b64_images.append(doc)\n",
    "    return {\"images\": b64_images}\n",
    "\n",
    "\n",
    "def img_prompt_func(data_dict, num_images=2):\n",
    "    \"\"\"\n",
    "    GPT-4V prompt for image analysis.\n",
    "\n",
    "    :param data_dict: A dict with images and a user-provided question.\n",
    "    :param num_images: Number of images to include in the prompt.\n",
    "    :return: A list containing message objects for each image and the text prompt.\n",
    "    \"\"\"\n",
    "    messages = []\n",
    "    if data_dict[\"context\"][\"images\"]:\n",
    "        for image in data_dict[\"context\"][\"images\"][:num_images]:\n",
    "            image_message = {\n",
    "                \"type\": \"image_url\",\n",
    "                \"image_url\": {\"url\": f\"data:image/jpeg;base64,{image}\"},\n",
    "            }\n",
    "            messages.append(image_message)\n",
    "    text_message = {\n",
    "        \"type\": \"text\",\n",
    "        \"text\": (\n",
    "            \"You are an analyst tasked with answering questions about visual content.\\n\"\n",
    "            \"You will be give a set of image(s) from a slide deck / presentation.\\n\"\n",
    "            \"Use this information to answer the user question. \\n\"\n",
    "            f\"User-provided question: {data_dict['question']}\\n\\n\"\n",
    "        ),\n",
    "    }\n",
    "    messages.append(text_message)\n",
    "    return [HumanMessage(content=messages)]\n",
    "\n",
    "\n",
    "def multi_modal_rag_chain(retriever):\n",
    "    \"\"\"\n",
    "    Multi-modal RAG chain\n",
    "    \"\"\"\n",
    "\n",
    "    # Multi-modal LLM\n",
    "    model = ChatOpenAI(temperature=0, model=\"gpt-4-vision-preview\", max_tokens=1024)\n",
    "\n",
    "    # RAG pipeline\n",
    "    chain = (\n",
    "        {\n",
    "            \"context\": retriever | RunnableLambda(prepare_images),\n",
    "            \"question\": RunnablePassthrough(),\n",
    "        }\n",
    "        | RunnableLambda(img_prompt_func)\n",
    "        | model\n",
    "        | StrOutputParser()\n",
    "    )\n",
    "\n",
    "    return chain\n",
    "\n",
    "\n",
    "# Create RAG chain\n",
    "chain_multimodal_rag = multi_modal_rag_chain(retriever_multi_vector_img)\n",
    "chain_multimodal_rag_mmembd = multi_modal_rag_chain(retriever_mmembd)"
   ]
  },
  {
   "cell_type": "markdown",
   "id": "f7c5f379-317c-4a2e-9190-61f6dfbbc77d",
   "metadata": {},
   "source": [
    "## Eval\n",
    "\n",
    "Run evaluation on our dataset:\n",
    "\n",
    "* `task.name` is the dataset of QA pairs that we cloned\n",
    "* `eval_config` specifies the [LangSmith evaluator](https://docs.smith.langchain.com/evaluation/evaluator-implementations#correctness-qa-evaluation) for our dataset, which will use GPT-4 as a grader\n",
    "* The grader will evaluate the chain-generated answer to each question relative to ground truth"
   ]
  },
  {
   "cell_type": "code",
   "execution_count": 13,
   "id": "424f62cb-3dcd-4403-aa29-6f7497836439",
   "metadata": {
    "tags": []
   },
   "outputs": [
    {
     "name": "stdout",
     "output_type": "stream",
     "text": [
      "View the evaluation results for project 'multi_modal_mvretriever_gpt4v-f6f7' at:\n",
      "https://smith.langchain.com/o/ebbaf2eb-769b-4505-aca2-d11de10372a4/datasets/08a29acb-5ad6-42ce-a482-574c9e2e5306/compare?selectedSessions=15dd3901-382c-4f0f-8433-077963fc4bb7\n",
      "\n",
      "View all tests for Dataset Multi-modal slide decks at:\n",
      "https://smith.langchain.com/o/ebbaf2eb-769b-4505-aca2-d11de10372a4/datasets/08a29acb-5ad6-42ce-a482-574c9e2e5306\n",
      "[------------------------------------------------->] 10/10"
     ]
    },
    {
     "data": {
      "text/html": [
       "<h3>Experiment Results:</h3>"
      ],
      "text/plain": [
       "<IPython.core.display.HTML object>"
      ]
     },
     "metadata": {},
     "output_type": "display_data"
    },
    {
     "data": {
      "text/html": [
       "<div>\n",
       "<style scoped>\n",
       "    .dataframe tbody tr th:only-of-type {\n",
       "        vertical-align: middle;\n",
       "    }\n",
       "\n",
       "    .dataframe tbody tr th {\n",
       "        vertical-align: top;\n",
       "    }\n",
       "\n",
       "    .dataframe thead th {\n",
       "        text-align: right;\n",
       "    }\n",
       "</style>\n",
       "<table border=\"1\" class=\"dataframe\">\n",
       "  <thead>\n",
       "    <tr style=\"text-align: right;\">\n",
       "      <th></th>\n",
       "      <th>output</th>\n",
       "      <th>feedback.COT Contextual Accuracy</th>\n",
       "      <th>error</th>\n",
       "      <th>execution_time</th>\n",
       "    </tr>\n",
       "  </thead>\n",
       "  <tbody>\n",
       "    <tr>\n",
       "      <th>count</th>\n",
       "      <td>10</td>\n",
       "      <td>10.0</td>\n",
       "      <td>0</td>\n",
       "      <td>10.000000</td>\n",
       "    </tr>\n",
       "    <tr>\n",
       "      <th>unique</th>\n",
       "      <td>10</td>\n",
       "      <td>NaN</td>\n",
       "      <td>0</td>\n",
       "      <td>NaN</td>\n",
       "    </tr>\n",
       "    <tr>\n",
       "      <th>top</th>\n",
       "      <td>As of the third quarter of 2023 (Q3 2023), Dat...</td>\n",
       "      <td>NaN</td>\n",
       "      <td>NaN</td>\n",
       "      <td>NaN</td>\n",
       "    </tr>\n",
       "    <tr>\n",
       "      <th>freq</th>\n",
       "      <td>1</td>\n",
       "      <td>NaN</td>\n",
       "      <td>NaN</td>\n",
       "      <td>NaN</td>\n",
       "    </tr>\n",
       "    <tr>\n",
       "      <th>mean</th>\n",
       "      <td>NaN</td>\n",
       "      <td>1.0</td>\n",
       "      <td>NaN</td>\n",
       "      <td>13.430077</td>\n",
       "    </tr>\n",
       "    <tr>\n",
       "      <th>std</th>\n",
       "      <td>NaN</td>\n",
       "      <td>0.0</td>\n",
       "      <td>NaN</td>\n",
       "      <td>3.656360</td>\n",
       "    </tr>\n",
       "    <tr>\n",
       "      <th>min</th>\n",
       "      <td>NaN</td>\n",
       "      <td>1.0</td>\n",
       "      <td>NaN</td>\n",
       "      <td>10.319160</td>\n",
       "    </tr>\n",
       "    <tr>\n",
       "      <th>25%</th>\n",
       "      <td>NaN</td>\n",
       "      <td>1.0</td>\n",
       "      <td>NaN</td>\n",
       "      <td>10.809424</td>\n",
       "    </tr>\n",
       "    <tr>\n",
       "      <th>50%</th>\n",
       "      <td>NaN</td>\n",
       "      <td>1.0</td>\n",
       "      <td>NaN</td>\n",
       "      <td>11.675873</td>\n",
       "    </tr>\n",
       "    <tr>\n",
       "      <th>75%</th>\n",
       "      <td>NaN</td>\n",
       "      <td>1.0</td>\n",
       "      <td>NaN</td>\n",
       "      <td>15.971083</td>\n",
       "    </tr>\n",
       "    <tr>\n",
       "      <th>max</th>\n",
       "      <td>NaN</td>\n",
       "      <td>1.0</td>\n",
       "      <td>NaN</td>\n",
       "      <td>20.940341</td>\n",
       "    </tr>\n",
       "  </tbody>\n",
       "</table>\n",
       "</div>"
      ],
      "text/plain": [
       "                                                   output  \\\n",
       "count                                                  10   \n",
       "unique                                                 10   \n",
       "top     As of the third quarter of 2023 (Q3 2023), Dat...   \n",
       "freq                                                    1   \n",
       "mean                                                  NaN   \n",
       "std                                                   NaN   \n",
       "min                                                   NaN   \n",
       "25%                                                   NaN   \n",
       "50%                                                   NaN   \n",
       "75%                                                   NaN   \n",
       "max                                                   NaN   \n",
       "\n",
       "        feedback.COT Contextual Accuracy error  execution_time  \n",
       "count                               10.0     0       10.000000  \n",
       "unique                               NaN     0             NaN  \n",
       "top                                  NaN   NaN             NaN  \n",
       "freq                                 NaN   NaN             NaN  \n",
       "mean                                 1.0   NaN       13.430077  \n",
       "std                                  0.0   NaN        3.656360  \n",
       "min                                  1.0   NaN       10.319160  \n",
       "25%                                  1.0   NaN       10.809424  \n",
       "50%                                  1.0   NaN       11.675873  \n",
       "75%                                  1.0   NaN       15.971083  \n",
       "max                                  1.0   NaN       20.940341  "
      ]
     },
     "metadata": {},
     "output_type": "display_data"
    },
    {
     "name": "stdout",
     "output_type": "stream",
     "text": [
      "View the evaluation results for project 'multi_modal_mmembd_gpt4v-f6f7' at:\n",
      "https://smith.langchain.com/o/ebbaf2eb-769b-4505-aca2-d11de10372a4/datasets/08a29acb-5ad6-42ce-a482-574c9e2e5306/compare?selectedSessions=ed6255b4-23b5-45ee-82f7-bcf6744c3f8e\n",
      "\n",
      "View all tests for Dataset Multi-modal slide decks at:\n",
      "https://smith.langchain.com/o/ebbaf2eb-769b-4505-aca2-d11de10372a4/datasets/08a29acb-5ad6-42ce-a482-574c9e2e5306\n",
      "[------------------------------------------------->] 10/10"
     ]
    },
    {
     "data": {
      "text/html": [
       "<h3>Experiment Results:</h3>"
      ],
      "text/plain": [
       "<IPython.core.display.HTML object>"
      ]
     },
     "metadata": {},
     "output_type": "display_data"
    },
    {
     "data": {
      "text/html": [
       "<div>\n",
       "<style scoped>\n",
       "    .dataframe tbody tr th:only-of-type {\n",
       "        vertical-align: middle;\n",
       "    }\n",
       "\n",
       "    .dataframe tbody tr th {\n",
       "        vertical-align: top;\n",
       "    }\n",
       "\n",
       "    .dataframe thead th {\n",
       "        text-align: right;\n",
       "    }\n",
       "</style>\n",
       "<table border=\"1\" class=\"dataframe\">\n",
       "  <thead>\n",
       "    <tr style=\"text-align: right;\">\n",
       "      <th></th>\n",
       "      <th>output</th>\n",
       "      <th>feedback.COT Contextual Accuracy</th>\n",
       "      <th>error</th>\n",
       "      <th>execution_time</th>\n",
       "    </tr>\n",
       "  </thead>\n",
       "  <tbody>\n",
       "    <tr>\n",
       "      <th>count</th>\n",
       "      <td>10</td>\n",
       "      <td>10.000000</td>\n",
       "      <td>0</td>\n",
       "      <td>10.000000</td>\n",
       "    </tr>\n",
       "    <tr>\n",
       "      <th>unique</th>\n",
       "      <td>10</td>\n",
       "      <td>NaN</td>\n",
       "      <td>0</td>\n",
       "      <td>NaN</td>\n",
       "    </tr>\n",
       "    <tr>\n",
       "      <th>top</th>\n",
       "      <td>The images provided do not contain information...</td>\n",
       "      <td>NaN</td>\n",
       "      <td>NaN</td>\n",
       "      <td>NaN</td>\n",
       "    </tr>\n",
       "    <tr>\n",
       "      <th>freq</th>\n",
       "      <td>1</td>\n",
       "      <td>NaN</td>\n",
       "      <td>NaN</td>\n",
       "      <td>NaN</td>\n",
       "    </tr>\n",
       "    <tr>\n",
       "      <th>mean</th>\n",
       "      <td>NaN</td>\n",
       "      <td>0.500000</td>\n",
       "      <td>NaN</td>\n",
       "      <td>15.596197</td>\n",
       "    </tr>\n",
       "    <tr>\n",
       "      <th>std</th>\n",
       "      <td>NaN</td>\n",
       "      <td>0.527046</td>\n",
       "      <td>NaN</td>\n",
       "      <td>2.716853</td>\n",
       "    </tr>\n",
       "    <tr>\n",
       "      <th>min</th>\n",
       "      <td>NaN</td>\n",
       "      <td>0.000000</td>\n",
       "      <td>NaN</td>\n",
       "      <td>11.661625</td>\n",
       "    </tr>\n",
       "    <tr>\n",
       "      <th>25%</th>\n",
       "      <td>NaN</td>\n",
       "      <td>0.000000</td>\n",
       "      <td>NaN</td>\n",
       "      <td>12.941465</td>\n",
       "    </tr>\n",
       "    <tr>\n",
       "      <th>50%</th>\n",
       "      <td>NaN</td>\n",
       "      <td>0.500000</td>\n",
       "      <td>NaN</td>\n",
       "      <td>16.246343</td>\n",
       "    </tr>\n",
       "    <tr>\n",
       "      <th>75%</th>\n",
       "      <td>NaN</td>\n",
       "      <td>1.000000</td>\n",
       "      <td>NaN</td>\n",
       "      <td>17.723280</td>\n",
       "    </tr>\n",
       "    <tr>\n",
       "      <th>max</th>\n",
       "      <td>NaN</td>\n",
       "      <td>1.000000</td>\n",
       "      <td>NaN</td>\n",
       "      <td>18.488639</td>\n",
       "    </tr>\n",
       "  </tbody>\n",
       "</table>\n",
       "</div>"
      ],
      "text/plain": [
       "                                                   output  \\\n",
       "count                                                  10   \n",
       "unique                                                 10   \n",
       "top     The images provided do not contain information...   \n",
       "freq                                                    1   \n",
       "mean                                                  NaN   \n",
       "std                                                   NaN   \n",
       "min                                                   NaN   \n",
       "25%                                                   NaN   \n",
       "50%                                                   NaN   \n",
       "75%                                                   NaN   \n",
       "max                                                   NaN   \n",
       "\n",
       "        feedback.COT Contextual Accuracy error  execution_time  \n",
       "count                          10.000000     0       10.000000  \n",
       "unique                               NaN     0             NaN  \n",
       "top                                  NaN   NaN             NaN  \n",
       "freq                                 NaN   NaN             NaN  \n",
       "mean                            0.500000   NaN       15.596197  \n",
       "std                             0.527046   NaN        2.716853  \n",
       "min                             0.000000   NaN       11.661625  \n",
       "25%                             0.000000   NaN       12.941465  \n",
       "50%                             0.500000   NaN       16.246343  \n",
       "75%                             1.000000   NaN       17.723280  \n",
       "max                             1.000000   NaN       18.488639  "
      ]
     },
     "metadata": {},
     "output_type": "display_data"
    }
   ],
   "source": [
    "import uuid\n",
    "\n",
    "from langchain.smith import RunEvalConfig\n",
    "from langsmith.client import Client\n",
    "\n",
    "# Evaluator configuration\n",
    "client = Client()\n",
    "eval_config = RunEvalConfig(\n",
    "    evaluators=[\"cot_qa\"],\n",
    ")\n",
    "\n",
    "# Experiments\n",
    "chain_map = {\n",
    "    \"multi_modal_mvretriever_gpt4v\": chain_multimodal_rag,\n",
    "    \"multi_modal_mmembd_gpt4v\": chain_multimodal_rag_mmembd,\n",
    "}\n",
    "\n",
    "# Run evaluation\n",
    "run_id = uuid.uuid4().hex[:4]\n",
    "test_runs = {}\n",
    "for project_name, chain in chain_map.items():\n",
    "    test_runs[project_name] = client.run_on_dataset(\n",
    "        dataset_name=task.name,\n",
    "        llm_or_chain_factory=lambda: (lambda x: x[\"Question\"]) | chain,\n",
    "        evaluation=eval_config,\n",
    "        verbose=True,\n",
    "        project_name=f\"{project_name}-{run_id}\",\n",
    "        project_metadata={\"chain\": project_name},\n",
    "    )"
   ]
  }
 ],
 "metadata": {
  "kernelspec": {
   "display_name": "Python 3 (ipykernel)",
   "language": "python",
   "name": "python3"
  },
  "language_info": {
   "codemirror_mode": {
    "name": "ipython",
    "version": 3
   },
   "file_extension": ".py",
   "mimetype": "text/x-python",
   "name": "python",
   "nbconvert_exporter": "python",
   "pygments_lexer": "ipython3",
   "version": "3.9.16"
  }
 },
 "nbformat": 4,
 "nbformat_minor": 5
}
