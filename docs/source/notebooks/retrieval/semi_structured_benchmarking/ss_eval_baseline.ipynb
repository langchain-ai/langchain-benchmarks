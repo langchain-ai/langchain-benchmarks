{
 "cells": [
  {
   "cell_type": "markdown",
   "id": "b6856d11-40d5-48e5-9eb3-423f479933a1",
   "metadata": {},
   "source": [
    "# Semi-structured eval: baseline retriever\n",
    "\n",
    "We will test retrival of table information from the `Semi-structured Reports` dataset using various methods.\n",
    "\n",
    "## Pre-requisites"
   ]
  },
  {
   "cell_type": "code",
   "execution_count": null,
   "id": "c387b660-967d-4d2f-8c38-af125f7b7a8b",
   "metadata": {},
   "outputs": [],
   "source": [
    "%pip install -U langchain langsmith langchain_benchmarks\n",
    "%pip install --quiet chromadb openai"
   ]
  },
  {
   "cell_type": "markdown",
   "id": "b1a19f23-468c-4aeb-a0e9-0765a85f3f0b",
   "metadata": {},
   "source": [
    "## Dataset"
   ]
  },
  {
   "cell_type": "code",
   "execution_count": 1,
   "id": "c1edead1-6ded-4099-8fb4-56f72dd97a68",
   "metadata": {},
   "outputs": [],
   "source": [
    "import os\n",
    "\n",
    "from langchain_benchmarks import registry\n",
    "from langchain_benchmarks.rag.tasks.semi_structured_reports import get_file_names\n",
    "\n",
    "# Task\n",
    "task = registry[\"Semi-structured Reports\"]\n",
    "\n",
    "# Files used\n",
    "paths = list(get_file_names())\n",
    "files = [str(p) for p in paths]\n",
    "\n",
    "### TODO: Replace when dataset is updated\n",
    "dir = \"/Users/rlm/Desktop/Eval_Sets/semi_structured_reports/\"\n",
    "files = [f for f in os.listdir(dir) if f.endswith(\".pdf\")]"
   ]
  },
  {
   "cell_type": "markdown",
   "id": "64f37705-0190-4b7a-9d88-63bfd904fbd9",
   "metadata": {},
   "source": [
    "## Load"
   ]
  },
  {
   "cell_type": "code",
   "execution_count": 2,
   "id": "7eb9e333-77e6-48f9-b221-9bded023b978",
   "metadata": {},
   "outputs": [
    {
     "name": "stdout",
     "output_type": "stream",
     "text": [
      "There are 5 text elements\n",
      "There are 14 text elements\n",
      "There are 5 text elements\n",
      "There are 23 text elements\n",
      "There are 13 text elements\n",
      "There are 13 text elements\n"
     ]
    }
   ],
   "source": [
    "from langchain.document_loaders import PyPDFLoader\n",
    "from langchain.text_splitter import RecursiveCharacterTextSplitter\n",
    "\n",
    "\n",
    "def load_and_split(file,token_count):\n",
    "    \"\"\"\n",
    "    Load and split PDF files\n",
    "    \"\"\"\n",
    "\n",
    "    loader = PyPDFLoader(file)\n",
    "    pdf_pages = loader.load()\n",
    "\n",
    "    text_splitter = RecursiveCharacterTextSplitter.from_tiktoken_encoder(\n",
    "        chunk_size=token_count, chunk_overlap=50\n",
    "    )\n",
    "\n",
    "    # Get chunks\n",
    "    docs = text_splitter.split_documents(pdf_pages)\n",
    "    texts = [d.page_content for d in docs]\n",
    "    print(f\"There are {len(texts)} text elements\")\n",
    "    return texts\n",
    "\n",
    "\n",
    "texts = []\n",
    "token_count = 1000\n",
    "for fi in files:\n",
    "    texts.extend(load_and_split(dir + fi,token_count))"
   ]
  },
  {
   "cell_type": "markdown",
   "id": "547d8535-1717-4841-a161-89870b65e222",
   "metadata": {},
   "source": [
    "## Index"
   ]
  },
  {
   "cell_type": "code",
   "execution_count": 3,
   "id": "50d01cd3-3c14-4777-90fa-166681d32331",
   "metadata": {},
   "outputs": [],
   "source": [
    "from langchain.embeddings import OpenAIEmbeddings\n",
    "from langchain.vectorstores import Chroma\n",
    "\n",
    "vectorstore_baseline = Chroma.from_texts(\n",
    "    texts=texts, collection_name=\"baseline-1000-token\", embedding=OpenAIEmbeddings()\n",
    ")\n",
    "\n",
    "retriever_baseline = vectorstore_baseline.as_retriever()"
   ]
  },
  {
   "cell_type": "markdown",
   "id": "ab756ef5-a552-4517-a595-35f32557c3ff",
   "metadata": {},
   "source": [
    "## RAG"
   ]
  },
  {
   "cell_type": "code",
   "execution_count": 4,
   "id": "665986d2-8e7a-4b68-8bc0-7a65a3ed0c14",
   "metadata": {},
   "outputs": [],
   "source": [
    "from langchain.chat_models import ChatOpenAI\n",
    "from langchain.prompts import ChatPromptTemplate\n",
    "from langchain.schema.output_parser import StrOutputParser\n",
    "from langchain.schema.runnable import RunnablePassthrough\n",
    "\n",
    "\n",
    "def rag_chain(retriever):\n",
    "    \"\"\"\n",
    "    RAG chain\n",
    "    \"\"\"\n",
    "\n",
    "    # Prompt template\n",
    "    template = \"\"\"Answer the question based only on the following context, which can include text and tables:\n",
    "    {context}\n",
    "    Question: {question}\n",
    "    \"\"\"\n",
    "    prompt = ChatPromptTemplate.from_template(template)\n",
    "\n",
    "    # LLM\n",
    "    model = ChatOpenAI(temperature=0, model=\"gpt-4\")\n",
    "\n",
    "    # RAG pipeline\n",
    "    chain = (\n",
    "        {\n",
    "            \"context\": retriever | (lambda x: \"\\n\\n\".join([i.page_content for i in x])),\n",
    "            \"question\": RunnablePassthrough(),\n",
    "        }\n",
    "        | prompt\n",
    "        | model\n",
    "        | StrOutputParser()\n",
    "    )\n",
    "    return chain\n",
    "\n",
    "\n",
    "# Create RAG chain\n",
    "chain = rag_chain(retriever_baseline)"
   ]
  },
  {
   "cell_type": "markdown",
   "id": "29515a91-3cb1-41bd-a2d4-6cf6ce7806c2",
   "metadata": {},
   "source": [
    "## Eval"
   ]
  },
  {
   "cell_type": "code",
   "execution_count": 5,
   "id": "edd2e7f9-b3f6-4885-bf05-96f1c1758b20",
   "metadata": {},
   "outputs": [
    {
     "name": "stdout",
     "output_type": "stream",
     "text": [
      "View the evaluation results for project '6d3c-baseline-1000-tok' at:\n",
      "https://smith.langchain.com/o/1fa8b1f4-fcb9-4072-9aa9-983e35ad61b8/datasets/8cff6883-909b-4014-86e2-7a5445ebdff5/compare?selectedSessions=6a5183de-6ae9-4cca-b2ee-8c9520416820\n",
      "\n",
      "View all tests for Dataset Semi-Structured-Eval-v8 at:\n",
      "https://smith.langchain.com/o/1fa8b1f4-fcb9-4072-9aa9-983e35ad61b8/datasets/8cff6883-909b-4014-86e2-7a5445ebdff5\n",
      "[------------------------------------------------->] 25/25"
     ]
    },
    {
     "data": {
      "text/html": [
       "<h3>Experiment Results:</h3>"
      ],
      "text/plain": [
       "<IPython.core.display.HTML object>"
      ]
     },
     "metadata": {},
     "output_type": "display_data"
    },
    {
     "data": {
      "text/html": [
       "<div>\n",
       "<style scoped>\n",
       "    .dataframe tbody tr th:only-of-type {\n",
       "        vertical-align: middle;\n",
       "    }\n",
       "\n",
       "    .dataframe tbody tr th {\n",
       "        vertical-align: top;\n",
       "    }\n",
       "\n",
       "    .dataframe thead th {\n",
       "        text-align: right;\n",
       "    }\n",
       "</style>\n",
       "<table border=\"1\" class=\"dataframe\">\n",
       "  <thead>\n",
       "    <tr style=\"text-align: right;\">\n",
       "      <th></th>\n",
       "      <th>output</th>\n",
       "      <th>feedback.COT Contextual Accuracy</th>\n",
       "      <th>error</th>\n",
       "      <th>execution_time</th>\n",
       "    </tr>\n",
       "  </thead>\n",
       "  <tbody>\n",
       "    <tr>\n",
       "      <th>count</th>\n",
       "      <td>25</td>\n",
       "      <td>25.00000</td>\n",
       "      <td>0</td>\n",
       "      <td>25.000000</td>\n",
       "    </tr>\n",
       "    <tr>\n",
       "      <th>unique</th>\n",
       "      <td>25</td>\n",
       "      <td>NaN</td>\n",
       "      <td>0</td>\n",
       "      <td>NaN</td>\n",
       "    </tr>\n",
       "    <tr>\n",
       "      <th>top</th>\n",
       "      <td>Datadog's Non-GAAP gross margin for the Nine M...</td>\n",
       "      <td>NaN</td>\n",
       "      <td>NaN</td>\n",
       "      <td>NaN</td>\n",
       "    </tr>\n",
       "    <tr>\n",
       "      <th>freq</th>\n",
       "      <td>1</td>\n",
       "      <td>NaN</td>\n",
       "      <td>NaN</td>\n",
       "      <td>NaN</td>\n",
       "    </tr>\n",
       "    <tr>\n",
       "      <th>mean</th>\n",
       "      <td>NaN</td>\n",
       "      <td>0.76000</td>\n",
       "      <td>NaN</td>\n",
       "      <td>9.010377</td>\n",
       "    </tr>\n",
       "    <tr>\n",
       "      <th>std</th>\n",
       "      <td>NaN</td>\n",
       "      <td>0.43589</td>\n",
       "      <td>NaN</td>\n",
       "      <td>3.432551</td>\n",
       "    </tr>\n",
       "    <tr>\n",
       "      <th>min</th>\n",
       "      <td>NaN</td>\n",
       "      <td>0.00000</td>\n",
       "      <td>NaN</td>\n",
       "      <td>5.954703</td>\n",
       "    </tr>\n",
       "    <tr>\n",
       "      <th>25%</th>\n",
       "      <td>NaN</td>\n",
       "      <td>1.00000</td>\n",
       "      <td>NaN</td>\n",
       "      <td>6.806990</td>\n",
       "    </tr>\n",
       "    <tr>\n",
       "      <th>50%</th>\n",
       "      <td>NaN</td>\n",
       "      <td>1.00000</td>\n",
       "      <td>NaN</td>\n",
       "      <td>8.011278</td>\n",
       "    </tr>\n",
       "    <tr>\n",
       "      <th>75%</th>\n",
       "      <td>NaN</td>\n",
       "      <td>1.00000</td>\n",
       "      <td>NaN</td>\n",
       "      <td>9.132252</td>\n",
       "    </tr>\n",
       "    <tr>\n",
       "      <th>max</th>\n",
       "      <td>NaN</td>\n",
       "      <td>1.00000</td>\n",
       "      <td>NaN</td>\n",
       "      <td>18.915070</td>\n",
       "    </tr>\n",
       "  </tbody>\n",
       "</table>\n",
       "</div>"
      ],
      "text/plain": [
       "                                                   output  \\\n",
       "count                                                  25   \n",
       "unique                                                 25   \n",
       "top     Datadog's Non-GAAP gross margin for the Nine M...   \n",
       "freq                                                    1   \n",
       "mean                                                  NaN   \n",
       "std                                                   NaN   \n",
       "min                                                   NaN   \n",
       "25%                                                   NaN   \n",
       "50%                                                   NaN   \n",
       "75%                                                   NaN   \n",
       "max                                                   NaN   \n",
       "\n",
       "        feedback.COT Contextual Accuracy error  execution_time  \n",
       "count                           25.00000     0       25.000000  \n",
       "unique                               NaN     0             NaN  \n",
       "top                                  NaN   NaN             NaN  \n",
       "freq                                 NaN   NaN             NaN  \n",
       "mean                             0.76000   NaN        9.010377  \n",
       "std                              0.43589   NaN        3.432551  \n",
       "min                              0.00000   NaN        5.954703  \n",
       "25%                              1.00000   NaN        6.806990  \n",
       "50%                              1.00000   NaN        8.011278  \n",
       "75%                              1.00000   NaN        9.132252  \n",
       "max                              1.00000   NaN       18.915070  "
      ]
     },
     "metadata": {},
     "output_type": "display_data"
    }
   ],
   "source": [
    "import uuid\n",
    "from langsmith.client import Client\n",
    "from langchain.smith import RunEvalConfig\n",
    "\n",
    "# Config\n",
    "client = Client()\n",
    "eval_config = RunEvalConfig(\n",
    "    evaluators=[\"cot_qa\"],\n",
    ")\n",
    "\n",
    "# Experiments\n",
    "chain_map = {\n",
    "    \"baseline-1000-tok\": chain,\n",
    "    # \"baseline-2000-tok\": chain,\n",
    "}\n",
    "\n",
    "\n",
    "# Run evaluation\n",
    "run_id = uuid.uuid4().hex[:4]\n",
    "test_runs = {}\n",
    "for project_name, chain in chain_map.items():\n",
    "    test_runs[project_name] = client.run_on_dataset(\n",
    "        # dataset_name=task.name,\n",
    "        dataset_name=\"Semi-Structured-Eval-v8\",\n",
    "        llm_or_chain_factory=lambda: (lambda x: x[\"question\"]) | chain,\n",
    "        evaluation=eval_config,\n",
    "        verbose=True,\n",
    "        project_name=f\"{run_id}-{project_name}\",\n",
    "        project_metadata={\"chain\": project_name},\n",
    "    )"
   ]
  },
  {
   "cell_type": "markdown",
   "id": "0025211a-f7a1-40e4-9ec5-1b710be3a96a",
   "metadata": {},
   "source": [
    "## TEMP: ITERATURE ON THE DATASET"
   ]
  },
  {
   "cell_type": "code",
   "execution_count": 6,
   "id": "b54acf22-0cdc-4a58-9d9e-23e63865c32a",
   "metadata": {},
   "outputs": [],
   "source": [
    "### TODO: Replace with public dataset\n",
    "\n",
    "import uuid\n",
    "\n",
    "import pandas as pd\n",
    "from langsmith import Client\n",
    "\n",
    "# Read\n",
    "df = pd.read_csv(dir + \"semi_structured_reports.csv\")\n",
    "\n",
    "# Dataset\n",
    "client = Client()\n",
    "dataset_name = \"Semi-Structured-Eval-v9\"\n",
    "dataset = client.create_dataset(dataset_name=dataset_name)\n",
    "\n",
    "# Populate dataset\n",
    "for _, row in df.iterrows():\n",
    "    # Get Q, A\n",
    "    q = row[\"Question\"]\n",
    "    a = row[\"Answer\"]\n",
    "\n",
    "    # Use the values in your function\n",
    "    client.create_example(\n",
    "        inputs={\"question\": q}, outputs={\"answer\": a}, dataset_id=dataset.id\n",
    "    )"
   ]
  }
 ],
 "metadata": {
  "kernelspec": {
   "display_name": "Python 3 (ipykernel)",
   "language": "python",
   "name": "python3"
  },
  "language_info": {
   "codemirror_mode": {
    "name": "ipython",
    "version": 3
   },
   "file_extension": ".py",
   "mimetype": "text/x-python",
   "name": "python",
   "nbconvert_exporter": "python",
   "pygments_lexer": "ipython3",
   "version": "3.9.16"
  }
 },
 "nbformat": 4,
 "nbformat_minor": 5
}
