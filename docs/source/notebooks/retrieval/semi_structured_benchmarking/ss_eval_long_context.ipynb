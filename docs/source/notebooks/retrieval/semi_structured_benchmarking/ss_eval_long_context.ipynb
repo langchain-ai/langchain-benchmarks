{
 "cells": [
  {
   "cell_type": "markdown",
   "id": "82409c3a-5172-429d-9411-cad25079e1de",
   "metadata": {},
   "source": [
    "# Semi-structured eval: Long-context\n",
    "\n",
    "`Semi-structured Reports` is a public dataset that contains question-answer pairs from documents with text and tables.\n",
    "\n",
    "The question-answer pairs are derived from the tables as well as some of the paragraphs in the docs.\n",
    "\n",
    "We evaluation performance of long context LLMs on this dataset."
   ]
  },
  {
   "cell_type": "code",
   "execution_count": null,
   "id": "363b9e4f-f15d-4283-84a7-d4ca0b7f6739",
   "metadata": {},
   "outputs": [],
   "source": [
    "# %pip install -U langchain langsmith langchain_benchmarks\n",
    "# %pip install -U anthropic openai"
   ]
  },
  {
   "cell_type": "code",
   "execution_count": null,
   "id": "8e4da8a6-9cdb-44f5-9f50-b97c6a8aa82c",
   "metadata": {},
   "outputs": [],
   "source": [
    "import getpass\n",
    "import os\n",
    "\n",
    "os.environ[\"LANGCHAIN_ENDPOINT\"] = \"https://api.smith.langchain.com\"\n",
    "env_vars = [\"LANGCHAIN_API_KEY\", \"OPENAI_API_KEY\", \"ANTHROPIC_API_KEY\"]\n",
    "for var in env_vars:\n",
    "    if var not in os.environ:\n",
    "        os.environ[var] = getpass.getpass(prompt=f\"Enter your {var}: \")"
   ]
  },
  {
   "cell_type": "markdown",
   "id": "96dcbfd5-5f0e-469d-b2b1-79b9c440306b",
   "metadata": {},
   "source": [
    "## Dataset\n",
    "\n",
    "Fetch the associated PDFs from remote cache for the dataset so that we can perform ingestion."
   ]
  },
  {
   "cell_type": "code",
   "execution_count": 1,
   "id": "61b816df-b43f-45b4-9b58-883d9847dd40",
   "metadata": {},
   "outputs": [],
   "source": [
    "import os\n",
    "\n",
    "from langchain_benchmarks import clone_public_dataset, registry\n",
    "from langchain_benchmarks.rag.tasks.semi_structured_reports import get_file_names\n",
    "\n",
    "# Task\n",
    "task = registry[\"Semi-structured Reports\"]\n",
    "\n",
    "# Files used\n",
    "paths = list(get_file_names())\n",
    "files = [str(p) for p in paths]"
   ]
  },
  {
   "cell_type": "markdown",
   "id": "42b61cb0-d11f-49ed-8cc5-23dd59e825f4",
   "metadata": {},
   "source": [
    "Clone the dataset so that it's available in our LangSmith datasets."
   ]
  },
  {
   "cell_type": "code",
   "execution_count": 2,
   "id": "ead966fe-bfac-4d09-b8b8-00c0e8fca991",
   "metadata": {},
   "outputs": [
    {
     "data": {
      "application/vnd.jupyter.widget-view+json": {
       "model_id": "8c76b8af35ec486abdd6b061df4c9ac1",
       "version_major": 2,
       "version_minor": 0
      },
      "text/plain": [
       "  0%|          | 0/30 [00:00<?, ?it/s]"
      ]
     },
     "metadata": {},
     "output_type": "display_data"
    },
    {
     "name": "stdout",
     "output_type": "stream",
     "text": [
      "Finished fetching examples. Creating dataset...\n",
      "New dataset created you can access it at https://smith.langchain.com/o/1fa8b1f4-fcb9-4072-9aa9-983e35ad61b8/datasets/6549a3a5-1cb9-463f-951d-0166cb9cf45c.\n",
      "Done creating dataset.\n"
     ]
    }
   ],
   "source": [
    "clone_public_dataset(task.dataset_id, dataset_name=task.name)"
   ]
  },
  {
   "cell_type": "markdown",
   "id": "a723aa13-abeb-4839-8425-3591ad635893",
   "metadata": {},
   "source": [
    "## Load\n",
    "\n",
    "Concatenate the documents."
   ]
  },
  {
   "cell_type": "code",
   "execution_count": 7,
   "id": "e3122719-82b4-47ef-9dc8-3df9b73bec2c",
   "metadata": {},
   "outputs": [],
   "source": [
    "from langchain.document_loaders import PyPDFLoader\n",
    "\n",
    "texts = []\n",
    "for fi in files:\n",
    "    loader = PyPDFLoader(fi)\n",
    "    pdf_pages = loader.load()\n",
    "    texts.extend(pdf_pages)\n",
    "\n",
    "texts = [t.page_content for t in texts]\n",
    "text_string = \" /// New Document /// \".join(texts)"
   ]
  },
  {
   "cell_type": "markdown",
   "id": "ed6292b1-5aab-46bb-b03f-79087444835c",
   "metadata": {},
   "source": [
    "## Run\n",
    "\n",
    "Create a chain for each long-context LLM where we pass in the concatenated documents."
   ]
  },
  {
   "cell_type": "code",
   "execution_count": 8,
   "id": "aa1e5b2f-6dda-42a0-95a7-bcfd1281c830",
   "metadata": {},
   "outputs": [],
   "source": [
    "from langchain.chat_models import ChatAnthropic, ChatOpenAI\n",
    "from langchain.prompts import ChatPromptTemplate\n",
    "from langchain.schema.output_parser import StrOutputParser\n",
    "from langchain.schema.runnable import RunnablePassthrough\n",
    "\n",
    "\n",
    "def create_chain(model):\n",
    "    # Prompt template\n",
    "    template = \"\"\"Answer the question based only on the following context, which can include text and tables:\n",
    "    {context}\n",
    "    Question: {question}\n",
    "    \"\"\"\n",
    "    prompt = ChatPromptTemplate.from_template(template)\n",
    "\n",
    "    chain = (\n",
    "        {\n",
    "            \"context\": lambda x: text_string,\n",
    "            \"question\": RunnablePassthrough(),\n",
    "        }\n",
    "        | prompt\n",
    "        | model\n",
    "        | StrOutputParser()\n",
    "    )\n",
    "\n",
    "    return chain\n",
    "\n",
    "\n",
    "# OAI 128k\n",
    "model = ChatOpenAI(temperature=0, model=\"gpt-4-1106-preview\")\n",
    "chain_oai_128k = create_chain(model)\n",
    "\n",
    "# Anthropic 100k, v2\n",
    "model = ChatAnthropic(temperature=0, model=\"claude-2\")\n",
    "chain_claude = create_chain(model)\n",
    "\n",
    "# Anthropic 100k, v2.1\n",
    "model = ChatAnthropic(temperature=0, model=\"claude-2.1\")\n",
    "chain_2_1_claude = create_chain(model)"
   ]
  },
  {
   "cell_type": "markdown",
   "id": "791c28f8-56ea-47db-8417-596fffadd43d",
   "metadata": {},
   "source": [
    "## Eval\n",
    "\n",
    "Run eval onm our dataset, `Semi-structured Reports`."
   ]
  },
  {
   "cell_type": "code",
   "execution_count": null,
   "id": "ef5d8dae-dc20-48f0-a843-2ac2cde63151",
   "metadata": {
    "scrolled": true
   },
   "outputs": [],
   "source": [
    "import uuid\n",
    "\n",
    "from langchain.smith import RunEvalConfig\n",
    "from langsmith.client import Client\n",
    "\n",
    "# Config\n",
    "client = Client()\n",
    "eval_config = RunEvalConfig(\n",
    "    evaluators=[\"cot_qa\"],\n",
    ")\n",
    "\n",
    "# Experiments\n",
    "chain_map = {\n",
    "    \"oai_128k\": chain_oai_128k,\n",
    "    \"claude2_100k_v2\": chain_claude,\n",
    "    \"claude2_100k_v2.1\": chain_2_1_claude,\n",
    "}\n",
    "\n",
    "# Run evaluation\n",
    "run_id = uuid.uuid4().hex[:4]\n",
    "test_runs = {}\n",
    "for project_name, chain in chain_map.items():\n",
    "    test_runs[project_name] = client.run_on_dataset(\n",
    "        dataset_name=task.name,\n",
    "        llm_or_chain_factory=lambda: (lambda x: x[\"Question\"]) | chain,\n",
    "        evaluation=eval_config,\n",
    "        verbose=True,\n",
    "        project_name=f\"{run_id}-{project_name}\",\n",
    "        project_metadata={\"chain\": project_name},\n",
    "    )"
   ]
  },
  {
   "cell_type": "markdown",
   "id": "173ce786-941e-4dac-9316-d6d41893051b",
   "metadata": {},
   "source": [
    "## Failure Analysis\n",
    "\n",
    "Look at failures for `GPT-4 128k` wrt the answer location in the context.\n",
    "\n",
    "[Prior](https://twitter.com/GregKamradt/status/1722386725635580292) [work](https://twitter.com/GregKamradt/status/1727018183608193393) has done this for long context LLMs."
   ]
  },
  {
   "cell_type": "code",
   "execution_count": 59,
   "id": "8e7000da-f6ee-4d37-8068-8b9de7023238",
   "metadata": {},
   "outputs": [
    {
     "data": {
      "image/png": "[encoded data removed]",
      "text/plain": [
       "<Figure size 100x1000 with 2 Axes>"
      ]
     },
     "metadata": {},
     "output_type": "display_data"
    }
   ],
   "source": [
    "import matplotlib.pyplot as plt\n",
    "import numpy as np\n",
    "\n",
    "\n",
    "def find_all_phrase_locations(phrases, text):\n",
    "    \"\"\"\n",
    "    # Function to find all locations of each phrase in the text string\n",
    "    \"\"\"\n",
    "    locations = []\n",
    "    for phrase in phrases:\n",
    "        start = 0\n",
    "        while start < len(text):\n",
    "            start = text.find(phrase, start)\n",
    "            if start == -1:  # No more occurrences\n",
    "                break\n",
    "            # Convert location to percentage of the document\n",
    "            location_percent = (start / len(text)) * 100\n",
    "            locations.append(location_percent)\n",
    "            start += len(phrase)  # Move past this occurrence\n",
    "    return locations\n",
    "\n",
    "\n",
    "# Unique statments related to each failed question\n",
    "short_phrase_list = [\n",
    "    \"Booking.com, GoDaddy\",  # AWS question\n",
    "    \"MICROSOFT CORPORATIONINCOME STATEMENTS\",  # MSFT\n",
    "    \"Operating income $ 5,403\",  # AWS question\n",
    "    \"Net sales $ 20,538 $ 23,059\",  # AWS question\n",
    "    \"Research and development (1)(3) 240,225  205,388\",  # DDOG\n",
    "    \"Net sales $ 78,843 $ 87,887\",  # AWS question\n",
    "]\n",
    "\n",
    "# Finding all the locations of each phrase in the text_string\n",
    "phrase_locations = find_all_phrase_locations(short_phrase_list, text_string)\n",
    "\n",
    "# Create a 2D matrix for heatmap\n",
    "heatmap_matrix = np.zeros((1, 100))\n",
    "for location in phrase_locations:\n",
    "    segment = int(location)\n",
    "    heatmap_matrix[0, segment] += 1  # Increment the count for the segment\n",
    "\n",
    "# Invert the matrix so that x and y are flipped\n",
    "inverted_heatmap_matrix = np.transpose(heatmap_matrix)\n",
    "\n",
    "# Plotting the inverted heatmap\n",
    "fig, ax = plt.subplots(figsize=(1, 10))  # Adjust figure size to make x-axis narrower\n",
    "cax = ax.imshow(\n",
    "    inverted_heatmap_matrix,\n",
    "    cmap=\"Reds\",\n",
    "    aspect=\"auto\",\n",
    "    vmin=0,\n",
    "    vmax=inverted_heatmap_matrix.max(),\n",
    ")\n",
    "fig.colorbar(cax, label=\"# of questions\", orientation=\"horizontal\")\n",
    "ax.set_ylabel(\"Percentage of Document\")\n",
    "ax.set_xticks([])\n",
    "plt.show()"
   ]
  }
 ],
 "metadata": {
  "kernelspec": {
   "display_name": "Python 3 (ipykernel)",
   "language": "python",
   "name": "python3"
  },
  "language_info": {
   "codemirror_mode": {
    "name": "ipython",
    "version": 3
   },
   "file_extension": ".py",
   "mimetype": "text/x-python",
   "name": "python",
   "nbconvert_exporter": "python",
   "pygments_lexer": "ipython3",
   "version": "3.9.16"
  }
 },
 "nbformat": 4,
 "nbformat_minor": 5
}
