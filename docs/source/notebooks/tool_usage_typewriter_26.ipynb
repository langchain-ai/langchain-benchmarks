{
 "cells": [
  {
   "cell_type": "code",
   "execution_count": 1,
   "id": "ac938479-e489-4b04-80d9-b1b550154122",
   "metadata": {
    "tags": []
   },
   "outputs": [],
   "source": [
    "%load_ext autoreload\n",
    "%autoreload 2"
   ]
  },
  {
   "cell_type": "markdown",
   "id": "60bb467d-861d-4b07-a48d-8e5aa177c969",
   "metadata": {
    "tags": [
     "remove-cell"
    ]
   },
   "source": [
    "# Typewriter: 26 Tools\n",
    "\n",
    "Let's see how to evaluate an agent's ability to use tools.\n",
    "\n",
    "    A task where the agent must type a given string one letter at a time.\n",
    "\n",
    "    In this variation of the task, the agent is given access to 26 parameterless functions,\n",
    "    each representing a letter of the alphabet."
   ]
  },
  {
   "cell_type": "code",
   "execution_count": 2,
   "id": "b39159d0-9ea1-414f-a9d8-4a7b22b3d2cc",
   "metadata": {
    "tags": []
   },
   "outputs": [],
   "source": [
    "from langchain_benchmarks import clone_public_dataset, registry"
   ]
  },
  {
   "cell_type": "code",
   "execution_count": 3,
   "id": "1aef2b32-a5df-421f-8be3-a2ef27372ece",
   "metadata": {
    "tags": []
   },
   "outputs": [
    {
     "data": {
      "text/html": [
       "<table>\n",
       "<tbody>\n",
       "<tr><td>Name       </td><td>Tool Usage - Typewriter (26 tools)                                       </td></tr>\n",
       "<tr><td>Type       </td><td>ToolUsageTask                                                            </td></tr>\n",
       "<tr><td>Dataset ID </td><td>https://smith.langchain.com/public/128af05e-aa00-4e3b-a958-d166dd450581/d</td></tr>\n",
       "<tr><td>Description</td><td>Environment with 26 tools each tool represents a letter of the alphabet.\n",
       "\n",
       "The objective of this task is to evaluate the model&#x27;s ability the use tools\n",
       "for a simple repetition task.\n",
       "\n",
       "For example, if the string is &#x27;abc&#x27;, the tools &#x27;a&#x27;, &#x27;b&#x27;, and &#x27;c&#x27; must be invoked in that order.\n",
       "\n",
       "The dataset includes examples of varying difficulty. The difficulty is measured by the length of the string.\n",
       "\n",
       "This is a variation of the typer writer task, where 26 parameterless tools are\n",
       "given instead of a single tool that takes a letter as an argument.                                                                          </td></tr>\n",
       "</tbody>\n",
       "</table>"
      ],
      "text/plain": [
       "ToolUsageTask(name='Tool Usage - Typewriter (26 tools)', dataset_id='https://smith.langchain.com/public/128af05e-aa00-4e3b-a958-d166dd450581/d', description=\"Environment with 26 tools each tool represents a letter of the alphabet.\\n\\nThe objective of this task is to evaluate the model's ability the use tools\\nfor a simple repetition task.\\n\\nFor example, if the string is 'abc', the tools 'a', 'b', and 'c' must be invoked in that order.\\n\\nThe dataset includes examples of varying difficulty. The difficulty is measured by the length of the string.\\n\\nThis is a variation of the typer writer task, where 26 parameterless tools are\\ngiven instead of a single tool that takes a letter as an argument.\\n\", create_environment=<function get_environment at 0x7f614392b4c0>, instructions=\"Repeat the given string by using the provided tools. Do not write anything else or provide any explanations. For example, if the string is 'abc', you must invoke the tools 'a', 'b', and 'c' in that order. Please invoke the functions without any arguments.\")"
      ]
     },
     "execution_count": 3,
     "metadata": {},
     "output_type": "execute_result"
    }
   ],
   "source": [
    "task = registry[\"Tool Usage - Typewriter (26 tools)\"]\n",
    "task"
   ]
  },
  {
   "cell_type": "markdown",
   "id": "bc33a639-3caf-4314-8ea7-1c7c8b1d114d",
   "metadata": {},
   "source": [
    "Clone the dataset associaetd with this task"
   ]
  },
  {
   "cell_type": "code",
   "execution_count": 4,
   "id": "70369f67-deb4-467a-801a-6d38c3d0460d",
   "metadata": {
    "tags": []
   },
   "outputs": [
    {
     "name": "stdout",
     "output_type": "stream",
     "text": [
      "Dataset Tool Usage - Typewriter (26 tools) already exists. Skipping.\n",
      "You can access the dataset at https://smith.langchain.com/o/e081f11e-fbd2-41b4-9fa8-5d76c76ef854/datasets/5051c0ae-16be-4afa-b914-84acbc5e9659.\n"
     ]
    }
   ],
   "source": [
    "clone_public_dataset(task.dataset_id, dataset_name=task.name)"
   ]
  },
  {
   "cell_type": "markdown",
   "id": "b462f7b8-fd42-4613-ab5f-5f3cbbc37d28",
   "metadata": {},
   "source": [
    "Let's build an agent that we can use for evaluation."
   ]
  },
  {
   "cell_type": "code",
   "execution_count": 5,
   "id": "61535a75-24f6-4727-9549-f76c263e9153",
   "metadata": {
    "tags": []
   },
   "outputs": [],
   "source": [
    "env = task.create_environment()"
   ]
  },
  {
   "cell_type": "code",
   "execution_count": 8,
   "id": "6142cf4e-862c-47a3-aa75-81d7d3231308",
   "metadata": {
    "tags": []
   },
   "outputs": [
    {
     "data": {
      "text/plain": [
       "{'question': 'foo',\n",
       " 'output': 'Agent stopped due to iteration limit or time limit.',\n",
       " 'intermediate_steps': [(AgentAction(tool='_Exception', tool_input='Invalid or incomplete response', log=\"Could not parse tool input: {'arguments': 'f', 'name': 'f'} because the `arguments` is not valid JSON.\"),\n",
       "   'Invalid or incomplete response'),\n",
       "  (AgentActionMessageLog(tool='f', tool_input={}, log='\\nInvoking: `f` with `{}`\\n\\n\\n', message_log=[AIMessage(content='', additional_kwargs={'function_call': {'arguments': '', 'name': 'f'}})]),\n",
       "   'OK'),\n",
       "  (AgentActionMessageLog(tool='o', tool_input={}, log='\\nInvoking: `o` with `{}`\\n\\n\\n', message_log=[AIMessage(content='', additional_kwargs={'function_call': {'arguments': '', 'name': 'o'}})]),\n",
       "   'OK'),\n",
       "  (AgentActionMessageLog(tool='o', tool_input={}, log='\\nInvoking: `o` with `{}`\\n\\n\\n', message_log=[AIMessage(content='', additional_kwargs={'function_call': {'arguments': '', 'name': 'o'}})]),\n",
       "   'OK'),\n",
       "  (AgentActionMessageLog(tool='f', tool_input={}, log='\\nInvoking: `f` with `{}`\\nresponded: foo\\n\\n', message_log=[AIMessage(content='foo', additional_kwargs={'function_call': {'arguments': '', 'name': 'f'}})]),\n",
       "   'OK'),\n",
       "  (AgentActionMessageLog(tool='o', tool_input={}, log='\\nInvoking: `o` with `{}`\\n\\n\\n', message_log=[AIMessage(content='', additional_kwargs={'function_call': {'arguments': '', 'name': 'o'}})]),\n",
       "   'OK'),\n",
       "  (AgentActionMessageLog(tool='o', tool_input={}, log='\\nInvoking: `o` with `{}`\\n\\n\\n', message_log=[AIMessage(content='', additional_kwargs={'function_call': {'arguments': '', 'name': 'o'}})]),\n",
       "   'OK'),\n",
       "  (AgentActionMessageLog(tool='f', tool_input={}, log='\\nInvoking: `f` with `{}`\\nresponded: foo\\n\\n', message_log=[AIMessage(content='foo', additional_kwargs={'function_call': {'arguments': '', 'name': 'f'}})]),\n",
       "   'OK'),\n",
       "  (AgentActionMessageLog(tool='o', tool_input={}, log='\\nInvoking: `o` with `{}`\\n\\n\\n', message_log=[AIMessage(content='', additional_kwargs={'function_call': {'arguments': '', 'name': 'o'}})]),\n",
       "   'OK'),\n",
       "  (AgentActionMessageLog(tool='o', tool_input={}, log='\\nInvoking: `o` with `{}`\\n\\n\\n', message_log=[AIMessage(content='', additional_kwargs={'function_call': {'arguments': '', 'name': 'o'}})]),\n",
       "   'OK'),\n",
       "  (AgentActionMessageLog(tool='f', tool_input={}, log='\\nInvoking: `f` with `{}`\\nresponded: foo\\n\\n', message_log=[AIMessage(content='foo', additional_kwargs={'function_call': {'arguments': '', 'name': 'f'}})]),\n",
       "   'OK'),\n",
       "  (AgentActionMessageLog(tool='o', tool_input={}, log='\\nInvoking: `o` with `{}`\\n\\n\\n', message_log=[AIMessage(content='', additional_kwargs={'function_call': {'arguments': '', 'name': 'o'}})]),\n",
       "   'OK'),\n",
       "  (AgentActionMessageLog(tool='o', tool_input={}, log='\\nInvoking: `o` with `{}`\\n\\n\\n', message_log=[AIMessage(content='', additional_kwargs={'function_call': {'arguments': '', 'name': 'o'}})]),\n",
       "   'OK'),\n",
       "  (AgentActionMessageLog(tool='f', tool_input={}, log='\\nInvoking: `f` with `{}`\\nresponded: foo\\n\\n', message_log=[AIMessage(content='foo', additional_kwargs={'function_call': {'arguments': '', 'name': 'f'}})]),\n",
       "   'OK'),\n",
       "  (AgentActionMessageLog(tool='o', tool_input={}, log='\\nInvoking: `o` with `{}`\\n\\n\\n', message_log=[AIMessage(content='', additional_kwargs={'function_call': {'arguments': '', 'name': 'o'}})]),\n",
       "   'OK')],\n",
       " 'state': 'foofoofoofoofo'}"
      ]
     },
     "execution_count": 8,
     "metadata": {},
     "output_type": "execute_result"
    }
   ],
   "source": [
    "from langchain_benchmarks.tool_usage import agents\n",
    "\n",
    "agent_factory = agents.OpenAIAgentFactory(task, model=\"gpt-3.5-turbo-16k\")\n",
    "\n",
    "# Let's test that our agent works\n",
    "agent = agent_factory()\n",
    "agent.invoke({\"question\": \"foo\"})"
   ]
  },
  {
   "cell_type": "markdown",
   "id": "3821e4b0-8e67-418a-840c-470fcde42df0",
   "metadata": {},
   "source": [
    "## Eval\n",
    "\n",
    "Let's evaluate an agent now"
   ]
  },
  {
   "cell_type": "code",
   "execution_count": null,
   "id": "fb32763c-79ab-426a-8fc6-bf8ebb0dd432",
   "metadata": {
    "tags": []
   },
   "outputs": [],
   "source": [
    "from langsmith.client import Client\n",
    "\n",
    "from langchain_benchmarks.tool_usage import STANDARD_AGENT_EVALUATOR\n",
    "\n",
    "client = Client()\n",
    "\n",
    "test_run = client.run_on_dataset(\n",
    "    dataset_name=task.name,\n",
    "    llm_or_chain_factory=agent_factory.create,\n",
    "    evaluation=STANDARD_AGENT_EVALUATOR,\n",
    "    verbose=True,\n",
    "    tags=[\"gpt-3.5-turbo-16k\"],\n",
    ")"
   ]
  }
 ],
 "metadata": {
  "kernelspec": {
   "display_name": "Python 3 (ipykernel)",
   "language": "python",
   "name": "python3"
  },
  "language_info": {
   "codemirror_mode": {
    "name": "ipython",
    "version": 3
   },
   "file_extension": ".py",
   "mimetype": "text/x-python",
   "name": "python",
   "nbconvert_exporter": "python",
   "pygments_lexer": "ipython3",
   "version": "3.9.6"
  }
 },
 "nbformat": 4,
 "nbformat_minor": 5
}
