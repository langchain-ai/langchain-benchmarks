{
 "cells": [
  {
   "cell_type": "markdown",
   "id": "60bb467d-861d-4b07-a48d-8e5aa177c969",
   "metadata": {},
   "source": [
    "# Email Extraction\n",
    "\n",
    "Let's evaluate an LLM on its ability to extract structured information from email texts."
   ]
  },
  {
   "cell_type": "code",
   "execution_count": null,
   "id": "47de0d20-d20b-44be-9e41-d2275f0866e8",
   "metadata": {},
   "outputs": [],
   "source": [
    "# %pip install -U langchain langchain_benchmarks openai"
   ]
  },
  {
   "cell_type": "code",
   "execution_count": 1,
   "id": "c401de19-814e-4bd7-bb9c-7ea6e217985c",
   "metadata": {},
   "outputs": [],
   "source": [
    "import os\n",
    "\n",
    "# Get your API key from https://smith.langchain.com/settings\n",
    "# os.environ[\"LANGCHAIN_API_KEY\"] = \"sk-...\"\n",
    "# os.environ[\"OPENAI_API_KEY\"] = \"sk-...\""
   ]
  },
  {
   "cell_type": "code",
   "execution_count": 2,
   "id": "b39159d0-9ea1-414f-a9d8-4a7b22b3d2cc",
   "metadata": {
    "tags": []
   },
   "outputs": [],
   "source": [
    "from langchain_benchmarks import clone_public_dataset, registry"
   ]
  },
  {
   "cell_type": "markdown",
   "id": "03488ab1-31ed-41c2-8da2-46b02599b181",
   "metadata": {},
   "source": [
    "For this code to work, please configure LangSmith environment variables with your credentials."
   ]
  },
  {
   "cell_type": "code",
   "execution_count": 3,
   "id": "60f22779-a948-4833-8e8c-ace9ef17f56f",
   "metadata": {
    "tags": []
   },
   "outputs": [
    {
     "data": {
      "text/html": [
       "<table>\n",
       "<tbody>\n",
       "<tr><td>Name       </td><td>Email Extraction                                                                                                                                           </td></tr>\n",
       "<tr><td>Type       </td><td>ExtractionTask                                                                                                                                             </td></tr>\n",
       "<tr><td>Dataset ID </td><td><a href=\"https://smith.langchain.com/public/a1742786-bde5-4f51-a1d8-e148e5251ddb/d\" target=\"_blank\" rel=\"noopener\">a1742786-bde5-4f51-a1d8-e148e5251ddb</a></td></tr>\n",
       "<tr><td>Description</td><td>A dataset of 42 real emails deduped from a spam folder, with semantic HTML tags removed, as well as a script for initial extraction and formatting of other emails from an arbitrary .mbox file like the one exported by Gmail.\n",
       "\n",
       "Some additional cleanup of the data was done by hand after the initial pass.\n",
       "\n",
       "See https://github.com/jacoblee93/oss-model-extraction-evals.                                                                                                                                                            </td></tr>\n",
       "</tbody>\n",
       "</table>"
      ],
      "text/plain": [
       "ExtractionTask(name='Email Extraction', dataset_id='https://smith.langchain.com/public/a1742786-bde5-4f51-a1d8-e148e5251ddb/d', description='A dataset of 42 real emails deduped from a spam folder, with semantic HTML tags removed, as well as a script for initial extraction and formatting of other emails from an arbitrary .mbox file like the one exported by Gmail.\\n\\nSome additional cleanup of the data was done by hand after the initial pass.\\n\\nSee https://github.com/jacoblee93/oss-model-extraction-evals.\\n    ', schema=<class 'langchain_benchmarks.extraction.tasks.email_task.Email'>, instructions=ChatPromptTemplate(input_variables=['input'], messages=[SystemMessagePromptTemplate(prompt=PromptTemplate(input_variables=[], template='You are an expert researcher.')), HumanMessagePromptTemplate(prompt=PromptTemplate(input_variables=['input'], template='What can you tell me about the following email? Make sure to extract the question in the correct format. Here is the email:\\n ```\\n{input}\\n```'))]))"
      ]
     },
     "execution_count": 3,
     "metadata": {},
     "output_type": "execute_result"
    }
   ],
   "source": [
    "task = registry[\"Email Extraction\"]\n",
    "task"
   ]
  },
  {
   "cell_type": "code",
   "execution_count": 4,
   "id": "49be36d2-343e-49df-8369-dd5bac405d5e",
   "metadata": {
    "tags": []
   },
   "outputs": [
    {
     "name": "stdout",
     "output_type": "stream",
     "text": [
      "A dataset of 42 real emails deduped from a spam folder, with semantic HTML tags removed, as well as a script for initial extraction and formatting of other emails from an arbitrary .mbox file like the one exported by Gmail.\n",
      "\n",
      "Some additional cleanup of the data was done by hand after the initial pass.\n",
      "\n",
      "See https://github.com/jacoblee93/oss-model-extraction-evals.\n",
      "    \n"
     ]
    }
   ],
   "source": [
    "print(task.description)"
   ]
  },
  {
   "cell_type": "markdown",
   "id": "bc33a639-3caf-4314-8ea7-1c7c8b1d114d",
   "metadata": {},
   "source": [
    "Clone the dataset associated with this task"
   ]
  },
  {
   "cell_type": "code",
   "execution_count": 5,
   "id": "70369f67-deb4-467a-801a-6d38c3d0460d",
   "metadata": {
    "tags": []
   },
   "outputs": [
    {
     "name": "stdout",
     "output_type": "stream",
     "text": [
      "Dataset Email Extraction already exists. Skipping.\n",
      "You can access the dataset at https://smith.langchain.com/o/ebbaf2eb-769b-4505-aca2-d11de10372a4/datasets/309a2fce-ce68-43aa-befb-67f94d0c3570.\n"
     ]
    }
   ],
   "source": [
    "clone_public_dataset(task.dataset_id, dataset_name=task.name)"
   ]
  },
  {
   "cell_type": "code",
   "execution_count": 6,
   "id": "12e302e6-9b3d-42a4-b612-d672c591e8f0",
   "metadata": {
    "tags": []
   },
   "outputs": [
    {
     "name": "stdout",
     "output_type": "stream",
     "text": [
      "{'definitions': {'ToneEnum': {'description': 'The tone of the email.',\n",
      "                              'enum': ['positive', 'negative'],\n",
      "                              'title': 'ToneEnum',\n",
      "                              'type': 'string'}},\n",
      " 'description': 'Relevant information about an email.',\n",
      " 'properties': {'action_items': {'description': 'A list of action items '\n",
      "                                                'requested by the email',\n",
      "                                 'items': {'type': 'string'},\n",
      "                                 'title': 'Action Items',\n",
      "                                 'type': 'array'},\n",
      "                'sender': {'description': \"The sender's name, if available\",\n",
      "                           'title': 'Sender',\n",
      "                           'type': 'string'},\n",
      "                'sender_address': {'description': \"The sender's address, if \"\n",
      "                                                  'available',\n",
      "                                   'title': 'Sender Address',\n",
      "                                   'type': 'string'},\n",
      "                'sender_phone_number': {'description': \"The sender's phone \"\n",
      "                                                       'number, if available',\n",
      "                                        'title': 'Sender Phone Number',\n",
      "                                        'type': 'string'},\n",
      "                'tone': {'allOf': [{'$ref': '#/definitions/ToneEnum'}],\n",
      "                         'description': 'The tone of the email.'},\n",
      "                'topic': {'description': 'High level description of what the '\n",
      "                                         'email is about',\n",
      "                          'title': 'Topic',\n",
      "                          'type': 'string'}},\n",
      " 'required': ['action_items', 'topic', 'tone'],\n",
      " 'title': 'Email',\n",
      " 'type': 'object'}\n"
     ]
    }
   ],
   "source": [
    "import pprint\n",
    "\n",
    "pprint.pprint(task.schema.schema())"
   ]
  },
  {
   "cell_type": "markdown",
   "id": "b462f7b8-fd42-4613-ab5f-5f3cbbc37d28",
   "metadata": {},
   "source": [
    "## Define an extraction chain\n",
    "\n",
    "Let's build the extraction chain that we can use to get structured information from the emails."
   ]
  },
  {
   "cell_type": "code",
   "execution_count": 10,
   "id": "b7536a5b-0140-4c38-88c6-50921307677d",
   "metadata": {
    "tags": []
   },
   "outputs": [],
   "source": [
    "from langchain.chat_models import ChatOpenAI\n",
    "\n",
    "from langchain_benchmarks.extraction.implementations import (\n",
    "    create_openai_function_based_extractor,\n",
    ")"
   ]
  },
  {
   "cell_type": "code",
   "execution_count": 11,
   "id": "ade7077c-4602-4e5b-ad6d-3eb43cbd0247",
   "metadata": {
    "tags": []
   },
   "outputs": [],
   "source": [
    "extraction_chain = create_openai_function_based_extractor(\n",
    "    task.instructions, ChatOpenAI(model=\"gpt-3.5-turbo-16k\", temperature=0), task.schema\n",
    ")"
   ]
  },
  {
   "cell_type": "code",
   "execution_count": 12,
   "id": "f66ed218-e1db-49b5-bde3-40ebec961723",
   "metadata": {
    "tags": []
   },
   "outputs": [
    {
     "data": {
      "text/plain": [
       "{'output': {'sender': 'Unknown',\n",
       "  'sender_phone_number': '000-1212-1111',\n",
       "  'sender_address': '12345 My Gold Way',\n",
       "  'action_items': ['Buy an envelope',\n",
       "   'Put gold inside',\n",
       "   'Close the envelope',\n",
       "   \"Mail it to sender's address\"],\n",
       "  'topic': 'Request to send gold',\n",
       "  'tone': 'positive'}}"
      ]
     },
     "execution_count": 12,
     "metadata": {},
     "output_type": "execute_result"
    }
   ],
   "source": [
    "extraction_chain.invoke(\n",
    "    {\n",
    "        \"input\": \"Hello Dear MR. I want you to send me gold to get rich.\"\n",
    "        \" First buy an envelope. Then open it and put some gold inside. \"\n",
    "        \"Then close it and finally mail it to my address at 12345 My Gold Way.\"\n",
    "        \" You can call me any time at 000-1212-1111.\"\n",
    "    }\n",
    ")"
   ]
  },
  {
   "cell_type": "markdown",
   "id": "87a64f76-65ae-4367-b43f-f2be3431e7af",
   "metadata": {},
   "source": [
    "Now it's time to measure our chain's effectiveness!"
   ]
  },
  {
   "cell_type": "markdown",
   "id": "3821e4b0-8e67-418a-840c-470fcde42df0",
   "metadata": {},
   "source": [
    "## Evaluate\n",
    "\n",
    "Let's evaluate the chain now."
   ]
  },
  {
   "cell_type": "code",
   "execution_count": 13,
   "id": "513042fe-2878-44f8-ae84-05b9d521c1de",
   "metadata": {
    "tags": []
   },
   "outputs": [],
   "source": [
    "from langsmith.client import Client\n",
    "\n",
    "from langchain_benchmarks.extraction import get_eval_config"
   ]
  },
  {
   "cell_type": "code",
   "execution_count": 14,
   "id": "2bedd9d1-fc06-4066-9f89-b874ae818d82",
   "metadata": {
    "tags": []
   },
   "outputs": [],
   "source": [
    "client = Client()"
   ]
  },
  {
   "cell_type": "code",
   "execution_count": 17,
   "id": "6826a2c6-8443-4215-9e15-b6f4bb570405",
   "metadata": {
    "tags": []
   },
   "outputs": [],
   "source": [
    "eval_llm = ChatOpenAI(model=\"gpt-4\", model_kwargs={\"seed\": 42})\n",
    "eval_config = get_eval_config(eval_llm)"
   ]
  },
  {
   "cell_type": "code",
   "execution_count": null,
   "id": "aab7514e-a6ef-4c21-b90f-d9cbefcf5af1",
   "metadata": {
    "tags": []
   },
   "outputs": [
    {
     "name": "stdout",
     "output_type": "stream",
     "text": [
      "View the evaluation results for project 'test-notable-cake-39' at:\n",
      "https://smith.langchain.com/o/ebbaf2eb-769b-4505-aca2-d11de10372a4/projects/p/9950f779-8f98-4ca0-90ab-30e4f9f7af6c?eval=true\n",
      "\n",
      "View all tests for Dataset Email Extraction at:\n",
      "https://smith.langchain.com/o/ebbaf2eb-769b-4505-aca2-d11de10372a4/datasets/309a2fce-ce68-43aa-befb-67f94d0c3570\n",
      "[------------------------------------------------->] 42/42"
     ]
    }
   ],
   "source": [
    "test_run = client.run_on_dataset(\n",
    "    dataset_name=task.name,\n",
    "    llm_or_chain_factory=extraction_chain,\n",
    "    evaluation=eval_config,\n",
    "    verbose=True,\n",
    "    tags=[\"openai-functions\"],\n",
    ")"
   ]
  },
  {
   "cell_type": "markdown",
   "id": "1b039225-01cf-481a-87a6-4e880e9b1dcd",
   "metadata": {},
   "source": [
    "## Inspect\n",
    "\n",
    "Here, we'll take a look at the underlying results a little bit.\n",
    "\n",
    "A few things to note:\n",
    "\n",
    "* The correctness is 66% (so it's messing up a lot!)\n",
    "* The number of tool invocations made by the agent can be very large; e.g., 15 invocations, when only a single invocation was actually needed."
   ]
  },
  {
   "cell_type": "code",
   "execution_count": null,
   "id": "6eb19db1-43b8-4866-a3d2-f211ba92ab8b",
   "metadata": {
    "tags": []
   },
   "outputs": [],
   "source": [
    "import pandas as pd\n",
    "\n",
    "df = test_run.to_dataframe()\n",
    "df = pd.json_normalize(df.to_dict(orient=\"records\"))"
   ]
  },
  {
   "cell_type": "code",
   "execution_count": null,
   "id": "7ab5a8b9-a937-4537-b879-704284df4494",
   "metadata": {
    "tags": []
   },
   "outputs": [],
   "source": [
    "df"
   ]
  },
  {
   "cell_type": "markdown",
   "id": "416dce43-7e76-431c-b556-55abef32f393",
   "metadata": {},
   "source": [
    "An example of a poorly behaving agent that seems to have gotten stuck in a loop!"
   ]
  }
 ],
 "metadata": {
  "kernelspec": {
   "display_name": "Python 3 (ipykernel)",
   "language": "python",
   "name": "python3"
  },
  "language_info": {
   "codemirror_mode": {
    "name": "ipython",
    "version": 3
   },
   "file_extension": ".py",
   "mimetype": "text/x-python",
   "name": "python",
   "nbconvert_exporter": "python",
   "pygments_lexer": "ipython3",
   "version": "3.11.2"
  }
 },
 "nbformat": 4,
 "nbformat_minor": 5
}
